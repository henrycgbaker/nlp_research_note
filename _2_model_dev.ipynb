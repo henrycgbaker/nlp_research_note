{
  "cells": [
    {
      "cell_type": "markdown",
      "metadata": {
        "id": "zQscgt_pkpj7"
      },
      "source": [
        "<a href=\"https://colab.research.google.com/github/henrycgbaker/nlp_research_note/blob/main/research_note.ipynb\" target=\"_parent\"><img src=\"https://colab.research.google.com/assets/colab-badge.svg\" alt=\"Open In Colab\"/></a>"
      ]
    },
    {
      "cell_type": "code",
      "execution_count": 2,
      "metadata": {
        "id": "hVV99Amdkpj-"
      },
      "outputs": [
        {
          "name": "stderr",
          "output_type": "stream",
          "text": [
            "/Users/henrybaker/miniconda3/envs/nlp_1/lib/python3.9/site-packages/tqdm/auto.py:21: TqdmWarning: IProgress not found. Please update jupyter and ipywidgets. See https://ipywidgets.readthedocs.io/en/stable/user_install.html\n",
            "  from .autonotebook import tqdm as notebook_tqdm\n"
          ]
        }
      ],
      "source": [
        "# !pip install datasets fasttext evaluate\n",
        "import os\n",
        "import subprocess\n",
        "import time\n",
        "import kagglehub\n",
        "import pandas as pd\n",
        "import numpy as np\n",
        "from datasets import Dataset, DatasetDict, Features, Value, ClassLabel\n",
        "from sklearn.model_selection import train_test_split\n",
        "from sklearn.metrics import f1_score, accuracy_score\n",
        "from sklearn.feature_extraction.text import CountVectorizer\n",
        "from imblearn.under_sampling import RandomUnderSampler\n",
        "import spacy\n",
        "import spacy.cli\n",
        "import fasttext.util as fasttext_util\n",
        "import fasttext\n",
        "from collections import Counter\n",
        "import collections\n",
        "from torch.utils.data import DataLoader\n",
        "import torch.nn as nn\n",
        "import torch\n",
        "import tqdm\n",
        "import pickle\n",
        "from transformers import AutoTokenizer, AutoModelForSequenceClassification, TrainingArguments, Trainer, EarlyStoppingCallback\n",
        "import evaluate\n",
        "import warnings\n",
        "import sys\n",
        "from tqdm import tqdm\n",
        "import matplotlib.pyplot as plt\n",
        "\n",
        "device = torch.device(\"mps\") if torch.backends.mps.is_available() else torch.device(\"cuda\" if torch.cuda.is_available() else \"cpu\")\n",
        "warnings.filterwarnings(\"ignore\")"
      ]
    },
    {
      "cell_type": "code",
      "execution_count": 2,
      "metadata": {
        "colab": {
          "base_uri": "https://localhost:8080/"
        },
        "id": "t9ush0qlkpkB",
        "outputId": "850e0fac-7e02-455c-820b-77035ce993cc"
      },
      "outputs": [
        {
          "data": {
            "text/plain": [
              "\"\\nsys.path.append('./aux_scripts')\\nfrom  misinfo_tokenizer import (get_trained_tokenizer,\\n                                batch_tokenize,\\n                                #vocab_mapping,\\n                                custom_analyzer\\n                                )\\nfrom data_loader_helpers import (#Collator,\\n                                 embedding_mapping_fasttext\\n                                 )\\n\""
            ]
          },
          "execution_count": 2,
          "metadata": {},
          "output_type": "execute_result"
        }
      ],
      "source": [
        "# load helper functions & scripts ----------------------------------------------\n",
        "'''\n",
        "sys.path.append('./aux_scripts')\n",
        "from  misinfo_tokenizer import (get_trained_tokenizer,\n",
        "                                batch_tokenize,\n",
        "                                #vocab_mapping,\n",
        "                                custom_analyzer\n",
        "                                )\n",
        "from data_loader_helpers import (#Collator,\n",
        "                                 embedding_mapping_fasttext\n",
        "                                 )\n",
        "'''"
      ]
    },
    {
      "cell_type": "code",
      "execution_count": 3,
      "metadata": {},
      "outputs": [
        {
          "name": "stdout",
          "output_type": "stream",
          "text": [
            "Loading data\n"
          ]
        }
      ],
      "source": [
        "# DATA\n",
        "DATA_DIR = \"./data\"\n",
        "TRAIN_DATA_FILE = \"./data/twitter_train_data.csv\"\n",
        "TEST_DATA_FILE = \"./data/twitter_test_data.csv\"\n",
        "\n",
        "def check_and_load_data():\n",
        "    if os.path.exists(TRAIN_DATA_FILE) and os.path.exists(TEST_DATA_FILE):\n",
        "        print(\"Loading data\")\n",
        "        train_df = pd.read_csv(TRAIN_DATA_FILE)\n",
        "        test_df = pd.read_csv(TEST_DATA_FILE)\n",
        "        return train_df, test_df\n",
        "    else:\n",
        "        os.makedirs(DATA_DIR, exist_ok=True)\n",
        "        print(\"Calling data processing script\")\n",
        "        \n",
        "        # call pynb script\n",
        "        subprocess.run(['jupyter', 'nbconvert', '--execute', '--to', 'notebook', '--inplace', '_1_data_processing.ipynb'])\n",
        "        \n",
        "        # ensure the notebook script finishes execution\n",
        "        time.sleep(5) \n",
        "        \n",
        "        # recursively call to check for the files again\n",
        "        return check_and_load_data()\n",
        "\n",
        "train_df, test_df = check_and_load_data()\n"
      ]
    },
    {
      "cell_type": "markdown",
      "metadata": {
        "id": "SheMDmROkpkE"
      },
      "source": [
        "---\n",
        "# Import `Model Development Data`\n",
        "See `data_processing script`"
      ]
    },
    {
      "cell_type": "code",
      "execution_count": 4,
      "metadata": {},
      "outputs": [
        {
          "name": "stdout",
          "output_type": "stream",
          "text": [
            "Collecting en-core-web-sm==3.8.0\n",
            "  Downloading https://github.com/explosion/spacy-models/releases/download/en_core_web_sm-3.8.0/en_core_web_sm-3.8.0-py3-none-any.whl (12.8 MB)\n",
            "\u001b[2K     \u001b[90m━━━━━━━━━━━━━━━━━━━━━━━━━━━━━━━━━━━━━━━━\u001b[0m \u001b[32m12.8/12.8 MB\u001b[0m \u001b[31m40.7 MB/s\u001b[0m eta \u001b[36m0:00:00\u001b[0m \u001b[36m0:00:01\u001b[0m\n",
            "\u001b[?25h\u001b[38;5;2m✔ Download and installation successful\u001b[0m\n",
            "You can now load the package via spacy.load('en_core_web_sm')\n",
            "\u001b[38;5;3m⚠ Restart to reload dependencies\u001b[0m\n",
            "If you are in a Jupyter or Colab notebook, you may need to restart Python in\n",
            "order to load all the package's dependencies. You can do this by selecting the\n",
            "'Restart kernel' or 'Restart runtime' option.\n"
          ]
        }
      ],
      "source": [
        "# download spacy model for tokenization ----------------------------------------\n",
        "cache_path = './cache/'\n",
        "os.makedirs(cache_path, exist_ok=True)\n",
        "os.environ['SPACY_DATA'] = cache_path\n",
        "spacy.cli.download(\"en_core_web_sm\")"
      ]
    },
    {
      "cell_type": "code",
      "execution_count": 5,
      "metadata": {},
      "outputs": [
        {
          "name": "stdout",
          "output_type": "stream",
          "text": [
            "Pickle files not found. Running tokenization...\n",
            "No pre-fitted tokenizer found or no file specified. Creating a new one...\n",
            "Saving fitted tokenizer to './cache/rnn_tokenizer_file.pkl'...\n",
            "Tokenizing Train Data in Batches...\n",
            "Tokenizing batch 200 of 238...\n",
            "Tokenizing batch 238 of 238...\n",
            "Tokenizing Test Data in Batches...\n",
            "Tokenizing batch 60 of 60...\n",
            "Train inputs tokenised: 7598\n",
            "Test inputs tokenised: 1900\n"
          ]
        }
      ],
      "source": [
        "# DEFINE TOKENIZATION FLOW =====================================================================\n",
        "\n",
        "nlp = spacy.load(\"en_core_web_sm\", \n",
        "                 disable=[\"tok2vec\", \"tagger\", \"parser\", \"ner\", \"lemmatizer\", \"attribute_ruler\"])\n",
        "\n",
        "def custom_tokenizer(text):\n",
        "    tokenized_text = nlp(text)\n",
        "    return [tok.text for tok in tokenized_text]\n",
        "\n",
        "def custom_analyzer(text, trained_tokenizer):\n",
        "    \"\"\"\n",
        "    Uses the custom_tokenizer, then replaces out-of-vocabulary tokens with <unk>.\n",
        "    \"\"\"\n",
        "    tokens = custom_tokenizer(text)\n",
        "    vocab = trained_tokenizer.vocabulary_\n",
        "    return [token if token in vocab else \"<unk>\" for token in tokens]\n",
        "\n",
        "def get_trained_tokenizer(text_series, rnn_tokenizer_file=None, min_df=3):\n",
        "    \"\"\"\n",
        "    1) Checks if a previously fitted tokenizer exists in tokenizer_file.\n",
        "    2) If not, create a new CountVectorizer, fit it on 'text_series'.\n",
        "    3) Save the fitted tokenizer if tokenizer_file is provided.\n",
        "    4) Return the tokenizer.\n",
        "    \"\"\"\n",
        "    # ensure dir exists, but check if it's a file first\n",
        "    if rnn_tokenizer_file:\n",
        "        tokenizer_dir = os.path.dirname(rnn_tokenizer_file)\n",
        "        if os.path.exists(tokenizer_dir):\n",
        "            if os.path.isfile(tokenizer_dir):\n",
        "                raise FileExistsError(f\"The path '{tokenizer_dir}' exists but is a file, not a directory.\")\n",
        "        else:\n",
        "            os.makedirs(tokenizer_dir, exist_ok=True)\n",
        "\n",
        "    if rnn_tokenizer_file and os.path.exists(rnn_tokenizer_file):\n",
        "        print(f\"Tokenizer file '{rnn_tokenizer_file}' found. Loading it...\")\n",
        "        with open(rnn_tokenizer_file, 'rb') as f:\n",
        "            tokenizer = pickle.load(f)\n",
        "    else:\n",
        "        print(\"No pre-fitted tokenizer found or no file specified. Creating a new one...\")\n",
        "        tokenizer = CountVectorizer(\n",
        "            analyzer=\"word\",\n",
        "            tokenizer=custom_tokenizer, \n",
        "            lowercase=False,\n",
        "            min_df=min_df\n",
        "        )\n",
        "        tokenizer.fit(text_series)\n",
        "        \n",
        "        if rnn_tokenizer_file:\n",
        "            print(f\"Saving fitted tokenizer to '{rnn_tokenizer_file}'...\")\n",
        "            with open(rnn_tokenizer_file, 'wb') as f:\n",
        "                pickle.dump(tokenizer, f)\n",
        "\n",
        "    return tokenizer\n",
        "\n",
        "def batch_tokenize(text_series, batch_size, analyzer_func):\n",
        "    \"\"\"\n",
        "    Tokenizes a Pandas Series of text in batches to avoid memory issues.\n",
        "    \"\"\"\n",
        "    tokenized_result = []\n",
        "    total = len(text_series)\n",
        "    num_batches = (total // batch_size) + (1 if total % batch_size != 0 else 0)\n",
        "    \n",
        "    for batch_idx in range(0, total, batch_size):\n",
        "        \n",
        "        if (batch_idx // batch_size + 1) % 200 == 0 or (batch_idx + batch_size >= total):\n",
        "            print(f'Tokenizing batch {batch_idx // batch_size + 1} of {num_batches}...')\n",
        "        \n",
        "        batch_texts = text_series[batch_idx : batch_idx + batch_size]\n",
        "        for text in batch_texts:\n",
        "            tokenized_result.append(analyzer_func(text))\n",
        "    \n",
        "    return tokenized_result\n",
        "\n",
        "# TOKENIZATION ==========================================================================\n",
        "TOKENIZER_DIR = './cache' \n",
        "RNN_TOKENIZER_PKL_PATH = os.path.join(TOKENIZER_DIR, 'rnn_tokenizer_file.pkl')  \n",
        "train_tokenised_file = os.path.join(TOKENIZER_DIR, 'misinfo_train_tokenised.pkl')\n",
        "test_tokenised_file = os.path.join(TOKENIZER_DIR, 'misinfo_test_tokenised.pkl')\n",
        "\n",
        "if os.path.exists(train_tokenised_file) and os.path.exists(test_tokenised_file):\n",
        "    print(\"Tokenized text pkl files found: loading data...\")\n",
        "    with open(train_tokenised_file, 'rb') as f:\n",
        "        misinfo_train_tokenised = pickle.load(f)\n",
        "    with open(test_tokenised_file, 'rb') as f:\n",
        "        misinfo_test_tokenised = pickle.load(f)\n",
        "\n",
        "else:\n",
        "    print(\"Pickle files not found. Running tokenization...\")\n",
        "\n",
        "    # 1) train tokenizer\n",
        "    misinfo_tokenizer = get_trained_tokenizer(\n",
        "        train_df[\"text\"],\n",
        "        rnn_tokenizer_file=RNN_TOKENIZER_PKL_PATH,  # Path fixed\n",
        "        min_df=3\n",
        "    )\n",
        "\n",
        "    # build analyzer from tokenizer\n",
        "    misinfo_tokenizer_analyzer = misinfo_tokenizer.build_analyzer()\n",
        "\n",
        "    # 2) Tokenize train data in batches using built analyzer (trained on train set)\n",
        "    print(\"Tokenizing Train Data in Batches...\")\n",
        "    misinfo_train_tokenised = batch_tokenize(\n",
        "        train_df[\"text\"],\n",
        "        32,\n",
        "        misinfo_tokenizer_analyzer\n",
        "    )\n",
        "    \n",
        "    # 3) Tokenize test data in batches using custom_analyzer (which replaces OOV tokens with <unk>)\n",
        "    print(\"Tokenizing Test Data in Batches...\")\n",
        "    misinfo_test_tokenised = batch_tokenize(\n",
        "        test_df[\"text\"],\n",
        "        32,\n",
        "        lambda text: custom_analyzer(text, trained_tokenizer=misinfo_tokenizer)\n",
        "    )\n",
        "    os.makedirs(TOKENIZER_DIR, exist_ok=True) \n",
        "    \n",
        "    with open(train_tokenised_file, 'wb') as f:\n",
        "        pickle.dump(misinfo_train_tokenised, f)\n",
        "    \n",
        "    with open(test_tokenised_file, 'wb') as f:\n",
        "        pickle.dump(misinfo_test_tokenised, f)\n",
        "\n",
        "print(\"Train inputs tokenised:\", len(misinfo_train_tokenised))\n",
        "print(\"Test inputs tokenised:\", len(misinfo_test_tokenised))\n"
      ]
    },
    {
      "cell_type": "code",
      "execution_count": 6,
      "metadata": {},
      "outputs": [
        {
          "name": "stdout",
          "output_type": "stream",
          "text": [
            "Calculating token distributions for training set...\n",
            "Total unique tokens in train set: 77215\n",
            "Plotting token distribution...\n"
          ]
        },
        {
          "data": {
            "image/png": "[encoded data removed]",
            "text/plain": [
              "<Figure size 1000x600 with 1 Axes>"
            ]
          },
          "metadata": {},
          "output_type": "display_data"
        },
        {
          "name": "stdout",
          "output_type": "stream",
          "text": [
            "Plotting token distribution...\n"
          ]
        },
        {
          "data": {
            "image/png": "[encoded data removed]",
            "text/plain": [
              "<Figure size 1000x600 with 1 Axes>"
            ]
          },
          "metadata": {},
          "output_type": "display_data"
        }
      ],
      "source": [
        "def get_token_distribution(tokenized_data):\n",
        "    \"\"\"\n",
        "    Calculate the distribution of tokens from a list of tokenized sentences.\n",
        "    \"\"\"\n",
        "    all_tokens = [token for tokens in tokenized_data for token in tokens]\n",
        "    token_counts = collections.Counter(all_tokens)\n",
        "    return token_counts\n",
        "\n",
        "def plot_token_distribution(token_counts, top_n=30, fontsize=10):\n",
        "    \"\"\"\n",
        "    Plot the distribution of the top N most frequent tokens.\n",
        "    \"\"\"\n",
        "    most_common = token_counts.most_common(top_n)\n",
        "    tokens, counts = zip(*most_common)\n",
        "    \n",
        "    plt.figure(figsize=(10, 6))\n",
        "    plt.bar(tokens, counts)\n",
        "    plt.xlabel(\"Tokens\")\n",
        "    plt.ylabel(\"Frequency\")\n",
        "    plt.title(f\"Top {top_n} Most Frequent Tokens\")\n",
        "    plt.xticks(rotation=45, fontsize=fontsize) \n",
        "    plt.show()\n",
        "\n",
        "print(\"Calculating token distributions for training set...\")\n",
        "train_token_counts = get_token_distribution(misinfo_train_tokenised)\n",
        "print(f\"Total unique tokens in train set: {len(train_token_counts)}\")\n",
        "\n",
        "print(\"Plotting token distribution...\")\n",
        "plot_token_distribution(train_token_counts, top_n=30)\n",
        "\n",
        "print(\"Plotting token distribution...\")\n",
        "plot_token_distribution(train_token_counts, top_n=100, fontsize=6)"
      ]
    },
    {
      "cell_type": "code",
      "execution_count": 7,
      "metadata": {},
      "outputs": [
        {
          "name": "stdout",
          "output_type": "stream",
          "text": [
            "Vocab size: 77217\n",
            "Vocab example: [('<pad>', 0), ('<unk>', 1), ('the', 2), (',', 3), ('.', 4), ('to', 5), ('of', 6), ('and', 7), ('a', 8), ('in', 9), (' ', 10), ('that', 11), ('-', 12), ('on', 13), ('for', 14), ('is', 15), ('s', 16), ('it', 17), ('said', 18), ('he', 19)]\n"
          ]
        }
      ],
      "source": [
        "# STEP 1: INPUT PIPELINE ================================================================\n",
        "\n",
        "# vocabulary indexing -------------------------------------------------------------------\n",
        "def vocab_mapping(tokenized_text):\n",
        "    token_counts = Counter()\n",
        "    for text in tokenized_text:\n",
        "        token_counts.update(text)\n",
        "    special_tokens = [\"<pad>\", \"<unk>\"]\n",
        "    vocab_tokens = special_tokens + [token for token, freq in token_counts.most_common()]\n",
        "    vocab = {token: idx for idx, token in enumerate(vocab_tokens)}\n",
        "    return vocab\n",
        "\n",
        "vocab_idx = vocab_mapping(tokenized_text=misinfo_train_tokenised)\n",
        "\n",
        "print(f\"Vocab size: {len(vocab_idx)}\")\n",
        "print(f\"Vocab first 20 idx printed: {list(vocab_idx.items())[:20]}\")\n",
        "\n",
        "with open(\"./cache/vocab_idx.pkl\", \"wb\") as f:\n",
        "    pickle.dump(vocab_idx, f)"
      ]
    },
    {
      "cell_type": "code",
      "execution_count": 8,
      "metadata": {},
      "outputs": [],
      "source": [
        "# create data loaders -------------------------------------------------------------------\n",
        "\n",
        "def collate_fn(data, include_lengths=True):\n",
        "    text_list, label_list, lengths = [], [], []\n",
        "    for _text, _label in data:\n",
        "        # integer encoding with truncation\n",
        "        processed_text = torch.tensor([vocab_idx[token] for token in _text][:max_seq_length],\n",
        "                                      dtype=torch.int64)\n",
        "        text_list.append(processed_text)\n",
        "        label_list.append(_label)\n",
        "        lengths.append(processed_text.size(0))\n",
        "    label_list = torch.tensor(label_list)\n",
        "    lengths = torch.tensor(lengths)\n",
        "    # padding\n",
        "    padded_text_list = nn.utils.rnn.pad_sequence(text_list,\n",
        "                                                 batch_first=True,\n",
        "                                                 padding_value=0)\n",
        "    if include_lengths:\n",
        "        return padded_text_list, label_list, lengths\n",
        "    else:\n",
        "        return padded_text_list, label_list\n",
        "\n",
        "max_seq_length = 300 # too long for full RNNs\n",
        "batch_size = 32\n",
        "\n",
        "# standard dls with collate_fn\n",
        "train_dl = DataLoader(dataset=list(zip(misinfo_train_tokenised,\n",
        "                                         train_df[\"label\"])),\n",
        "                        batch_size=32, shuffle=True, \n",
        "                        collate_fn=lambda x: collate_fn(x, include_lengths=True))\n",
        "\n",
        "test_dl = DataLoader(dataset=list(zip(misinfo_test_tokenised,\n",
        "                                         test_df[\"label\"])),\n",
        "                        batch_size=32, shuffle=False, \n",
        "                        collate_fn=lambda x: collate_fn(x, include_lengths=True))\n",
        "\n",
        "# dls w/o collate_fn for CNNs:\n",
        "train_dl_cnn = DataLoader(dataset=list(zip(misinfo_train_tokenised,\n",
        "                                         train_df[\"label\"])),\n",
        "                        batch_size=32, shuffle=True,\n",
        "                        collate_fn=lambda x: collate_fn(x, include_lengths=False))\n",
        "\n",
        "test_dl_cnn = DataLoader(dataset=list(zip(misinfo_test_tokenised,\n",
        "                                         test_df[\"label\"])),\n",
        "                         batch_size=32, shuffle=True,\n",
        "                        collate_fn=lambda x: collate_fn(x, include_lengths=False))"
      ]
    },
    {
      "cell_type": "code",
      "execution_count": 9,
      "metadata": {},
      "outputs": [
        {
          "name": "stdout",
          "output_type": "stream",
          "text": [
            "Inspecting train_dl:\n",
            "Total number of batches: 238\n",
            "Number of tokens per sequence (all): [300, 300, 37, 300, 300, 24, 300, 300, 129, 300, 300, 45, 300, 46, 300, 1, 300, 300, 300, 230, 300, 300, 59, 1, 300, 53, 1, 300, 170, 300, 30, 41, 300, 1, 300, 300, 1, 300, 300, 300, 73, 300, 300, 300, 300, 300, 1, 294, 300, 291, 300, 1, 117, 300, 300, 300, 300, 300, 300, 300, 118, 1, 300, 1, 300, 300, 300, 17, 300, 300, 119, 300, 300, 300, 37, 25, 54, 18, 1, 300, 1, 300, 24, 300, 300, 300, 300, 300, 300, 300, 300, 1, 53, 300, 300, 300, 300, 300, 27, 300, 300, 300, 300, 300, 300, 300, 300, 300, 300, 300, 300, 300, 300, 300, 300, 300, 300, 300, 236, 300, 54, 300, 23, 1, 300, 161, 300, 300, 31, 300, 300, 300, 300, 263, 300, 28, 1, 45, 300, 256, 300, 300, 300, 300, 300, 300, 186, 300, 300, 300, 28, 300, 69, 300, 300, 300, 300, 300, 300, 300, 300, 300, 300, 300, 300, 300, 300, 300, 300, 300, 1, 300, 50, 300, 300, 300, 300, 21, 19, 300, 300, 300, 53, 214, 97, 300, 36, 300, 300, 22, 300, 300, 54, 300, 300, 236, 300, 300, 300, 300, 300, 300, 300, 300, 300, 300, 300, 300, 300, 42, 300, 300, 300, 300, 300, 300, 300, 40, 300, 37, 300, 300, 300, 300, 300, 300, 1, 300, 1, 300, 1, 56, 300, 300, 300, 300, 300, 300, 300, 300, 300, 300, 300, 300, 24, 300, 234, 300, 300, 73, 300, 300, 1, 300, 55, 300, 300, 47, 300, 300, 25, 300, 251, 300, 300, 300, 278, 300, 15, 300, 300, 300, 300, 300, 300, 300, 300, 24, 300, 300, 300, 28, 300, 300, 300, 300, 1, 300, 300, 300, 300, 300, 1, 300, 300, 300, 21, 300, 300, 53, 300, 1, 53, 300, 300, 300, 300, 100, 300, 300, 300, 36, 300, 300, 300, 300, 64, 300, 300, 1, 300, 300, 216, 300, 135, 300, 48, 300, 300, 300, 300, 300, 36, 300, 300, 145, 300, 300, 300, 300, 53, 39, 300, 300, 300, 300, 228, 300, 300, 1, 300, 50, 300, 116, 300, 300, 120, 42, 300, 300, 1, 26, 13, 1, 300, 236, 300, 300, 61, 20, 300, 300, 300, 300, 300, 56, 300, 300, 300, 300, 300, 101, 74, 300, 300, 274, 1, 42, 300, 300, 224, 1, 300, 300, 300, 300, 300, 300, 44, 300, 300, 300, 300, 300, 300, 300, 300, 1, 300, 300, 300, 279, 300, 18, 300, 46, 300, 300, 300, 300, 300, 300, 300, 28, 105, 300, 300, 300, 300, 300, 300, 239, 300, 42, 300, 300, 245, 300, 1, 63, 280, 300, 300, 300, 300, 300, 300, 300, 19, 300, 300, 300, 35, 300, 1, 300, 300, 300, 300, 300, 300, 25, 300, 300, 300, 300, 42, 286, 300, 205, 292, 300, 1, 300, 300, 24, 229, 300, 178, 300, 300, 38, 300, 300, 300, 300, 300, 1, 300, 300, 300, 300, 15, 300, 300, 300, 300, 300, 28, 300, 1, 300, 300, 300, 300, 300, 300, 300, 300, 300, 300, 300, 19, 300, 300, 300, 300, 300, 300, 300, 300, 300, 300, 300, 300, 48, 30, 300, 300, 58, 259, 300, 300, 300, 300, 300, 300, 300, 300, 300, 300, 300, 24, 48, 300, 47, 219, 300, 300, 38, 246, 245, 300, 300, 185, 297, 300, 300, 300, 300, 300, 300, 300, 300, 245, 300, 300, 300, 49, 1, 23, 300, 1, 1, 49, 300, 300, 300, 300, 300, 300, 300, 1, 300, 44, 300, 85, 36, 281, 300, 300, 300, 300, 300, 300, 300, 300, 300, 235, 300, 300, 300, 300, 219, 300, 183, 298, 300, 300, 300, 300, 300, 300, 300, 300, 257, 300, 300, 300, 300, 300, 300, 300, 300, 58, 48, 36, 300, 266, 119, 300, 1, 300, 300, 300, 300, 87, 300, 300, 300, 300, 300, 23, 300, 35, 58, 162, 300, 193, 98, 300, 300, 300, 300, 25, 300, 300, 300, 1, 300, 300, 20, 300, 300, 1, 300, 300, 1, 148, 118, 300, 300, 300, 300, 199, 300, 300, 300, 300, 204, 300, 300, 300, 1, 296, 300, 300, 300, 300, 300, 300, 300, 283, 53, 300, 300, 300, 300, 45, 300, 300, 291, 300, 51, 13, 300, 300, 300, 300, 300, 25, 300, 300, 300, 300, 300, 300, 300, 300, 300, 22, 122, 300, 277, 300, 1, 300, 300, 300, 300, 300, 300, 41, 300, 300, 47, 300, 300, 300, 300, 300, 300, 300, 300, 300, 300, 300, 300, 300, 300, 300, 300, 300, 300, 24, 300, 300, 300, 300, 300, 300, 300, 300, 300, 300, 1, 300, 300, 300, 108, 300, 300, 300, 300, 300, 266, 300, 300, 300, 300, 300, 300, 300, 1, 300, 1, 1, 60, 300, 134, 300, 1, 300, 300, 300, 36, 279, 300, 300, 87, 300, 300, 300, 300, 300, 1, 300, 49, 300, 52, 300, 300, 300, 46, 26, 300, 58, 222, 300, 1, 300, 47, 300, 88, 1, 300, 300, 30, 300, 238, 300, 300, 300, 300, 257, 300, 29, 300, 300, 300, 300, 300, 300, 300, 300, 300, 300, 300, 300, 204, 300, 300, 300, 30, 300, 57, 300, 300, 300, 300, 58, 255, 300, 61, 300, 300, 1, 300, 300, 300, 300, 300, 300, 189, 7, 300, 15, 300, 286, 300, 300, 300, 1, 300, 300, 300, 20, 300, 300, 300, 300, 300, 300, 300, 300, 300, 300, 300, 300, 1, 24, 24, 300, 300, 300, 44, 18, 300, 39, 300, 300, 34, 105, 300, 300, 300, 300, 300, 45, 29, 53, 300, 300, 1, 1, 300, 300, 300, 300, 300, 141, 300, 300, 300, 300, 300, 300, 300, 136, 300, 300, 1, 300, 25, 300, 162, 8, 300, 283, 48, 141, 300, 52, 300, 300, 300, 300, 300, 300, 300, 300, 1, 300, 300, 139, 167, 300, 300, 300, 300, 300, 300, 300, 300, 300, 300, 300, 300, 300, 17, 1, 300, 300, 32, 300, 300, 300, 300, 300, 300, 300, 300, 300, 300, 300, 300, 300, 300, 300, 1, 300, 119, 300, 300, 300, 300, 300, 300, 300, 300, 26, 300, 300, 14, 300, 300, 81, 157, 18, 47, 300, 63, 300, 47, 300, 1, 277, 1, 300, 300, 300, 230, 300, 300, 1, 300, 118, 300, 28, 31, 300, 1, 300, 300, 300, 300, 300, 300, 300, 300, 300, 300, 300, 300, 27, 300, 300, 4, 300, 1, 300, 178, 300, 1, 300, 300, 300, 300, 300, 300, 1, 300, 300, 300, 300, 130, 274, 300, 300, 300, 22, 300, 48, 1, 47, 300, 300, 300, 300, 300, 300, 300, 300, 300, 51, 103, 300, 300, 300, 300, 18, 300, 300, 300, 300, 300, 300, 300, 300, 300, 300, 1, 230, 300, 300, 300, 300, 300, 300, 300, 1, 300, 57, 300, 27, 300, 299, 19, 300, 205, 50, 300, 276, 300, 300, 300, 25, 1, 300, 300, 300, 27, 300, 9, 300, 254, 300, 300, 1, 300, 300, 300, 300, 300, 300, 296, 300, 26, 300, 300, 300, 294, 300, 300, 300, 300, 300, 300, 38, 300, 300, 300, 300, 42, 300, 300, 245, 88, 270, 300, 300, 300, 281, 300, 1, 41, 300, 300, 300, 300, 39, 300, 1, 300, 300, 300, 300, 108, 300, 300, 300, 300, 300, 300, 300, 300, 236, 300, 300, 300, 300, 47, 300, 300, 31, 1, 300, 300, 300, 300, 53, 46, 1, 300, 300, 39, 300, 300, 300, 91, 300, 300, 300, 300, 300, 300, 1, 300, 300, 300, 300, 300, 300, 300, 300, 100, 300, 300, 300, 300, 300, 300, 300, 300, 300, 300, 127, 300, 300, 1, 25, 300, 300, 23, 300, 18, 300, 300, 300, 300, 300, 300, 300, 26, 300, 300, 300, 300, 266, 300, 44, 44, 300, 23, 300, 42, 300, 1, 300, 300, 300, 300, 300, 267, 300, 300, 300, 300, 300, 300, 300, 300, 300, 300, 300, 45, 1, 300, 300, 1, 43, 1, 300, 49, 300, 300, 300, 133, 300, 300, 300, 300, 300, 300, 1, 300, 300, 1, 300, 300, 108, 300, 300, 300, 300, 300, 300, 300, 1, 47, 300, 300, 1, 300, 300, 300, 49, 300, 300, 300, 300, 300, 28, 300, 300, 300, 34, 300, 300, 26, 300, 300, 300, 300, 300, 37, 150, 300, 300, 300, 162, 300, 300, 300, 178, 300, 300, 300, 300, 300, 300, 51, 23, 46, 25, 228, 300, 300, 300, 64, 300, 300, 300, 300, 300, 300, 192, 300, 300, 1, 300, 300, 300, 300, 300, 300, 300, 300, 21, 300, 300, 300, 300, 300, 57, 300, 300, 300, 269, 300, 26, 300, 1, 300, 44, 1, 300, 300, 1, 17, 300, 300, 300, 300, 300, 1, 300, 54, 300, 300, 300, 300, 300, 300, 300, 300, 300, 300, 1, 300, 300, 1, 300, 300, 1, 300, 300, 300, 300, 300, 300, 300, 1, 292, 1, 300, 300, 175, 300, 230, 300, 300, 300, 300, 300, 300, 30, 300, 300, 67, 300, 235, 1, 300, 21, 300, 300, 300, 300, 300, 300, 300, 256, 300, 20, 39, 300, 300, 300, 300, 12, 300, 229, 300, 300, 300, 300, 300, 300, 39, 300, 300, 300, 300, 300, 187, 300, 300, 300, 218, 22, 300, 300, 300, 300, 300, 300, 300, 1, 300, 300, 300, 300, 300, 300, 300, 31, 1, 263, 212, 44, 49, 300, 300, 300, 300, 300, 300, 8, 1, 12, 300, 277, 1, 300, 300, 300, 300, 300, 300, 300, 269, 26, 300, 1, 300, 43, 300, 300, 300, 26, 300, 300, 300, 300, 1, 300, 300, 49, 1, 300, 34, 300, 300, 300, 300, 300, 300, 300, 1, 300, 300, 8, 267, 300, 300, 300, 300, 228, 300, 43, 300, 300, 300, 300, 300, 300, 300, 100, 300, 300, 300, 300, 206, 300, 25, 300, 21, 1, 300, 13, 300, 300, 300, 22, 300, 48, 300, 300, 300, 300, 53, 26, 300, 261, 300, 300, 17, 300, 300, 300, 116, 300, 300, 200, 300, 300, 41, 300, 300, 300, 300, 300, 300, 300, 300, 300, 300, 300, 300, 300, 215, 300, 91, 300, 300, 300, 300, 300, 48, 300, 300, 300, 300, 49, 300, 34, 300, 300, 300, 300, 300, 41, 300, 300, 184, 300, 245, 300, 300, 300, 300, 286, 1, 1, 300, 51, 28, 300, 300, 300, 300, 300, 300, 300, 27, 300, 24, 14, 300, 300, 300, 300, 300, 300, 300, 300, 300, 300, 300, 300, 300, 300, 300, 300, 300, 300, 300, 300, 300, 300, 300, 81, 23, 300, 300, 300, 300, 300, 95, 22, 300, 300, 300, 31, 300, 300, 1, 296, 42, 300, 300, 300, 39, 21, 17, 300, 300, 300, 300, 33, 300, 300, 300, 15, 300, 300, 300, 300, 300, 30, 300, 300, 300, 300, 300, 300, 300, 28, 300, 1, 300, 1, 110, 35, 300, 300, 300, 300, 1, 300, 300, 272, 226, 43, 300, 300, 300, 1, 300, 300, 300, 300, 300, 300, 300, 300, 257, 300, 300, 300, 51, 18, 56, 300, 300, 300, 300, 300, 43, 300, 300, 54, 300, 247, 184, 26, 300, 300, 300, 172, 174, 300, 300, 300, 24, 300, 104, 300, 300, 300, 300, 300, 1, 1, 300, 300, 300, 300, 300, 300, 300, 300, 15, 300, 300, 300, 54, 300, 27, 300, 79, 300, 300, 300, 300, 300, 1, 300, 300, 300, 300, 300, 300, 300, 300, 300, 300, 300, 46, 1, 300, 300, 300, 300, 300, 51, 300, 251, 40, 300, 300, 300, 300, 300, 300, 300, 300, 300, 52, 36, 300, 300, 285, 300, 300, 300, 300, 300, 300, 300, 300, 36, 300, 300, 300, 300, 300, 300, 29, 300, 1, 300, 300, 1, 54, 300, 300, 300, 300, 300, 300, 300, 300, 103, 300, 300, 300, 53, 300, 300, 300, 300, 300, 300, 1, 300, 300, 300, 300, 279, 300, 300, 22, 300, 108, 300, 300, 57, 300, 49, 300, 243, 300, 300, 300, 215, 300, 27, 300, 300, 300, 262, 300, 300, 300, 44, 300, 300, 300, 29, 43, 27, 51, 27, 1, 300, 300, 300, 44, 49, 44, 300, 300, 51, 53, 300, 300, 300, 300, 300, 300, 49, 31, 1, 20, 41, 21, 300, 300, 300, 288, 48, 300, 300, 300, 300, 300, 300, 23, 22, 238, 25, 300, 300, 25, 300, 300, 300, 300, 300, 300, 300, 300, 1, 300, 300, 27, 300, 22, 300, 1, 41, 300, 23, 74, 300, 300, 19, 300, 194, 300, 59, 300, 300, 54, 14, 239, 300, 300, 300, 300, 300, 300, 300, 189, 292, 15, 43, 300, 300, 300, 300, 35, 300, 300, 300, 300, 300, 1, 300, 300, 300, 300, 1, 300, 300, 1, 300, 300, 259, 1, 300, 24, 22, 300, 300, 1, 1, 1, 300, 300, 60, 300, 300, 300, 300, 300, 296, 300, 300, 49, 300, 163, 300, 300, 300, 300, 300, 300, 300, 300, 1, 300, 300, 1, 249, 300, 300, 300, 300, 48, 25, 59, 300, 300, 300, 300, 22, 300, 300, 300, 300, 300, 300, 19, 300, 300, 300, 58, 300, 300, 300, 300, 300, 1, 300, 1, 300, 300, 1, 43, 300, 300, 300, 300, 300, 300, 300, 300, 300, 300, 300, 300, 300, 300, 271, 300, 300, 54, 300, 300, 300, 300, 47, 171, 8, 300, 59, 300, 300, 54, 300, 300, 300, 300, 1, 25, 300, 1, 300, 300, 1, 300, 1, 90, 300, 47, 300, 300, 1, 300, 300, 23, 300, 300, 300, 300, 300, 300, 82, 300, 300, 26, 300, 24, 300, 300, 1, 39, 33, 300, 300, 300, 1, 300, 280, 300, 300, 51, 300, 300, 122, 22, 300, 300, 300, 209, 300, 1, 300, 1, 48, 164, 300, 300, 300, 57, 300, 300, 300, 300, 54, 25, 300, 300, 300, 300, 300, 300, 300, 48, 300, 300, 300, 300, 300, 300, 300, 1, 300, 300, 300, 300, 265, 135, 300, 300, 300, 300, 40, 300, 300, 300, 300, 300, 1, 300, 300, 38, 1, 1, 271, 300, 56, 300, 300, 300, 300, 300, 300, 300, 46, 300, 44, 300, 300, 20, 53, 300, 300, 46, 300, 300, 300, 300, 300, 300, 58, 300, 300, 300, 300, 300, 300, 300, 231, 300, 300, 300, 300, 300, 1, 1, 192, 1, 300, 300, 300, 50, 300, 300, 300, 300, 97, 300, 145, 300, 48, 300, 300, 30, 300, 300, 300, 148, 300, 250, 300, 300, 300, 300, 51, 300, 300, 300, 1, 300, 300, 300, 300, 300, 300, 300, 300, 188, 37, 300, 300, 234, 1, 300, 44, 23, 300, 184, 300, 300, 300, 300, 300, 300, 300, 1, 1, 300, 30, 300, 300, 300, 300, 300, 300, 300, 300, 1, 104, 300, 43, 300, 29, 150, 249, 300, 300, 300, 300, 300, 114, 300, 300, 300, 300, 300, 23, 300, 300, 300, 300, 145, 1, 300, 29, 300, 300, 198, 300, 300, 300, 33, 300, 50, 300, 300, 300, 300, 300, 1, 300, 300, 298, 300, 300, 300, 39, 300, 300, 41, 300, 300, 45, 198, 300, 179, 300, 300, 300, 300, 300, 300, 111, 300, 1, 148, 300, 31, 300, 300, 56, 300, 300, 300, 300, 300, 300, 300, 300, 27, 300, 1, 300, 300, 300, 12, 300, 300, 300, 300, 300, 45, 300, 300, 53, 300, 1, 300, 300, 1, 300, 300, 300, 300, 300, 300, 300, 300, 246, 300, 300, 291, 300, 17, 51, 300, 300, 300, 29, 300, 300, 261, 300, 300, 269, 1, 300, 43, 300, 300, 50, 300, 300, 300, 24, 20, 300, 46, 300, 128, 300, 300, 300, 43, 300, 300, 52, 300, 300, 137, 300, 300, 300, 300, 300, 300, 300, 1, 35, 300, 1, 300, 300, 51, 28, 38, 300, 1, 300, 300, 300, 300, 44, 15, 1, 22, 49, 176, 300, 163, 300, 300, 300, 300, 13, 15, 300, 300, 300, 300, 300, 300, 300, 300, 300, 300, 300, 300, 300, 47, 51, 48, 253, 300, 300, 300, 300, 300, 300, 300, 1, 300, 300, 37, 50, 300, 54, 49, 296, 300, 1, 55, 300, 300, 146, 300, 261, 300, 1, 300, 300, 300, 300, 192, 300, 24, 300, 300, 300, 300, 300, 300, 1, 300, 300, 300, 300, 300, 1, 300, 300, 300, 300, 300, 300, 300, 45, 300, 300, 300, 87, 300, 300, 300, 300, 1, 300, 1, 300, 1, 1, 300, 300, 300, 300, 300, 300, 300, 300, 23, 300, 300, 24, 176, 300, 300, 300, 300, 38, 1, 300, 300, 138, 300, 53, 217, 300, 79, 300, 25, 300, 300, 300, 39, 300, 300, 1, 300, 1, 300, 300, 300, 300, 300, 24, 36, 1, 300, 50, 300, 300, 300, 1, 300, 300, 168, 300, 300, 42, 300, 300, 61, 300, 300, 300, 300, 300, 300, 300, 300, 300, 300, 300, 300, 300, 300, 300, 300, 257, 300, 22, 300, 300, 213, 300, 281, 45, 23, 300, 24, 300, 25, 15, 300, 300, 212, 300, 300, 20, 1, 300, 59, 300, 300, 300, 300, 20, 300, 26, 300, 1, 300, 289, 300, 300, 300, 46, 300, 180, 300, 300, 300, 300, 239, 300, 300, 300, 300, 300, 300, 31, 300, 1, 228, 297, 300, 300, 300, 300, 300, 300, 130, 300, 251, 24, 300, 300, 300, 300, 1, 300, 300, 300, 24, 141, 253, 300, 300, 300, 300, 287, 300, 203, 300, 300, 1, 300, 104, 300, 300, 192, 267, 52, 300, 300, 20, 300, 300, 300, 226, 300, 300, 300, 300, 300, 300, 300, 300, 300, 52, 300, 40, 300, 27, 300, 300, 1, 300, 300, 300, 300, 300, 300, 300, 13, 300, 257, 300, 300, 27, 300, 27, 28, 300, 300, 300, 300, 300, 300, 300, 300, 121, 300, 300, 300, 300, 300, 300, 300, 300, 23, 300, 300, 282, 300, 300, 300, 300, 186, 211, 132, 300, 300, 300, 300, 268, 263, 73, 300, 300, 300, 51, 300, 300, 300, 48, 300, 300, 300, 300, 300, 1, 269, 300, 300, 1, 38, 300, 46, 300, 253, 300, 300, 300, 300, 1, 300, 300, 300, 300, 300, 300, 300, 300, 300, 300, 300, 35, 22, 1, 300, 277, 1, 300, 300, 300, 300, 300, 300, 300, 120, 300, 300, 300, 300, 300, 300, 300, 300, 300, 300, 300, 300, 1, 282, 300, 1, 1, 300, 1, 300, 300, 300, 300, 300, 300, 300, 35, 300, 49, 285, 1, 300, 300, 300, 300, 177, 300, 24, 300, 300, 300, 300, 300, 300, 300, 300, 52, 300, 300, 300, 102, 62, 300, 300, 300, 300, 300, 52, 300, 300, 300, 26, 52, 300, 300, 300, 300, 300, 300, 1, 48, 43, 300, 29, 300, 300, 300, 300, 300, 300, 266, 300, 300, 300, 300, 300, 127, 300, 300, 300, 300, 300, 27, 300, 300, 1, 300, 55, 300, 300, 300, 300, 300, 300, 225, 300, 300, 300, 300, 272, 300, 300, 242, 300, 300, 300, 300, 300, 300, 300, 300, 149, 82, 300, 20, 300, 300, 16, 50, 300, 300, 300, 300, 300, 50, 54, 300, 300, 300, 300, 300, 300, 300, 37, 300, 1, 53, 300, 1, 18, 300, 300, 51, 300, 300, 300, 300, 300, 300, 300, 300, 276, 291, 300, 300, 300, 300, 1, 39, 20, 300, 300, 300, 300, 300, 300, 1, 300, 300, 24, 49, 300, 300, 300, 300, 17, 234, 1, 300, 300, 300, 300, 300, 300, 300, 149, 64, 300, 300, 35, 300, 300, 300, 300, 300, 1, 300, 1, 276, 300, 300, 300, 300, 25, 300, 300, 300, 300, 16, 56, 1, 300, 300, 45, 300, 300, 300, 52, 300, 1, 21, 300, 300, 300, 88, 1, 1, 104, 238, 18, 300, 300, 300, 268, 300, 300, 33, 300, 300, 300, 55, 300, 300, 300, 300, 46, 300, 300, 300, 300, 300, 300, 300, 265, 300, 300, 15, 300, 300, 300, 300, 55, 300, 23, 300, 300, 300, 300, 103, 37, 300, 24, 300, 300, 300, 300, 28, 300, 260, 300, 1, 300, 300, 300, 25, 300, 300, 122, 300, 300, 1, 198, 1, 300, 300, 28, 1, 300, 1, 112, 300, 300, 1, 300, 240, 300, 300, 300, 125, 300, 254, 300, 300, 300, 300, 300, 300, 146, 300, 189, 300, 300, 300, 300, 300, 300, 300, 300, 300, 300, 300, 196, 300, 23, 300, 300, 300, 300, 300, 300, 300, 51, 300, 300, 300, 300, 300, 28, 300, 45, 300, 271, 300, 300, 300, 300, 300, 300, 52, 300, 265, 300, 300, 300, 40, 300, 24, 300, 150, 300, 24, 300, 32, 300, 300, 1, 300, 35, 300, 1, 300, 300, 300, 134, 300, 300, 300, 300, 300, 300, 292, 227, 95, 300, 300, 90, 300, 300, 300, 300, 185, 300, 13, 17, 300, 300, 300, 22, 300, 300, 300, 300, 31, 300, 300, 300, 107, 300, 300, 146, 47, 300, 300, 300, 1, 199, 300, 300, 300, 300, 250, 48, 294, 300, 180, 300, 300, 1, 300, 31, 300, 135, 264, 300, 266, 18, 48, 300, 47, 300, 300, 300, 300, 300, 20, 101, 22, 300, 300, 300, 300, 300, 300, 300, 300, 130, 300, 42, 300, 1, 300, 23, 300, 286, 217, 300, 38, 41, 300, 300, 300, 300, 25, 46, 300, 300, 300, 300, 300, 300, 300, 25, 300, 300, 109, 34, 300, 300, 1, 300, 33, 28, 300, 21, 296, 300, 300, 1, 300, 300, 300, 300, 27, 49, 300, 300, 300, 300, 300, 300, 300, 300, 300, 300, 300, 300, 48, 300, 300, 26, 300, 300, 178, 300, 300, 300, 300, 300, 1, 300, 300, 300, 300, 300, 300, 300, 25, 300, 300, 300, 300, 300, 300, 300, 300, 300, 300, 1, 300, 300, 1, 300, 46, 55, 300, 300, 300, 54, 1, 1, 208, 300, 103, 1, 300, 1, 300, 300, 51, 77, 300, 62, 300, 300, 300, 300, 300, 22, 300, 1, 49, 300, 210, 44, 300, 300, 300, 300, 300, 152, 54, 36, 1, 300, 300, 300, 300, 57, 300, 300, 22, 300, 300, 300, 300, 300, 300, 300, 300, 300, 300, 300, 46, 300, 300, 1, 218, 300, 300, 20, 300, 300, 26, 300, 300, 300, 21, 300, 49, 300, 300, 300, 300, 300, 300, 300, 226, 300, 43, 1, 300, 300, 41, 300, 300, 1, 300, 300, 1, 300, 41, 300, 1, 222, 1, 41, 49, 47, 300, 300, 49, 38, 300, 28, 300, 1, 164, 300, 1, 300, 300, 48, 300, 300, 300, 300, 300, 300, 300, 300, 300, 300, 300, 30, 17, 300, 130, 300, 300, 24, 300, 300, 20, 300, 1, 300, 300, 51, 300, 300, 1, 300, 300, 230, 239, 300, 49, 1, 19, 1, 300, 1, 1, 300, 300, 300, 300, 300, 11, 300, 300, 300, 16, 138, 300, 300, 300, 238, 300, 34, 43, 210, 20, 300, 23, 300, 300, 300, 300, 1, 300, 43, 300, 50, 300, 29, 15, 300, 227, 300, 300, 300, 300, 300, 300, 300, 300, 300, 300, 300, 57, 300, 300, 300, 24, 1, 300, 300, 300, 300, 300, 1, 25, 300, 300, 300, 17, 1, 300, 22, 300, 14, 300, 300, 264, 300, 300, 1, 192, 300, 300, 300, 300, 300, 300, 300, 105, 300, 300, 53, 300, 300, 300, 206, 300, 300, 21, 300, 287, 300, 300, 30, 300, 15, 300, 300, 300, 25, 300, 300, 300, 300, 300, 125, 300, 300, 209, 300, 300, 300, 33, 300, 38, 300, 300, 1, 300, 1, 300, 300, 1, 300, 40, 300, 300, 300, 1, 260, 300, 300, 300, 300, 300, 300, 300, 23, 300, 300, 300, 244, 1, 300, 300, 300, 1, 300, 18, 300, 53, 300, 19, 262, 300, 32, 300, 52, 212, 300, 263, 300, 300, 300, 300, 300, 300, 300, 300, 300, 128, 300, 300, 300, 300, 300, 300, 300, 300, 300, 300, 300, 300, 300, 1, 300, 56, 300, 1, 58, 300, 300, 1, 300, 300, 300, 300, 300, 300, 300, 46, 300, 51, 300, 1, 300, 300, 300, 292, 149, 300, 300, 300, 300, 300, 205, 233, 300, 30, 300, 138, 300, 28, 1, 300, 300, 47, 22, 300, 300, 300, 300, 56, 1, 57, 300, 300, 1, 300, 43, 300, 300, 300, 52, 300, 189, 300, 300, 300, 1, 300, 1, 300, 300, 300, 300, 300, 23, 300, 300, 180, 300, 300, 1, 300, 277, 300, 300, 300, 300, 300, 300, 300, 26, 300, 1, 300, 1, 300, 300, 86, 1, 1, 300, 300, 300, 1, 300, 286, 300, 27, 18, 300, 1, 300, 300, 300, 300, 300, 300, 300, 300, 288, 300, 300, 300, 300, 300, 300, 49, 300, 300, 300, 300, 300, 300, 285, 300, 300, 300, 300, 300, 41, 50, 300, 300, 52, 300, 297, 21, 300, 300, 300, 300, 103, 300, 59, 300, 300, 16, 300, 300, 300, 300, 300, 300, 300, 300, 300, 300, 194, 300, 300, 300, 300, 300, 300, 300, 52, 136, 300, 32, 39, 300, 1, 300, 300, 300, 300, 1, 300, 300, 300, 1, 296, 300, 1, 300, 20, 300, 300, 300, 300, 198, 300, 39, 300, 300, 185, 300, 300, 300, 28, 300, 252, 49, 278, 300, 300, 300, 31, 300, 84, 274, 300, 300, 300, 1, 300, 274, 1, 300, 203, 1, 300, 41, 300, 300, 300, 1, 300, 300, 148, 1, 300, 27, 300, 300, 28, 300, 300, 24, 300, 25, 300, 300, 15, 300, 60, 300, 60, 300, 300, 300, 1, 300, 300, 300, 300, 300, 300, 300, 300, 300, 300, 47, 300, 300, 300, 300, 56, 300, 1, 1, 300, 300, 300, 300, 300, 210, 300, 45, 141, 104, 300, 300, 300, 300, 38, 300, 300, 300, 300, 300, 300, 300, 300, 300, 300, 300, 300, 300, 300, 44, 300, 1, 56, 1, 296, 119, 32, 300, 34, 300, 24, 300, 300, 300, 272, 300, 19, 300, 1, 300, 300, 300, 28, 300, 300, 300, 300, 300, 300, 300, 300, 300, 300, 300, 300, 300, 300, 114, 1, 300, 300, 300, 300, 300, 53, 300, 300, 300, 300, 23, 300, 55, 300, 300, 300, 300, 300, 50, 300, 300, 1, 300, 300, 300, 58, 1, 300, 274, 266, 300, 35, 300, 300, 18, 203, 300, 1, 26, 300, 300, 300, 275, 300, 300, 300, 300, 24, 300, 1, 300, 18, 300, 143, 300, 300, 300, 300, 300, 293, 300, 300, 300, 300, 300, 300, 300, 300, 300, 299, 300, 300, 300, 179, 300, 158, 300, 300, 300, 300, 222, 20, 300, 300, 300, 300, 300, 300, 1, 233, 300, 300, 44, 51, 300, 45, 300, 46, 22, 1, 300, 300, 300, 300, 300, 300, 37, 1, 95, 141, 48, 300, 300, 46, 300, 300, 59, 300, 300, 263, 300, 1, 300, 300, 42, 300, 300, 300, 300, 300, 300, 250, 300, 274, 300, 300, 21, 300, 300, 300, 300, 300, 300, 300, 300, 300, 266, 300, 254, 300, 300, 300, 136, 300, 300, 300, 300, 136, 300, 300, 300, 300, 300, 300, 23, 47, 46, 300, 300, 300, 300, 184, 300, 300, 300, 300, 300, 300, 300, 300, 300, 234, 31, 300, 300, 300, 300, 300, 57, 300, 44, 300, 1, 300, 300, 300, 300, 219, 300, 300, 300, 26, 300, 300, 300, 300, 42, 300, 300, 300, 12, 300, 300, 300, 300, 300, 300, 300, 218, 300, 218, 300, 300, 300, 300, 300, 27, 77, 300, 300, 300, 300, 300, 300, 300, 39, 300, 300, 53, 300, 25, 300, 150, 300, 300, 300, 300, 1, 300, 300, 300, 300, 210, 300, 300, 24, 1, 300, 25, 300, 300, 300, 26, 300, 21, 254, 300, 300, 268, 300, 300, 1, 300, 300, 300, 300, 300, 300, 300, 300, 300, 300, 40, 53, 300, 300, 300, 300, 300, 300, 1, 300, 300, 300, 300, 300, 300, 300, 300, 300, 174, 300, 300, 300, 44, 300, 1, 300, 300, 212, 42, 300, 103, 300, 300, 300, 1, 38, 53, 295, 300, 50, 300, 300, 300, 35, 300, 300, 300, 300, 300, 52, 42, 46, 300, 300, 1, 24, 11, 300, 300, 19, 300, 300, 300, 1, 300, 300, 28, 300, 1, 27, 300, 300, 300, 90, 300, 80, 300, 300, 1, 300, 1, 300, 300, 300, 300, 300, 300, 300, 300, 300, 104, 300, 300, 45, 300, 300, 300, 300, 18, 252, 300, 300, 300, 1, 300, 300, 300, 229, 124, 300, 300, 49, 300, 1, 298, 300, 300, 300, 300, 300, 300, 300, 300, 300, 300, 300, 300, 300, 300, 300, 300, 300, 300, 300, 300, 282, 300, 300, 1, 38, 300, 300, 300, 300, 300, 300, 30, 300, 300, 300, 300, 300, 300, 25, 1, 300, 300, 300, 286, 1, 300, 142, 300, 300, 300, 300, 300, 300, 67, 300, 300, 300, 300, 300, 300, 300, 300, 300, 300, 300, 300, 300, 44, 300, 300, 300, 300, 300, 300, 300, 253, 300, 300, 50, 82, 27, 300, 300, 300, 24, 300, 1, 300, 300, 300, 300, 300, 50, 300, 300, 300, 300, 50, 1, 143, 45, 300, 213, 53, 300, 300, 300, 300, 46, 23, 300, 300, 300, 1, 300, 300, 300, 1, 271, 300, 1, 300, 300, 300, 300, 300, 1, 74, 300, 47, 300, 300, 56, 1, 36, 300, 242, 300, 300, 300, 1, 249, 300, 1, 1, 22, 41, 300, 300, 16, 300, 300, 49, 300, 50, 300, 132, 44, 300, 300, 300, 300, 52, 300, 300, 300, 91, 300, 1, 300, 261, 300, 300, 1, 30, 300, 54, 1, 300, 300, 56, 300, 300, 300, 300, 300, 300, 35, 300, 1, 300, 230, 300, 300, 300, 250, 1, 300, 300, 1, 300, 300, 300, 300, 300, 300, 300, 53, 274, 300, 300, 300, 300, 118, 300, 300, 300, 1, 300, 300, 300, 300, 1, 300, 300, 29, 300, 300, 300, 300, 300, 300, 300, 45, 300, 300, 300, 300, 300, 300, 300, 300, 300, 26, 300, 300, 300, 300, 300, 249, 100, 1, 300, 28, 25, 300, 51, 22, 300, 1, 88, 300, 300, 41, 300, 300, 300, 57, 95, 1, 300, 300, 300, 300, 300, 300, 300, 300, 300, 300, 300, 300, 300, 300, 30, 300, 22, 14, 300, 220, 300, 300, 300, 17, 176, 1, 300, 217, 300, 141, 24, 300, 300, 300, 49, 300, 1, 300, 300, 300, 1, 300, 300, 216, 28, 300, 300, 300, 300, 147, 300, 300, 158, 55, 300, 300, 300, 300, 295, 300, 300, 300, 300, 300, 42, 300, 300, 300, 300, 1, 300, 300, 300, 300, 300, 300, 300, 210, 1, 300, 300, 300, 300, 300, 1, 1, 300, 157, 191, 300, 300, 20, 300, 292, 300, 300, 300, 300, 300, 24, 300, 300, 300, 300, 300, 24, 17, 300, 300, 300, 300, 300, 300, 300, 300, 13, 300, 300, 193, 300, 300, 300, 300, 300, 300, 300, 300, 23, 40, 300, 300, 300, 300, 300, 300, 300, 140, 300, 300, 140, 300, 300, 101, 29, 300, 300, 300, 300, 300, 300, 300, 300, 300, 300, 300, 1, 300, 199, 300, 300, 300, 300, 300, 300, 300, 52, 49, 300, 150, 300, 1, 300, 300, 300, 300, 300, 300, 300, 300, 300, 300, 300, 1, 300, 43, 300, 300, 61, 300, 300, 300, 300, 239, 300, 300, 300, 300, 300, 300, 300, 228, 300, 300, 300, 49, 300, 300, 174, 53, 1, 300, 300, 300, 300, 300, 41, 300, 300, 224, 300, 300, 300, 300, 300, 300, 300, 56, 300, 300, 1, 50, 1, 41, 300, 266, 49, 31, 300, 44, 94, 300, 300, 300, 17, 263, 300, 300, 300, 35, 300, 219, 300, 1, 300, 300, 300, 300, 300, 47, 300, 300, 300, 300, 31, 300, 300, 300, 300, 300, 300, 23, 300, 300, 300, 45, 300, 300, 300, 300, 300, 300, 300, 300, 300, 300, 18, 254, 300, 300, 1, 300, 300, 216, 300, 300, 282, 300, 300, 300, 300, 300, 300, 300, 224, 300, 47, 300, 300, 300, 300, 64, 56, 300, 300, 300, 300, 300, 300, 300, 300, 300, 300, 300, 269, 300, 18, 300, 300, 300, 300, 300, 300, 300, 297, 300, 300, 280, 1, 300, 57, 300, 300, 300, 51, 300, 300, 40, 300, 300, 300, 300, 300, 300, 300, 300, 41, 300, 300, 300, 89, 300, 300, 127, 300, 300, 300, 300, 1, 300, 72, 65, 300, 300, 1, 300, 110, 300, 300, 300, 1, 300, 1, 300, 1, 300, 300, 300, 279, 300, 115, 25, 300, 300, 300, 300, 300, 300, 300, 300, 300, 300, 300, 300, 300, 300, 300, 23, 300, 31, 119, 26, 300, 300, 300, 300, 300, 300, 300, 300, 300, 300, 300, 300, 25, 300, 300, 41, 34, 300, 300, 52, 300, 300, 300, 17, 300, 300, 1, 300, 300, 300, 300, 300, 300, 300, 300, 14, 300, 300, 300, 1, 24, 1, 300, 300, 300, 1, 300, 8, 300, 300, 300, 33, 52, 300, 300, 49, 25, 275, 289, 300, 300, 300, 300, 300, 300, 27, 300, 300, 300, 300, 300, 260, 23, 1, 1, 300, 300, 300, 300, 204, 300, 300, 300, 27, 65, 300, 300, 300, 109, 300, 300, 300, 31, 78, 300, 300, 1, 300, 30, 300, 300, 300, 300, 300, 300, 136, 300, 300, 300, 300, 300, 300, 300, 300, 19, 1, 300, 300, 300, 21, 300, 300, 300, 38, 300, 300, 300, 1, 41, 300, 300, 33, 300, 300, 1, 300, 300, 300, 300, 1, 300, 300, 300, 300, 54, 300, 300, 300, 300, 300, 300, 300, 300, 104, 21, 300, 300, 45, 300, 300, 300, 300, 300, 300, 43, 300, 300, 300, 284, 300, 300, 300, 300, 300, 244, 300, 22, 300, 300, 50, 300, 300, 300, 300, 300, 300, 300, 300, 1, 300, 300, 300, 300, 300, 21, 300, 300, 92, 300, 300, 24, 300, 300, 282, 300, 26, 300, 62, 300, 300, 292, 55, 300, 300, 300, 88, 300, 300, 300, 300, 300, 300, 22, 300, 300, 300, 300, 43, 1, 300, 300, 300, 300, 45, 300, 300, 300, 1, 300, 1, 300, 300, 300, 300, 300, 300, 300, 300, 300, 135, 1, 300, 300, 243, 19, 300, 56, 300, 300, 300, 300, 300, 300, 300, 300, 300, 300, 1, 300, 300, 300, 300, 278, 137, 300, 300, 1, 300, 300, 300, 300, 300, 44, 49, 300, 300, 300, 300, 300, 300, 187, 300, 300, 300, 24, 300, 253, 293, 75, 253, 300, 1, 300, 300, 45, 292, 162, 59, 47, 36, 53, 300, 300, 300, 1, 44, 300, 300, 1, 300, 300, 1, 300, 1, 300, 271, 1, 1, 300, 300, 300, 300, 300, 91, 300, 300, 300, 300, 236, 300, 200, 300, 300, 300, 300, 300, 300, 300, 300, 300, 300, 300, 300, 300, 234, 300, 300, 300, 300, 18, 300, 1, 300, 300, 300, 300, 300, 300, 300, 293, 300, 28, 300, 300, 300, 300, 300, 1, 272, 300, 1, 28, 300, 300, 300, 1, 53, 300, 300, 300, 300, 300, 300, 46, 19, 300, 300, 300, 252, 300, 136, 1, 300, 300, 158, 155, 263, 300, 300, 262, 300, 1, 300, 300, 1, 300, 1, 300, 300, 300, 300, 300, 1, 1, 300, 85, 300, 13, 1, 300, 1, 300, 300, 300, 300, 300, 300, 27, 300, 300, 300, 300, 300, 300, 300, 1, 184, 300, 300, 300, 300, 300, 300, 22, 300, 300, 300, 300, 300, 300, 300, 200, 9, 300, 300, 300, 300, 300, 46, 57, 300, 24, 300, 29, 300, 147, 87, 300, 300, 1, 300, 300, 300, 300, 38, 15, 300, 57, 300, 300, 46, 300, 300, 30, 205, 19, 300, 300, 300, 107, 300, 300, 300, 300, 29, 300, 300, 300, 300, 300, 300, 300, 300, 286, 15, 300, 300, 300, 222, 288, 300, 300, 1, 300, 300, 300, 300, 300, 300, 300, 58, 300, 300, 300, 300, 300, 300, 300, 300, 300, 122, 300, 83, 300, 300, 300, 300, 300, 300, 53, 300, 56, 300, 300, 300, 300, 300, 300, 300, 1, 300, 300, 300, 24, 300, 300, 300, 26, 38, 300, 300, 300, 20, 284, 300, 300, 1, 300, 300, 300, 300, 300, 300, 293, 300, 300, 300, 300, 33, 300, 300, 300, 300, 300, 107, 300, 35, 294, 300, 300, 23, 300, 300, 205, 241, 223, 1, 29, 300, 300, 53, 300, 300, 300, 300, 300, 43, 300, 300, 300, 300, 300, 205, 300, 300, 300, 300, 216, 239, 300, 300, 49, 300, 51, 300, 300, 300, 300, 35, 300, 300, 39, 1, 300, 300, 300, 300, 300, 300, 300, 300, 300, 300, 300, 300, 107, 19, 300, 300, 300, 300, 300, 300, 1, 224, 300, 300, 300, 300, 1, 300, 300, 1, 300, 300, 300, 300, 37, 300, 52, 1, 57, 300, 300, 300, 300, 300, 300, 229, 119, 300, 108, 300, 300, 300, 300, 57, 300, 1, 300, 43, 300, 300, 300, 300, 300, 300, 300, 20, 300, 300, 1, 300, 300, 300, 300, 300, 300, 300, 54, 1, 53, 73, 32, 300, 128, 83, 300, 300, 38, 300, 300, 300, 1, 300, 300, 199, 259, 300, 300, 300, 300, 300, 300, 1, 276, 300, 48, 300, 300, 300, 300, 300, 300, 300, 300, 300, 51, 300, 300, 210, 52, 300, 300, 300, 294, 300, 24, 1, 300, 29, 300, 300, 300, 300, 300, 300, 212, 300, 300, 31, 24, 300, 300, 270, 1, 300, 300, 1, 300, 300, 300, 44, 300, 300, 300, 300, 300, 296, 300, 103, 300, 300, 300, 300, 300, 300, 80, 300, 300, 300, 24, 17, 300, 300, 300, 300, 300, 28, 300, 300, 300, 300, 300, 118, 18, 300, 300, 279, 300, 293, 300, 300, 148, 300, 300, 300, 288, 300, 1, 229, 300, 1, 300, 249, 300, 300, 15, 300, 300, 300, 300, 300, 168, 300, 300, 300, 300, 300, 1, 300, 300, 300, 1, 300, 300, 300, 300, 300, 1, 300, 300, 300, 300, 300, 300, 300, 300, 300, 26, 300, 300, 300, 300, 300, 300, 300, 300, 135, 24, 300, 300, 300, 300, 300, 300, 300, 300, 300, 300, 300, 12, 300, 300, 24, 300, 1, 300, 300, 300, 141, 300, 300, 300, 300, 105, 46, 300, 300, 300, 130, 110, 23, 300, 300, 107, 14, 300, 1, 300, 300, 300, 140, 1, 57, 300, 300, 190, 300, 300, 300, 109, 51, 300, 30, 300, 23, 227, 300, 300, 300, 300, 300, 300, 300, 300, 300, 300, 1, 1, 300, 300, 1, 300, 1, 23, 300, 300, 300, 300, 300, 28, 300, 300, 1, 300, 300, 114, 300, 300, 300, 300, 300, 50, 288, 1, 300, 300, 300, 300, 300, 300, 300, 300, 300, 41, 300, 136, 300, 26, 149, 300, 300, 300, 20, 300, 300, 300, 300, 300, 83, 300, 300, 53, 187, 300, 300, 300, 300, 300, 14, 300, 300, 300, 1, 1, 50, 300, 300, 300, 300, 300, 300, 300, 300, 300, 120, 300, 300, 274, 300, 300, 300, 300, 300, 300, 254, 300, 96, 300, 300, 58, 29, 300, 300, 300, 300, 300, 300, 1, 300, 1, 300, 73, 1, 300, 300, 300, 300, 300, 300, 300, 300, 300, 300, 1, 300, 285, 300, 300, 300, 1, 300, 300, 300, 300, 300, 300, 1, 300, 300, 300, 300, 300, 300, 300, 300, 300, 300, 300, 300, 300, 1, 1, 300, 42, 20, 53, 300, 300, 300, 300, 300, 300, 300, 300, 300, 300, 300, 300, 300, 137, 300, 300, 300, 300, 300, 24, 300, 118, 300, 300, 300, 300, 300, 300, 300, 31, 300, 300, 300, 300, 300, 1, 300, 300, 300, 300, 300, 300, 300, 300, 50, 18, 300, 300, 300, 300, 300, 300, 300, 300, 300, 300, 300, 300, 300, 300, 300, 300, 300, 300, 52, 300, 1, 46, 242, 1, 266, 40, 300, 300, 300, 300, 300, 31, 300, 70, 300, 300, 1, 300, 300, 300, 300, 300, 300, 300, 300, 300, 300, 300, 300, 300, 300, 39, 300, 300, 300, 60, 300, 38, 300, 300, 300, 300, 300, 300, 23, 300, 47, 300, 200, 300, 300, 300, 300, 300, 300, 1, 300, 1, 300, 243, 300, 42, 300, 300, 1, 278, 300, 300, 43, 300, 300, 300, 300, 27, 300, 300, 300, 300, 58, 48, 300, 300, 300, 300, 300, 200, 23, 300, 300, 44, 47, 39, 300, 300, 300, 300, 300, 300, 300, 300, 29, 300, 300, 300, 114, 300, 300, 300, 300, 49, 300, 15, 160, 300, 1, 300, 300, 1, 300, 300, 300, 300, 37, 121, 300, 300, 300, 55, 300, 300, 46, 49, 264, 259, 300, 300, 300, 1, 300, 1, 26, 35, 23, 300, 300, 300, 1, 300, 300, 300, 300, 300, 36, 300, 300, 300, 300, 300, 268, 300, 300, 65, 300, 300, 300, 300, 42, 300, 300, 300, 300, 300, 1, 300, 300, 300, 300, 1, 87, 300, 300, 205, 300, 300, 300, 1, 300, 300, 17, 300, 300, 300, 300, 53, 300, 210, 300, 300, 300, 1, 300, 300, 300, 300, 300, 21, 300, 300, 294, 300, 300, 300, 26, 277, 300, 300, 300, 300, 300, 300, 300, 300, 300, 300, 300, 300, 93, 300, 300, 40, 24, 300, 300, 29, 300, 300, 300, 300, 36, 300, 300, 300, 300, 300, 300, 300, 300, 300, 300, 300, 58, 33, 300, 50, 300, 300, 300, 1, 1, 300, 300, 46, 300, 300, 300, 300, 1, 46, 300, 26, 300, 300, 300, 300, 300, 47, 49, 300, 300, 300, 300, 1, 300, 300, 300, 27, 300, 300, 300, 300, 300, 300, 300, 300, 156, 300, 300, 300, 300, 300, 1, 300, 300, 300, 1, 300, 300, 300, 300, 300, 300, 300, 33, 34, 45, 300, 23, 300, 300, 300, 1, 300, 24, 300, 300, 300, 300, 53, 300, 300, 300, 300, 1, 118, 1, 300, 300, 300, 1, 43, 300, 300, 300, 222, 1, 300, 300, 300, 34, 300, 300, 300, 26, 300, 1, 300, 300, 300, 300, 1, 300, 300, 300, 300, 300, 300, 300, 300, 300, 60, 300, 300, 149, 294, 300, 300, 300, 292, 1, 300, 300, 297, 49, 300, 300, 300, 300, 300, 162, 300, 56, 44, 300, 300, 1, 300, 300, 300, 24, 49, 300, 300, 300, 48, 300, 163, 28, 268, 300, 300, 300, 300, 300, 300, 300, 300, 300, 300, 61, 300, 300, 300, 1, 300, 300, 300, 48, 300, 300, 300, 300, 300, 300, 247, 300, 300, 300, 300, 300, 300, 300, 300, 300, 35, 300, 300, 1, 300, 167, 300, 300, 257, 300, 300, 300, 300, 300, 300, 300, 300, 300, 300, 300, 300, 253, 1, 300, 300, 300, 300, 211, 9, 300, 44, 300, 300, 300, 300, 300, 300, 300, 53, 161, 300, 300, 300, 300, 300, 88, 300, 300, 300, 300, 300, 300, 300, 46, 35, 300, 300, 300, 300, 27, 300, 1, 300, 259, 300, 300, 300, 300, 300, 300, 300, 1, 300, 273, 300, 300, 49, 26, 300, 1, 300, 300, 300, 300, 41, 300, 300, 300, 180, 300, 54, 28, 300, 16, 300, 300, 199, 300, 300, 300, 300, 300, 300, 300, 300, 300, 300, 300, 300, 300, 300, 300, 300, 300, 300, 300, 300, 300, 300, 285, 1, 1, 300, 300, 300, 300, 300, 300, 1, 300, 300, 300, 300, 300, 300, 1, 300, 300, 300, 300, 28, 154, 1, 300, 52, 285, 300, 1, 300, 300, 300, 300, 300, 300, 300, 300, 300, 300, 300, 300, 1, 300, 300, 300, 300, 300, 300, 1, 300, 300, 1, 164, 300, 1, 300, 33, 300, 300, 300, 300, 18, 300, 300, 1, 34, 101, 300, 300, 300, 300, 300, 300, 300, 300, 300, 300, 135, 300, 300, 1, 300, 300, 300, 300, 300, 300, 300, 300, 43, 300, 300, 60, 300, 17, 300, 300, 300, 300, 14, 300, 300, 300, 300, 183, 300, 300, 53, 122, 300, 287, 300, 300, 300, 300, 300, 300, 300, 20, 300, 300, 300, 300, 300, 300, 300, 300, 23, 300, 300, 300, 300, 300, 300, 248, 300, 300, 1, 57, 300, 271, 48, 300, 300, 300, 300, 300, 300, 300, 167, 300, 271, 300, 300, 300, 300, 300, 28, 221, 300, 204, 49, 75, 300, 300, 300, 300, 300, 300, 59, 300, 300, 300, 48, 54, 130, 300, 60, 300, 144, 300, 300, 300, 45, 300, 300, 300, 300, 54, 225, 300, 300, 300, 1, 1, 300, 300, 1, 101, 300, 30, 300, 300, 300, 300, 300, 300, 300, 50, 206, 300, 300, 300, 300, 300, 300, 300, 300, 300, 45, 46, 300, 300, 300, 300, 300, 31, 300, 300, 300, 300, 300, 300, 26, 24, 48, 300, 300, 300, 60, 1, 251, 300, 300, 300, 300, 300, 300, 300, 300, 50, 300, 300, 293, 174, 300, 300, 300, 28, 300, 300, 300, 300, 14, 300, 300, 300, 146, 300, 300, 300, 300, 300, 77, 300, 300, 40, 300, 300, 300, 300, 300, 300, 300, 300, 300, 48, 300, 300, 300, 104, 300, 300, 300, 300, 21, 300, 300, 300, 300, 300, 58, 1, 300, 32, 300, 263, 49, 300, 300, 300, 300, 300, 26, 300, 46, 300, 300, 300, 77, 1, 300, 1, 300, 300, 300, 300, 300, 240, 300, 300, 300, 300, 1, 300, 300, 300, 49, 300, 300, 300, 300, 300, 300, 300, 300, 300, 300, 300, 1, 300, 205, 300, 300, 24, 229, 300, 300, 300, 300, 300, 300, 300, 300, 300, 271, 300, 300, 300, 300, 271, 300, 300, 300, 300, 19, 20, 117, 300, 300, 1, 104, 300, 300, 300, 24, 300, 300, 292, 300, 1, 54, 300, 290, 300, 300, 300, 55, 300, 300, 20, 300, 300, 300, 1, 53, 50, 300, 300, 300, 300, 300, 1, 300, 1, 300, 1, 191, 300, 300, 1, 300, 300, 300, 101, 300, 140, 300, 1, 300, 156, 50, 29, 300, 300, 167, 300, 56, 1, 300, 300, 300, 300, 53, 300, 300, 300, 300, 300, 128, 300, 300, 300, 300, 300, 300, 300, 300, 300, 31, 41, 300, 1, 300, 300, 26, 300, 300, 300, 300, 300, 300, 300, 1, 300, 150, 300, 238, 1, 300, 300, 300, 300, 300, 300, 300, 300, 203, 300, 300, 38, 64, 300, 300, 300, 300, 300, 300, 175, 300, 300, 300, 300, 300, 300, 55, 300, 300, 300, 300, 56, 300, 216, 1, 300, 1, 300, 210, 300, 300, 300, 300, 52, 47]\n",
            "Max tokens in a sequence: 300\n",
            "Min tokens in a sequence: 1\n",
            "Average tokens per sequence: 233.76\n",
            "\n",
            "Inspecting test_dl:\n",
            "Total number of batches: 60\n",
            "Number of tokens per sequence (all): [300, 300, 54, 58, 136, 1, 300, 1, 8, 1, 300, 1, 84, 300, 51, 19, 300, 300, 300, 300, 29, 300, 300, 300, 101, 300, 300, 283, 60, 300, 300, 300, 300, 300, 300, 300, 300, 300, 300, 300, 300, 96, 300, 300, 50, 300, 300, 300, 300, 300, 300, 300, 300, 300, 300, 300, 300, 300, 300, 105, 300, 300, 300, 300, 1, 54, 300, 22, 60, 1, 300, 300, 300, 300, 300, 300, 300, 50, 300, 300, 300, 300, 300, 300, 300, 300, 300, 300, 12, 300, 300, 300, 300, 118, 300, 300, 283, 300, 300, 300, 300, 300, 300, 108, 300, 45, 300, 300, 300, 206, 33, 300, 300, 1, 300, 300, 300, 1, 300, 300, 1, 300, 300, 300, 300, 195, 300, 1, 300, 258, 300, 300, 300, 300, 300, 300, 31, 210, 300, 56, 300, 300, 37, 50, 300, 300, 28, 300, 300, 242, 300, 300, 300, 300, 57, 87, 300, 300, 1, 300, 300, 300, 300, 300, 300, 300, 41, 300, 300, 300, 300, 1, 300, 47, 244, 300, 300, 300, 300, 300, 300, 300, 300, 300, 300, 300, 300, 300, 300, 300, 23, 126, 236, 300, 300, 300, 25, 9, 300, 40, 300, 300, 300, 40, 300, 300, 300, 56, 57, 300, 300, 1, 186, 300, 300, 300, 300, 44, 300, 300, 300, 300, 300, 300, 300, 180, 18, 300, 288, 300, 300, 300, 300, 42, 300, 1, 300, 300, 300, 300, 23, 300, 300, 270, 300, 300, 153, 300, 20, 52, 300, 300, 300, 53, 175, 300, 206, 300, 300, 300, 35, 300, 54, 300, 300, 52, 1, 1, 300, 152, 263, 300, 300, 300, 300, 21, 50, 27, 300, 300, 300, 300, 300, 300, 300, 300, 300, 25, 300, 300, 57, 300, 300, 36, 300, 300, 1, 300, 300, 300, 58, 267, 300, 300, 300, 300, 300, 1, 16, 229, 300, 180, 1, 1, 300, 300, 300, 77, 300, 300, 300, 300, 300, 300, 300, 300, 300, 104, 52, 300, 272, 300, 300, 300, 300, 300, 300, 1, 16, 300, 300, 300, 300, 210, 1, 300, 300, 146, 300, 18, 1, 49, 300, 300, 300, 40, 300, 300, 258, 300, 14, 300, 300, 44, 300, 300, 300, 30, 300, 300, 300, 1, 1, 300, 300, 281, 300, 300, 300, 300, 34, 300, 300, 300, 208, 300, 300, 300, 300, 300, 45, 300, 40, 300, 300, 99, 300, 300, 300, 300, 300, 244, 22, 31, 300, 300, 300, 23, 31, 300, 1, 300, 300, 58, 300, 240, 300, 300, 300, 21, 300, 201, 300, 50, 300, 300, 18, 300, 300, 14, 300, 300, 300, 48, 77, 21, 300, 15, 300, 300, 300, 300, 300, 300, 300, 280, 1, 300, 300, 300, 300, 47, 300, 300, 57, 300, 300, 300, 300, 55, 45, 115, 1, 300, 16, 300, 300, 300, 300, 1, 206, 300, 300, 34, 300, 59, 90, 300, 1, 1, 300, 300, 300, 300, 300, 300, 300, 104, 233, 300, 300, 300, 162, 300, 300, 300, 300, 300, 14, 1, 41, 300, 300, 300, 260, 1, 300, 300, 38, 300, 300, 300, 300, 9, 1, 300, 300, 300, 300, 300, 300, 300, 1, 300, 300, 300, 300, 300, 53, 300, 51, 300, 149, 300, 300, 300, 300, 300, 300, 300, 300, 300, 300, 300, 300, 40, 20, 300, 300, 46, 300, 300, 300, 300, 58, 300, 32, 28, 300, 300, 300, 300, 1, 300, 300, 300, 300, 34, 300, 300, 300, 26, 299, 300, 300, 300, 300, 300, 300, 300, 300, 300, 40, 32, 300, 300, 300, 300, 300, 300, 206, 300, 56, 300, 18, 300, 300, 300, 300, 300, 1, 50, 300, 300, 1, 300, 300, 300, 300, 300, 37, 300, 300, 300, 300, 1, 1, 46, 1, 300, 300, 300, 300, 47, 20, 262, 300, 190, 1, 1, 300, 300, 48, 300, 300, 300, 248, 300, 42, 300, 300, 300, 300, 300, 300, 300, 300, 300, 300, 300, 300, 46, 41, 300, 48, 300, 300, 300, 300, 1, 300, 300, 39, 27, 300, 300, 300, 300, 300, 1, 27, 300, 227, 300, 300, 300, 27, 300, 300, 300, 230, 300, 300, 300, 300, 300, 300, 300, 300, 300, 21, 300, 300, 300, 300, 300, 33, 300, 300, 1, 300, 300, 300, 300, 300, 300, 300, 300, 300, 24, 13, 28, 115, 67, 300, 300, 300, 300, 300, 25, 300, 1, 55, 57, 300, 104, 300, 300, 1, 300, 47, 300, 212, 300, 300, 300, 300, 300, 207, 106, 300, 300, 300, 300, 300, 19, 55, 300, 300, 300, 300, 46, 300, 300, 28, 300, 300, 300, 300, 30, 300, 46, 300, 300, 300, 27, 300, 300, 300, 300, 300, 300, 170, 22, 300, 300, 300, 49, 300, 24, 300, 52, 17, 126, 300, 300, 300, 126, 300, 24, 300, 57, 300, 1, 300, 300, 300, 300, 300, 300, 47, 300, 300, 41, 300, 300, 47, 29, 300, 300, 300, 300, 300, 1, 300, 300, 74, 300, 23, 53, 300, 300, 300, 1, 300, 300, 300, 300, 300, 300, 1, 209, 300, 46, 17, 300, 300, 300, 47, 300, 235, 300, 300, 1, 300, 300, 300, 123, 300, 300, 300, 300, 300, 217, 300, 58, 300, 50, 300, 1, 300, 295, 300, 300, 54, 300, 136, 300, 1, 300, 50, 300, 300, 300, 300, 300, 300, 300, 300, 300, 288, 300, 1, 115, 300, 300, 1, 300, 208, 54, 300, 1, 65, 300, 300, 300, 300, 25, 300, 281, 300, 300, 300, 15, 300, 300, 300, 28, 300, 300, 300, 300, 270, 300, 47, 189, 300, 300, 47, 300, 300, 300, 53, 300, 52, 49, 300, 300, 300, 300, 300, 281, 300, 300, 300, 300, 300, 300, 300, 300, 300, 300, 300, 300, 300, 300, 300, 300, 268, 300, 55, 300, 25, 300, 300, 300, 300, 300, 38, 32, 300, 300, 300, 268, 285, 1, 300, 300, 230, 300, 300, 32, 300, 300, 300, 300, 1, 300, 133, 300, 300, 300, 179, 300, 300, 14, 216, 300, 300, 300, 300, 75, 300, 1, 234, 300, 300, 300, 300, 300, 300, 300, 300, 1, 219, 23, 101, 101, 300, 300, 49, 300, 300, 300, 139, 300, 300, 300, 300, 300, 65, 300, 278, 300, 300, 300, 300, 300, 300, 49, 148, 300, 16, 300, 300, 92, 300, 29, 300, 300, 1, 265, 51, 300, 300, 300, 300, 300, 49, 300, 300, 300, 49, 51, 300, 52, 300, 39, 300, 1, 300, 300, 300, 300, 300, 300, 53, 300, 300, 300, 300, 31, 17, 53, 300, 1, 300, 300, 42, 300, 300, 300, 300, 300, 245, 300, 300, 81, 44, 300, 1, 167, 300, 40, 300, 300, 134, 300, 300, 300, 277, 300, 300, 1, 300, 300, 300, 111, 295, 1, 300, 1, 300, 300, 300, 300, 300, 21, 300, 300, 300, 300, 300, 300, 300, 300, 300, 1, 300, 300, 300, 300, 300, 300, 1, 24, 300, 1, 300, 300, 300, 300, 300, 300, 300, 300, 300, 300, 300, 300, 300, 300, 23, 39, 71, 300, 300, 300, 300, 300, 300, 300, 1, 300, 300, 300, 16, 300, 264, 300, 35, 300, 43, 300, 300, 300, 300, 300, 300, 300, 300, 300, 300, 300, 300, 300, 300, 300, 300, 104, 300, 300, 300, 300, 300, 23, 300, 300, 300, 235, 300, 300, 300, 300, 16, 300, 77, 300, 300, 300, 244, 300, 300, 300, 300, 300, 300, 300, 300, 18, 300, 300, 282, 1, 300, 300, 300, 288, 1, 300, 300, 300, 300, 1, 200, 1, 25, 79, 300, 300, 300, 300, 300, 18, 1, 47, 300, 251, 300, 28, 300, 300, 300, 53, 300, 300, 49, 300, 29, 212, 22, 300, 17, 262, 300, 1, 300, 300, 300, 300, 300, 24, 300, 300, 41, 300, 145, 49, 300, 300, 300, 300, 109, 179, 1, 300, 300, 300, 300, 300, 300, 300, 136, 300, 300, 300, 300, 210, 300, 300, 174, 300, 300, 300, 222, 300, 300, 37, 300, 79, 300, 300, 300, 300, 300, 300, 254, 300, 300, 300, 300, 56, 300, 300, 300, 26, 300, 300, 300, 300, 34, 300, 300, 300, 300, 51, 300, 153, 55, 22, 300, 300, 300, 15, 300, 254, 56, 300, 300, 300, 300, 229, 300, 300, 280, 300, 52, 55, 300, 269, 37, 300, 36, 300, 31, 57, 300, 1, 77, 46, 300, 300, 300, 300, 296, 245, 300, 300, 32, 300, 300, 1, 300, 300, 300, 14, 42, 300, 28, 300, 46, 300, 300, 100, 283, 300, 49, 300, 300, 300, 206, 13, 300, 1, 300, 300, 300, 300, 300, 300, 300, 300, 300, 300, 300, 206, 1, 1, 300, 23, 300, 300, 300, 300, 300, 172, 300, 300, 29, 300, 126, 300, 21, 268, 27, 300, 300, 300, 41, 300, 264, 247, 300, 300, 300, 300, 300, 300, 191, 300, 48, 300, 300, 300, 300, 300, 300, 300, 300, 300, 89, 300, 300, 300, 1, 300, 24, 50, 249, 300, 300, 300, 300, 300, 300, 300, 300, 300, 300, 19, 300, 300, 300, 300, 300, 1, 300, 76, 300, 56, 32, 300, 300, 21, 300, 300, 300, 300, 23, 300, 300, 1, 300, 300, 300, 300, 300, 95, 300, 300, 54, 300, 300, 300, 300, 300, 300, 274, 300, 1, 300, 58, 300, 300, 300, 300, 1, 300, 300, 300, 300, 54, 300, 49, 300, 300, 184, 300, 300, 300, 300, 300, 300, 265, 300, 21, 300, 44, 1, 300, 46, 37, 1, 300, 29, 300, 289, 300, 105, 300, 56, 300, 246, 300, 300, 32, 48, 300, 48, 12, 219, 300, 288, 49, 49, 300, 1, 300, 1, 149, 300, 300, 300, 1, 300, 287, 138, 51, 300, 300, 300, 300, 300, 39, 300, 192, 300, 294, 300, 127, 300, 300, 300, 300, 300, 300, 300, 184, 300, 125, 1, 300, 300, 53, 24, 52, 300, 45, 300, 300, 300, 300, 1, 300, 300, 300, 300, 300, 300, 300, 53, 50, 300, 300, 300, 300, 1, 300, 300, 300, 300, 300, 300, 300, 1, 300, 300, 300, 300, 300, 300, 250, 49, 300, 1, 300, 1, 27, 300, 17, 300, 300, 48, 300, 300, 300, 300, 300, 300, 300, 300, 300, 300, 174, 300, 300, 258, 300, 300, 300, 119, 22, 300, 300, 300, 300, 300, 300, 300, 49, 41, 300, 300, 1, 1, 300, 18, 300, 1, 300, 300, 300, 300, 300, 300, 300, 300, 300, 300, 1, 300, 300, 300, 43, 300, 47, 57, 300, 38, 202, 300, 300, 52, 1, 300, 300, 46, 300, 271, 300, 300, 1, 40, 300, 300, 300, 300, 300, 41, 53, 300, 45, 300, 300, 300, 300, 300, 300, 288, 300, 300, 300, 300, 43, 300, 1, 246, 293, 23, 300, 1, 300, 15, 300, 300, 300, 300, 28, 34, 300, 300, 197, 232, 54, 300, 286, 300, 1, 300, 234, 300, 247, 46, 300, 300, 300, 300, 16, 300, 300, 300, 300, 300, 300, 300, 300, 300, 24, 300, 300, 32, 300, 300, 300, 44, 300, 43, 281, 300, 267, 300, 300, 249, 43, 130, 300, 300, 44, 26, 249, 300, 300, 300, 300, 300, 1, 300, 1, 300, 243, 28, 300, 300, 33, 1, 300, 300, 300, 104, 300, 300, 300, 40, 272, 300, 300, 300, 300, 300, 300, 160, 300, 300, 300, 28, 300, 300, 300, 300, 300, 300, 46, 48, 300, 300, 300, 1, 300, 33, 300, 300, 300, 125, 300, 300, 28, 300, 300, 300, 261, 51, 300, 300, 95, 27, 300, 282, 300, 1, 300, 1, 300, 300, 20, 43, 300, 23, 1, 300, 300]\n",
            "Max tokens in a sequence: 300\n",
            "Min tokens in a sequence: 1\n",
            "Average tokens per sequence: 228.37\n"
          ]
        }
      ],
      "source": [
        "def inspect_token_lengths(dl):\n",
        "    all_lengths = []\n",
        "    for batch in dl:\n",
        "        if len(batch) == 3:  # includes lengths (e.g., for train_dl, test_dl)\n",
        "            _, _, lengths = batch\n",
        "            all_lengths.extend(lengths.tolist())\n",
        "        else:  # no lengths included (e.g., train_dl_cnn, test_dl_cnn)\n",
        "            padded_text, _ = batch\n",
        "            lengths = (padded_text != 0).sum(dim=1)  # count non-padding tokens\n",
        "            all_lengths.extend(lengths.tolist())\n",
        "    \n",
        "    print(f\"Total number of batches: {len(dl)}\")\n",
        "    print(f\"Number of tokens per sequence (all): {all_lengths}\")\n",
        "    print(f\"Max tokens in a sequence: {max(all_lengths)}\")\n",
        "    print(f\"Min tokens in a sequence: {min(all_lengths)}\")\n",
        "    print(f\"Average tokens per sequence: {sum(all_lengths) / len(all_lengths):.2f}\")\n",
        "\n",
        "print(\"Inspecting train_dl:\")\n",
        "inspect_token_lengths(train_dl)\n",
        "\n",
        "print(\"\\nInspecting test_dl:\")\n",
        "inspect_token_lengths(test_dl)"
      ]
    },
    {
      "cell_type": "code",
      "execution_count": 10,
      "metadata": {
        "colab": {
          "base_uri": "https://localhost:8080/"
        },
        "id": "aJMnZ2N8kpkG",
        "outputId": "d06330da-b6a8-40c7-a9b4-f4bda78aaa01"
      },
      "outputs": [
        {
          "name": "stdout",
          "output_type": "stream",
          "text": [
            "Model found in cache. Skipping download.\n",
            "Model loaded successfully.\n",
            "Embeddings do not pre-exist: mapping pretrained fasttext embeddings to vocabulary indices\n",
            "Saved embeddings to ./cache/mapped_pretrained_embeddings.pkl. Shape: torch.Size([77217, 300])\n"
          ]
        }
      ],
      "source": [
        "# EMBEDDING MAPPING =====================================================================\n",
        "\n",
        "# download pretrained embeddings -----------------------------------------------\n",
        "\n",
        "# for Colab\n",
        "# !pip install datasets fasttext evaluate\n",
        "#from google.colab import drive\n",
        "#drive.mount('/content/drive')\n",
        "#os.chdir('/content/drive/Othercomputers/My MacBook Pro/Documents/repositories/nlp/nlp_research_note')\n",
        "#ft_path = \"./cc.en.300.bin\"\n",
        "\n",
        "ft_path = \"./cache/cc.en.300.bin\"\n",
        "\n",
        "if not os.path.exists(ft_path):\n",
        "    print(\"Model not found in cache. Downloading...\")\n",
        "    fasttext.util.download_model('en', if_exists='ignore')\n",
        "    # Move the downloaded model to the cache folder\n",
        "    os.makedirs(os.path.dirname(ft_path), exist_ok=True)\n",
        "    os.rename(\"cc.en.300.bin\", ft_path)\n",
        "else:\n",
        "    print(\"Model found in cache. Skipping download.\")\n",
        "\n",
        "ft = fasttext.load_model(ft_path)\n",
        "print(\"Model loaded successfully.\")\n",
        "\n",
        "# map pretrained fasttext embeddings to vocabulary indices ------------------------------\n",
        "\n",
        "EMBEDDINGS_FILE_PATH = \"./cache/mapped_pretrained_embeddings.pkl\"\n",
        "\n",
        "def embedding_mapping_fasttext(vocabulary, pre_trained_embeddings):\n",
        "    vocab_size = len(vocabulary)\n",
        "    embedding_dim = pre_trained_embeddings.get_dimension()\n",
        "    embedding_matrix = np.zeros((vocab_size, embedding_dim))\n",
        "    for idx, word in enumerate(vocabulary):\n",
        "        embedding_matrix[idx] = pre_trained_embeddings.get_word_vector(word)\n",
        "    return embedding_matrix\n",
        "\n",
        "if os.path.exists(EMBEDDINGS_FILE_PATH):\n",
        "    with open(EMBEDDINGS_FILE_PATH, 'rb') as f:\n",
        "        embedding_tensor = pickle.load(f)\n",
        "    print(f\"Emebddings pre-exists: loaded embeddings from {EMBEDDINGS_FILE_PATH}. Shape: {embedding_tensor.shape}\")\n",
        "else:\n",
        "    print(\"Embeddings do not pre-exist: mapping pretrained fasttext embeddings to vocabulary indices\")\n",
        "\n",
        "    mapped_pretrained_embeddings = embedding_mapping_fasttext(vocabulary=vocab_idx,\n",
        "                                                              pre_trained_embeddings=ft)\n",
        "    embedding_tensor = torch.FloatTensor(mapped_pretrained_embeddings)\n",
        "\n",
        "    with open(EMBEDDINGS_FILE_PATH, 'wb') as f:\n",
        "        pickle.dump(embedding_tensor, f)\n",
        "    print(f\"Saved embeddings to {EMBEDDINGS_FILE_PATH}. Shape: {embedding_tensor.shape}\")\n",
        "    \n",
        "# this embedding tensor is then loaded into the first layer of the RNN-based models"
      ]
    },
    {
      "cell_type": "code",
      "execution_count": 11,
      "metadata": {},
      "outputs": [
        {
          "name": "stdout",
          "output_type": "stream",
          "text": [
            "Loaded embeddings. Tensor shape: torch.Size([77217, 300])\n"
          ]
        }
      ],
      "source": [
        "\n",
        "if os.path.exists(EMBEDDINGS_FILE_PATH):\n",
        "    with open(EMBEDDINGS_FILE_PATH, 'rb') as f:\n",
        "        embedding_tensor = pickle.load(f)\n",
        "    print(f\"Loaded embeddings. Tensor shape: {embedding_tensor.shape}\")\n"
      ]
    },
    {
      "cell_type": "code",
      "execution_count": 12,
      "metadata": {
        "id": "Qu0_t5xTkpkG"
      },
      "outputs": [],
      "source": [
        "def train(model, num_epochs, train_dl, test_dl, use_lengths=False):\n",
        "    optimizer = torch.optim.Adam(model.parameters(), lr=0.001)\n",
        "    loss_fn = nn.BCEWithLogitsLoss()\n",
        "\n",
        "    device = torch.device(\"mps\") if torch.backends.mps.is_available() else torch.device(\"cuda\" if torch.cuda.is_available() else \"cpu\")\n",
        "    print(f\"Using device: {device}\")\n",
        "\n",
        "    model.to(device)\n",
        "\n",
        "    metrics = {\n",
        "        \"loss_train\": [],\n",
        "        \"loss_test\": [],\n",
        "        \"accuracy_train\": [],\n",
        "        \"accuracy_test\": [],\n",
        "        \"f1_train\": [],\n",
        "        \"f1_test\": []\n",
        "    }\n",
        "\n",
        "    for epoch in range(num_epochs):\n",
        "        # training phase\n",
        "        model.train()\n",
        "        train_loss, train_correct = 0, 0\n",
        "        all_train_preds, all_train_labels = [], []\n",
        "\n",
        "        print(f\"Epoch {epoch + 1}/{num_epochs} Training...\")\n",
        "        for batch in tqdm(train_dl, desc=\"Training\", leave=False):\n",
        "            if use_lengths:\n",
        "                x_batch, y_batch, lengths = batch\n",
        "                x_batch, y_batch, lengths = x_batch.to(device), y_batch.to(device), lengths.to(device)\n",
        "                pred = model(x_batch, lengths)[:, 0]  # Include lengths for RNNs/LSTMs\n",
        "            else:\n",
        "                x_batch, y_batch = batch\n",
        "                x_batch, y_batch = x_batch.to(device), y_batch.to(device)\n",
        "                pred = model(x_batch)[:, 0]\n",
        "\n",
        "            # compute loss\n",
        "            loss = loss_fn(pred, y_batch.float())\n",
        "\n",
        "            # backprop\n",
        "            loss.backward()\n",
        "            optimizer.step()\n",
        "            optimizer.zero_grad()\n",
        "\n",
        "            # metrics\n",
        "            train_loss += loss.item() * y_batch.size(0)\n",
        "            preds = (pred >= 0.5).float()\n",
        "            train_correct += (preds == y_batch).float().sum().item()\n",
        "            all_train_preds.extend(preds.cpu().numpy())\n",
        "            all_train_labels.extend(y_batch.cpu().numpy())\n",
        "\n",
        "        metrics[\"loss_train\"].append(train_loss / len(train_dl.dataset))\n",
        "        metrics[\"accuracy_train\"].append(train_correct / len(train_dl.dataset))\n",
        "        metrics[\"f1_train\"].append(f1_score(all_train_labels, all_train_preds))\n",
        "\n",
        "        # eval phase\n",
        "        model.eval()\n",
        "        test_loss, test_correct = 0, 0\n",
        "        all_test_preds, all_test_labels = [], []\n",
        "        print(f\"Epoch {epoch + 1}/{num_epochs} Evaluating...\")\n",
        "        with torch.no_grad():\n",
        "            for batch in tqdm(test_dl, desc=\"Evaluating\", leave=False):\n",
        "                if use_lengths:\n",
        "                    x_batch, y_batch, lengths = batch\n",
        "                    x_batch, y_batch, lengths = x_batch.to(device), y_batch.to(device), lengths.to(device)\n",
        "                    pred = model(x_batch, lengths)[:, 0]\n",
        "                else:\n",
        "                    x_batch, y_batch = batch\n",
        "                    x_batch, y_batch = x_batch.to(device), y_batch.to(device)\n",
        "                    pred = model(x_batch)[:, 0]\n",
        "\n",
        "                # compute loss\n",
        "                loss = loss_fn(pred, y_batch.float())\n",
        "\n",
        "                # metrics\n",
        "                test_loss += loss.item() * y_batch.size(0)\n",
        "                preds = (pred >= 0.5).float()\n",
        "                test_correct += (preds == y_batch).float().sum().item()\n",
        "                all_test_preds.extend(preds.cpu().numpy())\n",
        "                all_test_labels.extend(y_batch.cpu().numpy())\n",
        "\n",
        "        metrics[\"loss_test\"].append(test_loss / len(test_dl.dataset))\n",
        "        metrics[\"accuracy_test\"].append(test_correct / len(test_dl.dataset))\n",
        "        metrics[\"f1_test\"].append(f1_score(all_test_labels, all_test_preds))\n",
        "\n",
        "        print(f\"Epoch {epoch + 1}/{num_epochs} Summary:\")\n",
        "        print(f\"    Train - Loss: {metrics['loss_train'][-1]:.4f}, Accuracy: {metrics['accuracy_train'][-1]:.3f}, F1: {metrics['f1_train'][-1]:.3f}\")\n",
        "        print(f\"    Test  - Loss: {metrics['loss_test'][-1]:.4f}, Accuracy: {metrics['accuracy_test'][-1]:.3f}, F1: {metrics['f1_test'][-1]:.3f}\")\n",
        "\n",
        "    return metrics"
      ]
    },
    {
      "cell_type": "code",
      "execution_count": 13,
      "metadata": {
        "colab": {
          "base_uri": "https://localhost:8080/",
          "height": 365
        },
        "id": "8qQ1LhWHrXP-",
        "outputId": "3469629f-d284-41b2-fac6-f3c8c480c93a"
      },
      "outputs": [],
      "source": [
        "# STEP 2: MODEL BUILDING ================================================================\n",
        "# see aux_scripts\n",
        "sys.path.append('./aux_scripts')"
      ]
    },
    {
      "cell_type": "code",
      "execution_count": 14,
      "metadata": {},
      "outputs": [
        {
          "name": "stdout",
          "output_type": "stream",
          "text": [
            "Training the model...\n",
            "Using device: mps\n",
            "Epoch 1/10 Training...\n"
          ]
        },
        {
          "name": "stderr",
          "output_type": "stream",
          "text": [
            "                                                           \r"
          ]
        },
        {
          "name": "stdout",
          "output_type": "stream",
          "text": [
            "Epoch 1/10 Evaluating...\n"
          ]
        },
        {
          "name": "stderr",
          "output_type": "stream",
          "text": [
            "                                                           \r"
          ]
        },
        {
          "name": "stdout",
          "output_type": "stream",
          "text": [
            "Epoch 1/10 Summary:\n",
            "    Train - Loss: 0.4477, Accuracy: 0.748, F1: 0.654\n",
            "    Test  - Loss: 0.2903, Accuracy: 0.858, F1: 0.830\n",
            "Epoch 2/10 Training...\n"
          ]
        },
        {
          "name": "stderr",
          "output_type": "stream",
          "text": [
            "                                                           \r"
          ]
        },
        {
          "name": "stdout",
          "output_type": "stream",
          "text": [
            "Epoch 2/10 Evaluating...\n"
          ]
        },
        {
          "name": "stderr",
          "output_type": "stream",
          "text": [
            "                                                           \r"
          ]
        },
        {
          "name": "stdout",
          "output_type": "stream",
          "text": [
            "Epoch 2/10 Summary:\n",
            "    Train - Loss: 0.2533, Accuracy: 0.868, F1: 0.845\n",
            "    Test  - Loss: 0.2267, Accuracy: 0.884, F1: 0.867\n",
            "Epoch 3/10 Training...\n"
          ]
        },
        {
          "name": "stderr",
          "output_type": "stream",
          "text": [
            "                                                           \r"
          ]
        },
        {
          "name": "stdout",
          "output_type": "stream",
          "text": [
            "Epoch 3/10 Evaluating...\n"
          ]
        },
        {
          "name": "stderr",
          "output_type": "stream",
          "text": [
            "                                                           \r"
          ]
        },
        {
          "name": "stdout",
          "output_type": "stream",
          "text": [
            "Epoch 3/10 Summary:\n",
            "    Train - Loss: 0.2069, Accuracy: 0.883, F1: 0.865\n",
            "    Test  - Loss: 0.2040, Accuracy: 0.889, F1: 0.875\n",
            "Epoch 4/10 Training...\n"
          ]
        },
        {
          "name": "stderr",
          "output_type": "stream",
          "text": [
            "                                                           \r"
          ]
        },
        {
          "name": "stdout",
          "output_type": "stream",
          "text": [
            "Epoch 4/10 Evaluating...\n"
          ]
        },
        {
          "name": "stderr",
          "output_type": "stream",
          "text": [
            "                                                           \r"
          ]
        },
        {
          "name": "stdout",
          "output_type": "stream",
          "text": [
            "Epoch 4/10 Summary:\n",
            "    Train - Loss: 0.1868, Accuracy: 0.885, F1: 0.869\n",
            "    Test  - Loss: 0.2009, Accuracy: 0.885, F1: 0.872\n",
            "Epoch 5/10 Training...\n"
          ]
        },
        {
          "name": "stderr",
          "output_type": "stream",
          "text": [
            "                                                           \r"
          ]
        },
        {
          "name": "stdout",
          "output_type": "stream",
          "text": [
            "Epoch 5/10 Evaluating...\n"
          ]
        },
        {
          "name": "stderr",
          "output_type": "stream",
          "text": [
            "                                                           \r"
          ]
        },
        {
          "name": "stdout",
          "output_type": "stream",
          "text": [
            "Epoch 5/10 Summary:\n",
            "    Train - Loss: 0.1714, Accuracy: 0.891, F1: 0.875\n",
            "    Test  - Loss: 0.1755, Accuracy: 0.885, F1: 0.868\n",
            "Epoch 6/10 Training...\n"
          ]
        },
        {
          "name": "stderr",
          "output_type": "stream",
          "text": [
            "                                                           \r"
          ]
        },
        {
          "name": "stdout",
          "output_type": "stream",
          "text": [
            "Epoch 6/10 Evaluating...\n"
          ]
        },
        {
          "name": "stderr",
          "output_type": "stream",
          "text": [
            "                                                           \r"
          ]
        },
        {
          "name": "stdout",
          "output_type": "stream",
          "text": [
            "Epoch 6/10 Summary:\n",
            "    Train - Loss: 0.1614, Accuracy: 0.912, F1: 0.902\n",
            "    Test  - Loss: 0.1670, Accuracy: 0.888, F1: 0.874\n",
            "Epoch 7/10 Training...\n"
          ]
        },
        {
          "name": "stderr",
          "output_type": "stream",
          "text": [
            "                                                           \r"
          ]
        },
        {
          "name": "stdout",
          "output_type": "stream",
          "text": [
            "Epoch 7/10 Evaluating...\n"
          ]
        },
        {
          "name": "stderr",
          "output_type": "stream",
          "text": [
            "                                                           \r"
          ]
        },
        {
          "name": "stdout",
          "output_type": "stream",
          "text": [
            "Epoch 7/10 Summary:\n",
            "    Train - Loss: 0.1518, Accuracy: 0.901, F1: 0.888\n",
            "    Test  - Loss: 0.1617, Accuracy: 0.889, F1: 0.877\n",
            "Epoch 8/10 Training...\n"
          ]
        },
        {
          "name": "stderr",
          "output_type": "stream",
          "text": [
            "                                                           \r"
          ]
        },
        {
          "name": "stdout",
          "output_type": "stream",
          "text": [
            "Epoch 8/10 Evaluating...\n"
          ]
        },
        {
          "name": "stderr",
          "output_type": "stream",
          "text": [
            "                                                           \r"
          ]
        },
        {
          "name": "stdout",
          "output_type": "stream",
          "text": [
            "Epoch 8/10 Summary:\n",
            "    Train - Loss: 0.1460, Accuracy: 0.923, F1: 0.915\n",
            "    Test  - Loss: 0.1575, Accuracy: 0.953, F1: 0.951\n",
            "Epoch 9/10 Training...\n"
          ]
        },
        {
          "name": "stderr",
          "output_type": "stream",
          "text": [
            "                                                           \r"
          ]
        },
        {
          "name": "stdout",
          "output_type": "stream",
          "text": [
            "Epoch 9/10 Evaluating...\n"
          ]
        },
        {
          "name": "stderr",
          "output_type": "stream",
          "text": [
            "                                                           \r"
          ]
        },
        {
          "name": "stdout",
          "output_type": "stream",
          "text": [
            "Epoch 9/10 Summary:\n",
            "    Train - Loss: 0.1396, Accuracy: 0.934, F1: 0.928\n",
            "    Test  - Loss: 0.1500, Accuracy: 0.953, F1: 0.951\n",
            "Epoch 10/10 Training...\n"
          ]
        },
        {
          "name": "stderr",
          "output_type": "stream",
          "text": [
            "                                                           \r"
          ]
        },
        {
          "name": "stdout",
          "output_type": "stream",
          "text": [
            "Epoch 10/10 Evaluating...\n"
          ]
        },
        {
          "name": "stderr",
          "output_type": "stream",
          "text": [
            "                                                           \r"
          ]
        },
        {
          "name": "stdout",
          "output_type": "stream",
          "text": [
            "Epoch 10/10 Summary:\n",
            "    Train - Loss: 0.1355, Accuracy: 0.944, F1: 0.940\n",
            "    Test  - Loss: 0.1510, Accuracy: 0.955, F1: 0.954\n",
            "Training the model...\n"
          ]
        }
      ],
      "source": [
        "# TRAINING ================================================================\n",
        "\n",
        "# CNN\n",
        "\n",
        "num_epochs = 10\n",
        "\n",
        "from model_architectures import CNNTextClassifier\n",
        "model_cnn = CNNTextClassifier(embedding_tensor=embedding_tensor)\n",
        "\n",
        "if os.path.exists(\"./models/cnn_model.pth\"):\n",
        "    model_cnn = torch.load(\"./models/cnn_model.pth\")\n",
        "    print(\"Model loaded from disk.\")\n",
        "else:\n",
        "    os.makedirs(\"./models/train_hist\", exist_ok=True)\n",
        "    print(\"Training the model...\")\n",
        "    num_epochs = 10\n",
        "    hist_cnn = train(model_cnn, num_epochs, train_dl_cnn, test_dl_cnn, use_lengths=False)\n",
        "    print(\"Training the model...\")\n",
        "    with open(\"./models/train_hist/cnn_hist.pkl\", \"wb\") as f:\n",
        "        pickle.dump(hist_cnn, f)\n",
        "    torch.save(model_cnn, \"./models/cnn_model.pth\")"
      ]
    },
    {
      "cell_type": "code",
      "execution_count": 15,
      "metadata": {
        "id": "o_5dUjnvkpkG"
      },
      "outputs": [
        {
          "name": "stdout",
          "output_type": "stream",
          "text": [
            "Training the model...\n",
            "Using device: mps\n",
            "Epoch 1/10 Training...\n"
          ]
        },
        {
          "name": "stderr",
          "output_type": "stream",
          "text": [
            "                                                           \r"
          ]
        },
        {
          "name": "stdout",
          "output_type": "stream",
          "text": [
            "Epoch 1/10 Evaluating...\n"
          ]
        },
        {
          "name": "stderr",
          "output_type": "stream",
          "text": [
            "                                                           \r"
          ]
        },
        {
          "name": "stdout",
          "output_type": "stream",
          "text": [
            "Epoch 1/10 Summary:\n",
            "    Train - Loss: 0.5805, Accuracy: 0.625, F1: 0.468\n",
            "    Test  - Loss: 0.4865, Accuracy: 0.731, F1: 0.639\n",
            "Epoch 2/10 Training...\n"
          ]
        },
        {
          "name": "stderr",
          "output_type": "stream",
          "text": [
            "                                                           \r"
          ]
        },
        {
          "name": "stdout",
          "output_type": "stream",
          "text": [
            "Epoch 2/10 Evaluating...\n"
          ]
        },
        {
          "name": "stderr",
          "output_type": "stream",
          "text": [
            "                                                           \r"
          ]
        },
        {
          "name": "stdout",
          "output_type": "stream",
          "text": [
            "Epoch 2/10 Summary:\n",
            "    Train - Loss: 0.4684, Accuracy: 0.744, F1: 0.698\n",
            "    Test  - Loss: 0.3863, Accuracy: 0.799, F1: 0.780\n",
            "Epoch 3/10 Training...\n"
          ]
        },
        {
          "name": "stderr",
          "output_type": "stream",
          "text": [
            "                                                           \r"
          ]
        },
        {
          "name": "stdout",
          "output_type": "stream",
          "text": [
            "Epoch 3/10 Evaluating...\n"
          ]
        },
        {
          "name": "stderr",
          "output_type": "stream",
          "text": [
            "                                                           \r"
          ]
        },
        {
          "name": "stdout",
          "output_type": "stream",
          "text": [
            "Epoch 3/10 Summary:\n",
            "    Train - Loss: 0.5994, Accuracy: 0.636, F1: 0.435\n",
            "    Test  - Loss: 0.6303, Accuracy: 0.584, F1: 0.243\n",
            "Epoch 4/10 Training...\n"
          ]
        },
        {
          "name": "stderr",
          "output_type": "stream",
          "text": [
            "                                                           \r"
          ]
        },
        {
          "name": "stdout",
          "output_type": "stream",
          "text": [
            "Epoch 4/10 Evaluating...\n"
          ]
        },
        {
          "name": "stderr",
          "output_type": "stream",
          "text": [
            "                                                           \r"
          ]
        },
        {
          "name": "stdout",
          "output_type": "stream",
          "text": [
            "Epoch 4/10 Summary:\n",
            "    Train - Loss: 0.6168, Accuracy: 0.599, F1: 0.294\n",
            "    Test  - Loss: 0.5933, Accuracy: 0.631, F1: 0.416\n",
            "Epoch 5/10 Training...\n"
          ]
        },
        {
          "name": "stderr",
          "output_type": "stream",
          "text": [
            "                                                           \r"
          ]
        },
        {
          "name": "stdout",
          "output_type": "stream",
          "text": [
            "Epoch 5/10 Evaluating...\n"
          ]
        },
        {
          "name": "stderr",
          "output_type": "stream",
          "text": [
            "                                                           \r"
          ]
        },
        {
          "name": "stdout",
          "output_type": "stream",
          "text": [
            "Epoch 5/10 Summary:\n",
            "    Train - Loss: 0.6155, Accuracy: 0.654, F1: 0.543\n",
            "    Test  - Loss: 0.5621, Accuracy: 0.689, F1: 0.564\n",
            "Epoch 6/10 Training...\n"
          ]
        },
        {
          "name": "stderr",
          "output_type": "stream",
          "text": [
            "                                                           \r"
          ]
        },
        {
          "name": "stdout",
          "output_type": "stream",
          "text": [
            "Epoch 6/10 Evaluating...\n"
          ]
        },
        {
          "name": "stderr",
          "output_type": "stream",
          "text": [
            "                                                           \r"
          ]
        },
        {
          "name": "stdout",
          "output_type": "stream",
          "text": [
            "Epoch 6/10 Summary:\n",
            "    Train - Loss: 0.5475, Accuracy: 0.705, F1: 0.594\n",
            "    Test  - Loss: 0.5819, Accuracy: 0.634, F1: 0.408\n",
            "Epoch 7/10 Training...\n"
          ]
        },
        {
          "name": "stderr",
          "output_type": "stream",
          "text": [
            "                                                           \r"
          ]
        },
        {
          "name": "stdout",
          "output_type": "stream",
          "text": [
            "Epoch 7/10 Evaluating...\n"
          ]
        },
        {
          "name": "stderr",
          "output_type": "stream",
          "text": [
            "                                                           \r"
          ]
        },
        {
          "name": "stdout",
          "output_type": "stream",
          "text": [
            "Epoch 7/10 Summary:\n",
            "    Train - Loss: 0.6076, Accuracy: 0.695, F1: 0.652\n",
            "    Test  - Loss: 0.5407, Accuracy: 0.723, F1: 0.653\n",
            "Epoch 8/10 Training...\n"
          ]
        },
        {
          "name": "stderr",
          "output_type": "stream",
          "text": [
            "                                                           \r"
          ]
        },
        {
          "name": "stdout",
          "output_type": "stream",
          "text": [
            "Epoch 8/10 Evaluating...\n"
          ]
        },
        {
          "name": "stderr",
          "output_type": "stream",
          "text": [
            "                                                           \r"
          ]
        },
        {
          "name": "stdout",
          "output_type": "stream",
          "text": [
            "Epoch 8/10 Summary:\n",
            "    Train - Loss: 0.4681, Accuracy: 0.789, F1: 0.748\n",
            "    Test  - Loss: 0.6615, Accuracy: 0.732, F1: 0.724\n",
            "Epoch 9/10 Training...\n"
          ]
        },
        {
          "name": "stderr",
          "output_type": "stream",
          "text": [
            "                                                           \r"
          ]
        },
        {
          "name": "stdout",
          "output_type": "stream",
          "text": [
            "Epoch 9/10 Evaluating...\n"
          ]
        },
        {
          "name": "stderr",
          "output_type": "stream",
          "text": [
            "                                                           \r"
          ]
        },
        {
          "name": "stdout",
          "output_type": "stream",
          "text": [
            "Epoch 9/10 Summary:\n",
            "    Train - Loss: 0.5366, Accuracy: 0.745, F1: 0.691\n",
            "    Test  - Loss: 0.5995, Accuracy: 0.598, F1: 0.301\n",
            "Epoch 10/10 Training...\n"
          ]
        },
        {
          "name": "stderr",
          "output_type": "stream",
          "text": [
            "                                                           \r"
          ]
        },
        {
          "name": "stdout",
          "output_type": "stream",
          "text": [
            "Epoch 10/10 Evaluating...\n"
          ]
        },
        {
          "name": "stderr",
          "output_type": "stream",
          "text": [
            "                                                           \r"
          ]
        },
        {
          "name": "stdout",
          "output_type": "stream",
          "text": [
            "Epoch 10/10 Summary:\n",
            "    Train - Loss: 0.5879, Accuracy: 0.626, F1: 0.387\n",
            "    Test  - Loss: 0.5766, Accuracy: 0.634, F1: 0.422\n"
          ]
        }
      ],
      "source": [
        "\n",
        "# Vanilla RNN =====================================================================\n",
        "\n",
        "from model_architectures import RNNTextClassifier\n",
        "\n",
        "model_rnn = RNNTextClassifier(embedding_tensor=embedding_tensor)\n",
        "\n",
        "if os.path.exists(\"./models/rnn_model.pth\"):\n",
        "    model_rnn = torch.load(\"./models/rnn_model.pth\")\n",
        "    print(\"Model loaded from disk.\")\n",
        "else:\n",
        "    os.makedirs(\"./models/\", exist_ok=True)\n",
        "    print(\"Training the model...\")\n",
        "    hist_rnn = train(model_rnn, num_epochs, train_dl, test_dl, use_lengths=True) \n",
        "    with open(\"./models/train_hist/rnn_hist.pkl\", \"wb\") as f:\n",
        "        pickle.dump(hist_rnn, f)\n",
        "\n",
        "    torch.save(model_rnn, \"./models/rnn_model.pth\")"
      ]
    },
    {
      "cell_type": "code",
      "execution_count": 16,
      "metadata": {
        "id": "HK1Kjy-CkpkG"
      },
      "outputs": [
        {
          "name": "stdout",
          "output_type": "stream",
          "text": [
            "Training the model...\n",
            "Using device: mps\n",
            "Epoch 1/10 Training...\n"
          ]
        },
        {
          "name": "stderr",
          "output_type": "stream",
          "text": [
            "                                                           \r"
          ]
        },
        {
          "name": "stdout",
          "output_type": "stream",
          "text": [
            "Epoch 1/10 Evaluating...\n"
          ]
        },
        {
          "name": "stderr",
          "output_type": "stream",
          "text": [
            "                                                           \r"
          ]
        },
        {
          "name": "stdout",
          "output_type": "stream",
          "text": [
            "Epoch 1/10 Summary:\n",
            "    Train - Loss: 0.6439, Accuracy: 0.538, F1: 0.172\n",
            "    Test  - Loss: 0.5912, Accuracy: 0.540, F1: 0.103\n",
            "Epoch 2/10 Training...\n"
          ]
        },
        {
          "name": "stderr",
          "output_type": "stream",
          "text": [
            "                                                           \r"
          ]
        },
        {
          "name": "stdout",
          "output_type": "stream",
          "text": [
            "Epoch 2/10 Evaluating...\n"
          ]
        },
        {
          "name": "stderr",
          "output_type": "stream",
          "text": [
            "                                                           \r"
          ]
        },
        {
          "name": "stdout",
          "output_type": "stream",
          "text": [
            "Epoch 2/10 Summary:\n",
            "    Train - Loss: 0.5505, Accuracy: 0.601, F1: 0.385\n",
            "    Test  - Loss: 0.5089, Accuracy: 0.689, F1: 0.620\n",
            "Epoch 3/10 Training...\n"
          ]
        },
        {
          "name": "stderr",
          "output_type": "stream",
          "text": [
            "                                                           \r"
          ]
        },
        {
          "name": "stdout",
          "output_type": "stream",
          "text": [
            "Epoch 3/10 Evaluating...\n"
          ]
        },
        {
          "name": "stderr",
          "output_type": "stream",
          "text": [
            "                                                           \r"
          ]
        },
        {
          "name": "stdout",
          "output_type": "stream",
          "text": [
            "Epoch 3/10 Summary:\n",
            "    Train - Loss: 0.5010, Accuracy: 0.698, F1: 0.644\n",
            "    Test  - Loss: 0.3965, Accuracy: 0.802, F1: 0.769\n",
            "Epoch 4/10 Training...\n"
          ]
        },
        {
          "name": "stderr",
          "output_type": "stream",
          "text": [
            "                                                           \r"
          ]
        },
        {
          "name": "stdout",
          "output_type": "stream",
          "text": [
            "Epoch 4/10 Evaluating...\n"
          ]
        },
        {
          "name": "stderr",
          "output_type": "stream",
          "text": [
            "                                                           \r"
          ]
        },
        {
          "name": "stdout",
          "output_type": "stream",
          "text": [
            "Epoch 4/10 Summary:\n",
            "    Train - Loss: 0.5088, Accuracy: 0.684, F1: 0.564\n",
            "    Test  - Loss: 0.5396, Accuracy: 0.684, F1: 0.567\n",
            "Epoch 5/10 Training...\n"
          ]
        },
        {
          "name": "stderr",
          "output_type": "stream",
          "text": [
            "                                                           \r"
          ]
        },
        {
          "name": "stdout",
          "output_type": "stream",
          "text": [
            "Epoch 5/10 Evaluating...\n"
          ]
        },
        {
          "name": "stderr",
          "output_type": "stream",
          "text": [
            "                                                           \r"
          ]
        },
        {
          "name": "stdout",
          "output_type": "stream",
          "text": [
            "Epoch 5/10 Summary:\n",
            "    Train - Loss: 0.4375, Accuracy: 0.772, F1: 0.726\n",
            "    Test  - Loss: 0.3073, Accuracy: 0.833, F1: 0.808\n",
            "Epoch 6/10 Training...\n"
          ]
        },
        {
          "name": "stderr",
          "output_type": "stream",
          "text": [
            "                                                           \r"
          ]
        },
        {
          "name": "stdout",
          "output_type": "stream",
          "text": [
            "Epoch 6/10 Evaluating...\n"
          ]
        },
        {
          "name": "stderr",
          "output_type": "stream",
          "text": [
            "                                                           \r"
          ]
        },
        {
          "name": "stdout",
          "output_type": "stream",
          "text": [
            "Epoch 6/10 Summary:\n",
            "    Train - Loss: 0.3523, Accuracy: 0.821, F1: 0.795\n",
            "    Test  - Loss: 0.4600, Accuracy: 0.745, F1: 0.651\n",
            "Epoch 7/10 Training...\n"
          ]
        },
        {
          "name": "stderr",
          "output_type": "stream",
          "text": [
            "                                                           \r"
          ]
        },
        {
          "name": "stdout",
          "output_type": "stream",
          "text": [
            "Epoch 7/10 Evaluating...\n"
          ]
        },
        {
          "name": "stderr",
          "output_type": "stream",
          "text": [
            "                                                           \r"
          ]
        },
        {
          "name": "stdout",
          "output_type": "stream",
          "text": [
            "Epoch 7/10 Summary:\n",
            "    Train - Loss: 0.5287, Accuracy: 0.720, F1: 0.625\n",
            "    Test  - Loss: 0.6238, Accuracy: 0.525, F1: 0.032\n",
            "Epoch 8/10 Training...\n"
          ]
        },
        {
          "name": "stderr",
          "output_type": "stream",
          "text": [
            "                                                           \r"
          ]
        },
        {
          "name": "stdout",
          "output_type": "stream",
          "text": [
            "Epoch 8/10 Evaluating...\n"
          ]
        },
        {
          "name": "stderr",
          "output_type": "stream",
          "text": [
            "                                                           \r"
          ]
        },
        {
          "name": "stdout",
          "output_type": "stream",
          "text": [
            "Epoch 8/10 Summary:\n",
            "    Train - Loss: 0.5815, Accuracy: 0.617, F1: 0.375\n",
            "    Test  - Loss: 0.4636, Accuracy: 0.780, F1: 0.744\n",
            "Epoch 9/10 Training...\n"
          ]
        },
        {
          "name": "stderr",
          "output_type": "stream",
          "text": [
            "                                                           \r"
          ]
        },
        {
          "name": "stdout",
          "output_type": "stream",
          "text": [
            "Epoch 9/10 Evaluating...\n"
          ]
        },
        {
          "name": "stderr",
          "output_type": "stream",
          "text": [
            "                                                           \r"
          ]
        },
        {
          "name": "stdout",
          "output_type": "stream",
          "text": [
            "Epoch 9/10 Summary:\n",
            "    Train - Loss: 0.4975, Accuracy: 0.778, F1: 0.728\n",
            "    Test  - Loss: 0.3802, Accuracy: 0.855, F1: 0.843\n",
            "Epoch 10/10 Training...\n"
          ]
        },
        {
          "name": "stderr",
          "output_type": "stream",
          "text": [
            "                                                           \r"
          ]
        },
        {
          "name": "stdout",
          "output_type": "stream",
          "text": [
            "Epoch 10/10 Evaluating...\n"
          ]
        },
        {
          "name": "stderr",
          "output_type": "stream",
          "text": [
            "                                                           \r"
          ]
        },
        {
          "name": "stdout",
          "output_type": "stream",
          "text": [
            "Epoch 10/10 Summary:\n",
            "    Train - Loss: 0.5717, Accuracy: 0.717, F1: 0.612\n",
            "    Test  - Loss: 0.3754, Accuracy: 0.876, F1: 0.868\n"
          ]
        }
      ],
      "source": [
        "\n",
        "# LSTM w/ DROP OUT =====================================================================\n",
        "\n",
        "from model_architectures import LSTMTextClassifier\n",
        "model_lstm = LSTMTextClassifier(embedding_tensor=embedding_tensor)\n",
        "\n",
        "if os.path.exists(\"./models/lstm_model.pth\"):\n",
        "    model_lstm = torch.load(\"./models/lstm_model.pth\")\n",
        "    print(\"Model loaded from disk.\")\n",
        "else:\n",
        "    os.makedirs(\"./models/\", exist_ok=True)\n",
        "    print(\"Training the model...\")\n",
        "    hist_lstm = train(model_lstm, num_epochs=10, train_dl=train_dl, test_dl=test_dl, use_lengths=True)\n",
        "    with open(\"./models/train_hist/lstm_hist.pkl\", \"wb\") as f:\n",
        "        pickle.dump(hist_rnn, f)\n",
        "    torch.save(model_lstm, \"./models/lstm_model.pth\")"
      ]
    },
    {
      "cell_type": "code",
      "execution_count": 17,
      "metadata": {
        "id": "r1aBkTs_kpkH"
      },
      "outputs": [
        {
          "name": "stdout",
          "output_type": "stream",
          "text": [
            "Training the model...\n",
            "Using device: mps\n",
            "Epoch 1/10 Training...\n"
          ]
        },
        {
          "name": "stderr",
          "output_type": "stream",
          "text": [
            "                                                           \r"
          ]
        },
        {
          "name": "stdout",
          "output_type": "stream",
          "text": [
            "Epoch 1/10 Evaluating...\n"
          ]
        },
        {
          "name": "stderr",
          "output_type": "stream",
          "text": [
            "                                                           \r"
          ]
        },
        {
          "name": "stdout",
          "output_type": "stream",
          "text": [
            "Epoch 1/10 Summary:\n",
            "    Train - Loss: 0.6455, Accuracy: 0.561, F1: 0.211\n",
            "    Test  - Loss: 0.6750, Accuracy: 0.517, F1: 0.000\n",
            "Epoch 2/10 Training...\n"
          ]
        },
        {
          "name": "stderr",
          "output_type": "stream",
          "text": [
            "                                                           \r"
          ]
        },
        {
          "name": "stdout",
          "output_type": "stream",
          "text": [
            "Epoch 2/10 Evaluating...\n"
          ]
        },
        {
          "name": "stderr",
          "output_type": "stream",
          "text": [
            "                                                           \r"
          ]
        },
        {
          "name": "stdout",
          "output_type": "stream",
          "text": [
            "Epoch 2/10 Summary:\n",
            "    Train - Loss: 0.5829, Accuracy: 0.641, F1: 0.482\n",
            "    Test  - Loss: 0.6281, Accuracy: 0.581, F1: 0.231\n",
            "Epoch 3/10 Training...\n"
          ]
        },
        {
          "name": "stderr",
          "output_type": "stream",
          "text": [
            "                                                           \r"
          ]
        },
        {
          "name": "stdout",
          "output_type": "stream",
          "text": [
            "Epoch 3/10 Evaluating...\n"
          ]
        },
        {
          "name": "stderr",
          "output_type": "stream",
          "text": [
            "                                                           \r"
          ]
        },
        {
          "name": "stdout",
          "output_type": "stream",
          "text": [
            "Epoch 3/10 Summary:\n",
            "    Train - Loss: 0.5653, Accuracy: 0.667, F1: 0.524\n",
            "    Test  - Loss: 0.4061, Accuracy: 0.831, F1: 0.800\n",
            "Epoch 4/10 Training...\n"
          ]
        },
        {
          "name": "stderr",
          "output_type": "stream",
          "text": [
            "                                                           \r"
          ]
        },
        {
          "name": "stdout",
          "output_type": "stream",
          "text": [
            "Epoch 4/10 Evaluating...\n"
          ]
        },
        {
          "name": "stderr",
          "output_type": "stream",
          "text": [
            "                                                           \r"
          ]
        },
        {
          "name": "stdout",
          "output_type": "stream",
          "text": [
            "Epoch 4/10 Summary:\n",
            "    Train - Loss: 0.4584, Accuracy: 0.767, F1: 0.733\n",
            "    Test  - Loss: 0.3876, Accuracy: 0.833, F1: 0.794\n",
            "Epoch 5/10 Training...\n"
          ]
        },
        {
          "name": "stderr",
          "output_type": "stream",
          "text": [
            "                                                           \r"
          ]
        },
        {
          "name": "stdout",
          "output_type": "stream",
          "text": [
            "Epoch 5/10 Evaluating...\n"
          ]
        },
        {
          "name": "stderr",
          "output_type": "stream",
          "text": [
            "                                                           \r"
          ]
        },
        {
          "name": "stdout",
          "output_type": "stream",
          "text": [
            "Epoch 5/10 Summary:\n",
            "    Train - Loss: 0.2506, Accuracy: 0.912, F1: 0.906\n",
            "    Test  - Loss: 0.1274, Accuracy: 0.962, F1: 0.960\n",
            "Epoch 6/10 Training...\n"
          ]
        },
        {
          "name": "stderr",
          "output_type": "stream",
          "text": [
            "                                                           \r"
          ]
        },
        {
          "name": "stdout",
          "output_type": "stream",
          "text": [
            "Epoch 6/10 Evaluating...\n"
          ]
        },
        {
          "name": "stderr",
          "output_type": "stream",
          "text": [
            "                                                           \r"
          ]
        },
        {
          "name": "stdout",
          "output_type": "stream",
          "text": [
            "Epoch 6/10 Summary:\n",
            "    Train - Loss: 0.0860, Accuracy: 0.978, F1: 0.976\n",
            "    Test  - Loss: 0.0931, Accuracy: 0.973, F1: 0.971\n",
            "Epoch 7/10 Training...\n"
          ]
        },
        {
          "name": "stderr",
          "output_type": "stream",
          "text": [
            "                                                           \r"
          ]
        },
        {
          "name": "stdout",
          "output_type": "stream",
          "text": [
            "Epoch 7/10 Evaluating...\n"
          ]
        },
        {
          "name": "stderr",
          "output_type": "stream",
          "text": [
            "                                                           \r"
          ]
        },
        {
          "name": "stdout",
          "output_type": "stream",
          "text": [
            "Epoch 7/10 Summary:\n",
            "    Train - Loss: 0.0653, Accuracy: 0.982, F1: 0.981\n",
            "    Test  - Loss: 0.0707, Accuracy: 0.979, F1: 0.978\n",
            "Epoch 8/10 Training...\n"
          ]
        },
        {
          "name": "stderr",
          "output_type": "stream",
          "text": [
            "                                                           \r"
          ]
        },
        {
          "name": "stdout",
          "output_type": "stream",
          "text": [
            "Epoch 8/10 Evaluating...\n"
          ]
        },
        {
          "name": "stderr",
          "output_type": "stream",
          "text": [
            "                                                           \r"
          ]
        },
        {
          "name": "stdout",
          "output_type": "stream",
          "text": [
            "Epoch 8/10 Summary:\n",
            "    Train - Loss: 0.0535, Accuracy: 0.986, F1: 0.985\n",
            "    Test  - Loss: 0.0652, Accuracy: 0.978, F1: 0.977\n",
            "Epoch 9/10 Training...\n"
          ]
        },
        {
          "name": "stderr",
          "output_type": "stream",
          "text": [
            "                                                           \r"
          ]
        },
        {
          "name": "stdout",
          "output_type": "stream",
          "text": [
            "Epoch 9/10 Evaluating...\n"
          ]
        },
        {
          "name": "stderr",
          "output_type": "stream",
          "text": [
            "                                                           \r"
          ]
        },
        {
          "name": "stdout",
          "output_type": "stream",
          "text": [
            "Epoch 9/10 Summary:\n",
            "    Train - Loss: 0.0515, Accuracy: 0.986, F1: 0.985\n",
            "    Test  - Loss: 0.0837, Accuracy: 0.971, F1: 0.970\n",
            "Epoch 10/10 Training...\n"
          ]
        },
        {
          "name": "stderr",
          "output_type": "stream",
          "text": [
            "                                                           \r"
          ]
        },
        {
          "name": "stdout",
          "output_type": "stream",
          "text": [
            "Epoch 10/10 Evaluating...\n"
          ]
        },
        {
          "name": "stderr",
          "output_type": "stream",
          "text": [
            "                                                           \r"
          ]
        },
        {
          "name": "stdout",
          "output_type": "stream",
          "text": [
            "Epoch 10/10 Summary:\n",
            "    Train - Loss: 0.0562, Accuracy: 0.984, F1: 0.983\n",
            "    Test  - Loss: 0.0618, Accuracy: 0.982, F1: 0.981\n"
          ]
        }
      ],
      "source": [
        "\n",
        "# STACKING LSTM LAYERS WITH DIFFERENT HIDDEN SIZES =========================\n",
        "\n",
        "from model_architectures import StackedLSTMTextClassifier\n",
        "\n",
        "model_lstm_stacked = StackedLSTMTextClassifier(embedding_tensor=embedding_tensor)\n",
        "\n",
        "if os.path.exists(\"./models/lstm_stacked_model.pth\"):\n",
        "    model_lstm_stacked = torch.load(\"./models/lstm_stacked_model.pth\")\n",
        "    print(\"Model loaded from disk.\")\n",
        "else:\n",
        "    os.makedirs(\"./models/\", exist_ok=True)\n",
        "    print(\"Training the model...\")\n",
        "    hist_lstm_stacked = train(model_lstm_stacked, num_epochs, train_dl, test_dl, use_lengths=True)\n",
        "    with open(\"./models/train_hist/lstm_stacked_hist.pkl\", \"wb\") as f:\n",
        "        pickle.dump(hist_lstm_stacked, f)\n",
        "    torch.save(model_lstm_stacked, \"./models/lstm_stacked_model.pth\")"
      ]
    },
    {
      "cell_type": "code",
      "execution_count": 18,
      "metadata": {
        "id": "e26pcU0tkpkH"
      },
      "outputs": [
        {
          "name": "stdout",
          "output_type": "stream",
          "text": [
            "Training the model...\n",
            "Using device: mps\n",
            "Epoch 1/10 Training...\n"
          ]
        },
        {
          "name": "stderr",
          "output_type": "stream",
          "text": [
            "                                                           \r"
          ]
        },
        {
          "name": "stdout",
          "output_type": "stream",
          "text": [
            "Epoch 1/10 Evaluating...\n"
          ]
        },
        {
          "name": "stderr",
          "output_type": "stream",
          "text": [
            "                                                           \r"
          ]
        },
        {
          "name": "stdout",
          "output_type": "stream",
          "text": [
            "Epoch 1/10 Summary:\n",
            "    Train - Loss: 0.2815, Accuracy: 0.813, F1: 0.774\n",
            "    Test  - Loss: 0.1303, Accuracy: 0.908, F1: 0.895\n",
            "Epoch 2/10 Training...\n"
          ]
        },
        {
          "name": "stderr",
          "output_type": "stream",
          "text": [
            "                                                           \r"
          ]
        },
        {
          "name": "stdout",
          "output_type": "stream",
          "text": [
            "Epoch 2/10 Evaluating...\n"
          ]
        },
        {
          "name": "stderr",
          "output_type": "stream",
          "text": [
            "                                                           \r"
          ]
        },
        {
          "name": "stdout",
          "output_type": "stream",
          "text": [
            "Epoch 2/10 Summary:\n",
            "    Train - Loss: 0.1029, Accuracy: 0.913, F1: 0.902\n",
            "    Test  - Loss: 0.0865, Accuracy: 0.978, F1: 0.977\n",
            "Epoch 3/10 Training...\n"
          ]
        },
        {
          "name": "stderr",
          "output_type": "stream",
          "text": [
            "                                                           \r"
          ]
        },
        {
          "name": "stdout",
          "output_type": "stream",
          "text": [
            "Epoch 3/10 Evaluating...\n"
          ]
        },
        {
          "name": "stderr",
          "output_type": "stream",
          "text": [
            "                                                           \r"
          ]
        },
        {
          "name": "stdout",
          "output_type": "stream",
          "text": [
            "Epoch 3/10 Summary:\n",
            "    Train - Loss: 0.0712, Accuracy: 0.984, F1: 0.983\n",
            "    Test  - Loss: 0.0676, Accuracy: 0.981, F1: 0.980\n",
            "Epoch 4/10 Training...\n"
          ]
        },
        {
          "name": "stderr",
          "output_type": "stream",
          "text": [
            "                                                           \r"
          ]
        },
        {
          "name": "stdout",
          "output_type": "stream",
          "text": [
            "Epoch 4/10 Evaluating...\n"
          ]
        },
        {
          "name": "stderr",
          "output_type": "stream",
          "text": [
            "                                                           \r"
          ]
        },
        {
          "name": "stdout",
          "output_type": "stream",
          "text": [
            "Epoch 4/10 Summary:\n",
            "    Train - Loss: 0.0736, Accuracy: 0.979, F1: 0.979\n",
            "    Test  - Loss: 0.0711, Accuracy: 0.982, F1: 0.981\n",
            "Epoch 5/10 Training...\n"
          ]
        },
        {
          "name": "stderr",
          "output_type": "stream",
          "text": [
            "                                                           \r"
          ]
        },
        {
          "name": "stdout",
          "output_type": "stream",
          "text": [
            "Epoch 5/10 Evaluating...\n"
          ]
        },
        {
          "name": "stderr",
          "output_type": "stream",
          "text": [
            "                                                           \r"
          ]
        },
        {
          "name": "stdout",
          "output_type": "stream",
          "text": [
            "Epoch 5/10 Summary:\n",
            "    Train - Loss: 0.0570, Accuracy: 0.988, F1: 0.988\n",
            "    Test  - Loss: 0.0578, Accuracy: 0.986, F1: 0.986\n",
            "Epoch 6/10 Training...\n"
          ]
        },
        {
          "name": "stderr",
          "output_type": "stream",
          "text": [
            "                                                           \r"
          ]
        },
        {
          "name": "stdout",
          "output_type": "stream",
          "text": [
            "Epoch 6/10 Evaluating...\n"
          ]
        },
        {
          "name": "stderr",
          "output_type": "stream",
          "text": [
            "                                                           \r"
          ]
        },
        {
          "name": "stdout",
          "output_type": "stream",
          "text": [
            "Epoch 6/10 Summary:\n",
            "    Train - Loss: 0.0459, Accuracy: 0.990, F1: 0.989\n",
            "    Test  - Loss: 0.0503, Accuracy: 0.986, F1: 0.985\n",
            "Epoch 7/10 Training...\n"
          ]
        },
        {
          "name": "stderr",
          "output_type": "stream",
          "text": [
            "                                                           \r"
          ]
        },
        {
          "name": "stdout",
          "output_type": "stream",
          "text": [
            "Epoch 7/10 Evaluating...\n"
          ]
        },
        {
          "name": "stderr",
          "output_type": "stream",
          "text": [
            "                                                           \r"
          ]
        },
        {
          "name": "stdout",
          "output_type": "stream",
          "text": [
            "Epoch 7/10 Summary:\n",
            "    Train - Loss: 0.0368, Accuracy: 0.990, F1: 0.990\n",
            "    Test  - Loss: 0.0538, Accuracy: 0.982, F1: 0.981\n",
            "Epoch 8/10 Training...\n"
          ]
        },
        {
          "name": "stderr",
          "output_type": "stream",
          "text": [
            "                                                           \r"
          ]
        },
        {
          "name": "stdout",
          "output_type": "stream",
          "text": [
            "Epoch 8/10 Evaluating...\n"
          ]
        },
        {
          "name": "stderr",
          "output_type": "stream",
          "text": [
            "                                                           \r"
          ]
        },
        {
          "name": "stdout",
          "output_type": "stream",
          "text": [
            "Epoch 8/10 Summary:\n",
            "    Train - Loss: 0.0243, Accuracy: 0.995, F1: 0.995\n",
            "    Test  - Loss: 0.0579, Accuracy: 0.987, F1: 0.986\n",
            "Epoch 9/10 Training...\n"
          ]
        },
        {
          "name": "stderr",
          "output_type": "stream",
          "text": [
            "                                                           \r"
          ]
        },
        {
          "name": "stdout",
          "output_type": "stream",
          "text": [
            "Epoch 9/10 Evaluating...\n"
          ]
        },
        {
          "name": "stderr",
          "output_type": "stream",
          "text": [
            "                                                           \r"
          ]
        },
        {
          "name": "stdout",
          "output_type": "stream",
          "text": [
            "Epoch 9/10 Summary:\n",
            "    Train - Loss: 0.0242, Accuracy: 0.994, F1: 0.994\n",
            "    Test  - Loss: 0.0973, Accuracy: 0.968, F1: 0.968\n",
            "Epoch 10/10 Training...\n"
          ]
        },
        {
          "name": "stderr",
          "output_type": "stream",
          "text": [
            "                                                           \r"
          ]
        },
        {
          "name": "stdout",
          "output_type": "stream",
          "text": [
            "Epoch 10/10 Evaluating...\n"
          ]
        },
        {
          "name": "stderr",
          "output_type": "stream",
          "text": [
            "                                                           \r"
          ]
        },
        {
          "name": "stdout",
          "output_type": "stream",
          "text": [
            "Epoch 10/10 Summary:\n",
            "    Train - Loss: 0.0277, Accuracy: 0.992, F1: 0.992\n",
            "    Test  - Loss: 0.0555, Accuracy: 0.982, F1: 0.981\n"
          ]
        }
      ],
      "source": [
        "\n",
        "# BI-DIRECTIONAL LSTM ======================================================\n",
        "\n",
        "from model_architectures import BidirectionalLSTMTextClassifier\n",
        "\n",
        "model_bi_lstm = BidirectionalLSTMTextClassifier(embedding_tensor=embedding_tensor)\n",
        "\n",
        "if os.path.exists(\"./models/bi_lstm_model.pth\"):\n",
        "    model_bi_lstm = torch.load(\"./models/bi_lstm_model.pth\")\n",
        "    print(\"Model loaded from disk.\")\n",
        "else:\n",
        "    os.makedirs(\"./models/\", exist_ok=True)\n",
        "    print(\"Training the model...\")\n",
        "    hist_bi_lstm = train(model_bi_lstm, num_epochs, train_dl, test_dl, use_lengths=True)\n",
        "    with open(\"./models/train_hist/bi_lstm_hist.pkl\", \"wb\") as f:\n",
        "        pickle.dump(hist_bi_lstm, f)\n",
        "    torch.save(model_bi_lstm, \"./models/bi_lstm_model.pth\")"
      ]
    },
    {
      "cell_type": "code",
      "execution_count": 19,
      "metadata": {},
      "outputs": [
        {
          "name": "stdout",
          "output_type": "stream",
          "text": [
            "Training the model...\n",
            "Using device: mps\n",
            "Epoch 1/10 Training...\n"
          ]
        },
        {
          "name": "stderr",
          "output_type": "stream",
          "text": [
            "                                                           \r"
          ]
        },
        {
          "name": "stdout",
          "output_type": "stream",
          "text": [
            "Epoch 1/10 Evaluating...\n"
          ]
        },
        {
          "name": "stderr",
          "output_type": "stream",
          "text": [
            "                                                           \r"
          ]
        },
        {
          "name": "stdout",
          "output_type": "stream",
          "text": [
            "Epoch 1/10 Summary:\n",
            "    Train - Loss: 0.1857, Accuracy: 0.901, F1: 0.891\n",
            "    Test  - Loss: 0.0695, Accuracy: 0.978, F1: 0.977\n",
            "Epoch 2/10 Training...\n"
          ]
        },
        {
          "name": "stderr",
          "output_type": "stream",
          "text": [
            "                                                           \r"
          ]
        },
        {
          "name": "stdout",
          "output_type": "stream",
          "text": [
            "Epoch 2/10 Evaluating...\n"
          ]
        },
        {
          "name": "stderr",
          "output_type": "stream",
          "text": [
            "                                                           \r"
          ]
        },
        {
          "name": "stdout",
          "output_type": "stream",
          "text": [
            "Epoch 2/10 Summary:\n",
            "    Train - Loss: 0.0613, Accuracy: 0.983, F1: 0.982\n",
            "    Test  - Loss: 0.0636, Accuracy: 0.982, F1: 0.981\n",
            "Epoch 3/10 Training...\n"
          ]
        },
        {
          "name": "stderr",
          "output_type": "stream",
          "text": [
            "                                                           \r"
          ]
        },
        {
          "name": "stdout",
          "output_type": "stream",
          "text": [
            "Epoch 3/10 Evaluating...\n"
          ]
        },
        {
          "name": "stderr",
          "output_type": "stream",
          "text": [
            "                                                           \r"
          ]
        },
        {
          "name": "stdout",
          "output_type": "stream",
          "text": [
            "Epoch 3/10 Summary:\n",
            "    Train - Loss: 0.0399, Accuracy: 0.987, F1: 0.986\n",
            "    Test  - Loss: 0.0428, Accuracy: 0.983, F1: 0.982\n",
            "Epoch 4/10 Training...\n"
          ]
        },
        {
          "name": "stderr",
          "output_type": "stream",
          "text": [
            "                                                           \r"
          ]
        },
        {
          "name": "stdout",
          "output_type": "stream",
          "text": [
            "Epoch 4/10 Evaluating...\n"
          ]
        },
        {
          "name": "stderr",
          "output_type": "stream",
          "text": [
            "                                                           \r"
          ]
        },
        {
          "name": "stdout",
          "output_type": "stream",
          "text": [
            "Epoch 4/10 Summary:\n",
            "    Train - Loss: 0.0315, Accuracy: 0.990, F1: 0.990\n",
            "    Test  - Loss: 0.0506, Accuracy: 0.982, F1: 0.981\n",
            "Epoch 5/10 Training...\n"
          ]
        },
        {
          "name": "stderr",
          "output_type": "stream",
          "text": [
            "                                                           \r"
          ]
        },
        {
          "name": "stdout",
          "output_type": "stream",
          "text": [
            "Epoch 5/10 Evaluating...\n"
          ]
        },
        {
          "name": "stderr",
          "output_type": "stream",
          "text": [
            "                                                           \r"
          ]
        },
        {
          "name": "stdout",
          "output_type": "stream",
          "text": [
            "Epoch 5/10 Summary:\n",
            "    Train - Loss: 0.0275, Accuracy: 0.990, F1: 0.990\n",
            "    Test  - Loss: 0.0297, Accuracy: 0.988, F1: 0.987\n",
            "Epoch 6/10 Training...\n"
          ]
        },
        {
          "name": "stderr",
          "output_type": "stream",
          "text": [
            "                                                           \r"
          ]
        },
        {
          "name": "stdout",
          "output_type": "stream",
          "text": [
            "Epoch 6/10 Evaluating...\n"
          ]
        },
        {
          "name": "stderr",
          "output_type": "stream",
          "text": [
            "                                                           \r"
          ]
        },
        {
          "name": "stdout",
          "output_type": "stream",
          "text": [
            "Epoch 6/10 Summary:\n",
            "    Train - Loss: 0.0168, Accuracy: 0.995, F1: 0.995\n",
            "    Test  - Loss: 0.0335, Accuracy: 0.988, F1: 0.987\n",
            "Epoch 7/10 Training...\n"
          ]
        },
        {
          "name": "stderr",
          "output_type": "stream",
          "text": [
            "                                                           \r"
          ]
        },
        {
          "name": "stdout",
          "output_type": "stream",
          "text": [
            "Epoch 7/10 Evaluating...\n"
          ]
        },
        {
          "name": "stderr",
          "output_type": "stream",
          "text": [
            "                                                           \r"
          ]
        },
        {
          "name": "stdout",
          "output_type": "stream",
          "text": [
            "Epoch 7/10 Summary:\n",
            "    Train - Loss: 0.0132, Accuracy: 0.996, F1: 0.995\n",
            "    Test  - Loss: 0.0382, Accuracy: 0.987, F1: 0.987\n",
            "Epoch 8/10 Training...\n"
          ]
        },
        {
          "name": "stderr",
          "output_type": "stream",
          "text": [
            "                                                           \r"
          ]
        },
        {
          "name": "stdout",
          "output_type": "stream",
          "text": [
            "Epoch 8/10 Evaluating...\n"
          ]
        },
        {
          "name": "stderr",
          "output_type": "stream",
          "text": [
            "                                                           \r"
          ]
        },
        {
          "name": "stdout",
          "output_type": "stream",
          "text": [
            "Epoch 8/10 Summary:\n",
            "    Train - Loss: 0.0116, Accuracy: 0.996, F1: 0.996\n",
            "    Test  - Loss: 0.0373, Accuracy: 0.989, F1: 0.989\n",
            "Epoch 9/10 Training...\n"
          ]
        },
        {
          "name": "stderr",
          "output_type": "stream",
          "text": [
            "                                                           \r"
          ]
        },
        {
          "name": "stdout",
          "output_type": "stream",
          "text": [
            "Epoch 9/10 Evaluating...\n"
          ]
        },
        {
          "name": "stderr",
          "output_type": "stream",
          "text": [
            "                                                           \r"
          ]
        },
        {
          "name": "stdout",
          "output_type": "stream",
          "text": [
            "Epoch 9/10 Summary:\n",
            "    Train - Loss: 0.0054, Accuracy: 0.998, F1: 0.998\n",
            "    Test  - Loss: 0.0453, Accuracy: 0.989, F1: 0.988\n",
            "Epoch 10/10 Training...\n"
          ]
        },
        {
          "name": "stderr",
          "output_type": "stream",
          "text": [
            "                                                           \r"
          ]
        },
        {
          "name": "stdout",
          "output_type": "stream",
          "text": [
            "Epoch 10/10 Evaluating...\n"
          ]
        },
        {
          "name": "stderr",
          "output_type": "stream",
          "text": [
            "                                                           \r"
          ]
        },
        {
          "name": "stdout",
          "output_type": "stream",
          "text": [
            "Epoch 10/10 Summary:\n",
            "    Train - Loss: 0.0083, Accuracy: 0.997, F1: 0.997\n",
            "    Test  - Loss: 0.0379, Accuracy: 0.990, F1: 0.990\n"
          ]
        }
      ],
      "source": [
        "\n",
        "# BIDIRECTIONAL GRU WITH DROPOUT ======================================================\n",
        "\n",
        "from model_architectures import BidirectionalGRUTextClassifier\n",
        "model_gru = BidirectionalGRUTextClassifier(embedding_tensor=embedding_tensor)\n",
        "\n",
        "if os.path.exists(\"./models/bidirectional_gru_model.pth\"):\n",
        "    model_gru = torch.load(\"./models/bidirectional_gru_model.pth\")\n",
        "    print(\"Model loaded from disk.\")\n",
        "else:\n",
        "    os.makedirs(\"./models/\", exist_ok=True)\n",
        "    print(\"Training the model...\")\n",
        "    hist_gru = train(model_gru, num_epochs, train_dl, test_dl, use_lengths=True)\n",
        "    with open(\"./models/train_hist/bidirectional_gru_hist.pkl\", \"wb\") as f:\n",
        "        pickle.dump(hist_gru, f)\n",
        "    torch.save(model_gru, \"./models/bidirectional_gru_model.pth\")\n"
      ]
    },
    {
      "cell_type": "markdown",
      "metadata": {
        "id": "kQNKdlv4kpkJ"
      },
      "source": [
        "# Transformer & Transfer Learning"
      ]
    },
    {
      "cell_type": "code",
      "execution_count": 10,
      "metadata": {},
      "outputs": [
        {
          "name": "stdout",
          "output_type": "stream",
          "text": [
            "Loading data\n"
          ]
        }
      ],
      "source": [
        "# this cell is just repetition so can run this workflow separately.\n",
        "\n",
        "# !pip install datasets fasttext evaluate\n",
        "import os\n",
        "import subprocess\n",
        "import time\n",
        "import kagglehub\n",
        "import pandas as pd\n",
        "import numpy as np\n",
        "from datasets import Dataset, DatasetDict, Features, Value, ClassLabel, load_dataset\n",
        "from sklearn.model_selection import train_test_split\n",
        "from sklearn.metrics import f1_score, accuracy_score\n",
        "from sklearn.feature_extraction.text import CountVectorizer\n",
        "from imblearn.under_sampling import RandomUnderSampler\n",
        "import spacy\n",
        "import spacy.cli\n",
        "import fasttext.util as fasttext_util\n",
        "import fasttext\n",
        "from collections import Counter\n",
        "import collections\n",
        "from torch.utils.data import DataLoader\n",
        "import torch.nn as nn\n",
        "import torch\n",
        "import tqdm\n",
        "import pickle\n",
        "from transformers import AutoTokenizer, AutoModelForSequenceClassification, TrainingArguments, Trainer, EarlyStoppingCallback\n",
        "import evaluate\n",
        "import warnings\n",
        "import sys\n",
        "from tqdm import tqdm\n",
        "import matplotlib.pyplot as plt\n",
        "\n",
        "\n",
        "device = torch.device(\"mps\") if torch.backends.mps.is_available() else torch.device(\"cuda\" if torch.cuda.is_available() else \"cpu\")\n",
        "warnings.filterwarnings(\"ignore\")\n",
        "\n",
        "# DATA\n",
        "DATA_DIR = \"./data\"\n",
        "TRAIN_DATA_FILE = \"./data/twitter_train_data.csv\"\n",
        "TEST_DATA_FILE = \"./data/twitter_test_data.csv\"\n",
        "\n",
        "def check_and_load_data():\n",
        "    if os.path.exists(TRAIN_DATA_FILE) and os.path.exists(TEST_DATA_FILE):\n",
        "        print(\"Loading data\")\n",
        "        train_df = pd.read_csv(TRAIN_DATA_FILE)\n",
        "        test_df = pd.read_csv(TEST_DATA_FILE)\n",
        "        return train_df, test_df\n",
        "    else:\n",
        "        os.makedirs(DATA_DIR, exist_ok=True)\n",
        "        print(\"Calling data processing script\")\n",
        "        \n",
        "        # call pynb script\n",
        "        subprocess.run(['jupyter', 'nbconvert', '--execute', '--to', 'notebook', '--inplace', '_1_data_processing.ipynb'])\n",
        "        \n",
        "        # ensure the notebook script finishes execution\n",
        "        time.sleep(5) \n",
        "        \n",
        "        # recursively call to check for the files again\n",
        "        return check_and_load_data()\n",
        "\n",
        "train_df, test_df = check_and_load_data()"
      ]
    },
    {
      "cell_type": "code",
      "execution_count": 11,
      "metadata": {},
      "outputs": [
        {
          "name": "stderr",
          "output_type": "stream",
          "text": [
            "Some weights of BertForSequenceClassification were not initialized from the model checkpoint at google/bert_uncased_L-2_H-128_A-2 and are newly initialized: ['classifier.bias', 'classifier.weight']\n",
            "You should probably TRAIN this model on a down-stream task to be able to use it for predictions and inference.\n"
          ]
        }
      ],
      "source": [
        "# load checkpoint and tokenizer\n",
        "\n",
        "# for BERTweet:\n",
        "#checkpoint = \"vinai/bertweet-base\"\n",
        "#BERTweet_tokenizer = AutoTokenizer.from_pretrained(checkpoint)\n",
        "#BERTweet = AutoModelForSequenceClassification.from_pretrained(checkpoint, num_labels=2)\n",
        "\n",
        "#for BERT_uncased\n",
        "\n",
        "checkpoint = \"google/bert_uncased_L-2_H-128_A-2\"\n",
        "bert_uncased = AutoModelForSequenceClassification.from_pretrained(checkpoint, num_labels=2)\n",
        "bert_tokenizer = AutoTokenizer.from_pretrained(checkpoint)\n",
        "\n",
        "transformer_model = bert_uncased\n",
        "transformer_tokenizer = bert_tokenizer"
      ]
    },
    {
      "cell_type": "code",
      "execution_count": 12,
      "metadata": {},
      "outputs": [
        {
          "name": "stdout",
          "output_type": "stream",
          "text": [
            "Unique label values in training data: {0, 1}\n"
          ]
        }
      ],
      "source": [
        "# define features\n",
        "features = Features({\n",
        "    'text': Value(dtype='string'),\n",
        "    'label': ClassLabel(num_classes=2, names=['factual', 'misinfo']),\n",
        "})\n",
        "\n",
        "# convert to Hugging Face Dataset\n",
        "dataset_train = Dataset.from_pandas(train_df, features=features)\n",
        "dataset_test = Dataset.from_pandas(test_df, features=features)\n",
        "\n",
        "# unique values of the 'label' column to ensure the classes are correct\n",
        "unique_labels = set(dataset_train['label'])\n",
        "print(\"Unique label values in training data:\", unique_labels)\n",
        "\n",
        "dataset_dict = DatasetDict({\n",
        "    'train': dataset_train,\n",
        "    'test': dataset_test\n",
        "})"
      ]
    },
    {
      "cell_type": "code",
      "execution_count": 13,
      "metadata": {
        "id": "gICHMe6LkpkK"
      },
      "outputs": [
        {
          "name": "stdout",
          "output_type": "stream",
          "text": [
            "Tokenizing...\n"
          ]
        },
        {
          "name": "stderr",
          "output_type": "stream",
          "text": [
            "\n",
            "\u001b[A\n",
            "\u001b[A\n",
            "\u001b[A\n",
            "\u001b[A\n",
            "\u001b[A\n",
            "\u001b[A\n",
            "\u001b[A\n",
            "\u001b[A\n",
            "\u001b[A\n",
            "\u001b[A\n",
            "\u001b[A\n",
            "\u001b[A\n",
            "\u001b[A\n",
            "\u001b[A\n",
            "\u001b[A\n",
            "\u001b[A\n",
            "\u001b[A\n",
            "\u001b[A\n",
            "\u001b[A\n",
            "\u001b[A\n",
            "\u001b[A\n",
            "\u001b[A\n",
            "Map: 100%|██████████| 7598/7598 [00:03<00:00, 2154.27 examples/s]\n",
            "\n",
            "\u001b[A\n",
            "\u001b[A\n",
            "\u001b[A\n",
            "\u001b[A\n",
            "\u001b[A\n",
            "Map: 100%|██████████| 1900/1900 [00:00<00:00, 2243.26 examples/s]\n"
          ]
        },
        {
          "name": "stdout",
          "output_type": "stream",
          "text": [
            "patrick henningsen 21st century wiremuch was made this week in the us media about michael flynn s recent guilty plea to making false statements to the fbi, as part of special counsel robert mueller s never-ending  russia probe.  beyond the political window dressing however, there s a much bigger and more profound story lingering in the background. although court documents show flynn has admitted to giving false statements in reference to his  reaching out  to russia s ambassador to the us, sergey kislyak   the mere act of initiating contact with any foreign official is neither illegal nor is it a violation of ethics. putting the current red scare aside, this would normally be viewed as standard statecraft for members of any incoming us administration. even if flynn had promised the russian ambassador, as claimed this week by resistance leader rep. elijah e. cummings of maryland, that a trump government would  rip-up sanctions,  such a promise by flynn would not be unlawful. anyone can make a promise, we should point out here that neither flynn, nor donald trump would be in any position to make good on such a promise without the blessing of the us congress and senate. just look at what happened when trump took office. were any sanctions lifted?that said, after 18 months of fabricating fake news about russian hacking, russian meddling and russian collusion, it s not surprising that the new york times would get the flynn story wrong too, and on an even bigger scale than many of their past made-up stories about trump scandals. here we have yet another hand-wringing resistance writer, harry litman, claiming that flynn s testimony will go down in history next to watergate and iran-contra: the repercussions of the plea will be months in the making, but it s not an exaggeration to say that the events to which mr. flynn has agreed to testify will take their place in the history books alongside the watergate and iran-contra scandals. he might be right, if only the media coverage and the federal hearing would focus on the correct country with whom the trump team was colluding, which unfortunately was not russia. funny how partisan writer litman did not even mention the word israel once in his report. perhaps this is why certain persons in washington like adam schiff, chuck schumer, john mccain and others, along with their corrupt media counterparts like cnn, the washington post and the new york times have been incessantly pushing their fictional  russia did it  narrative for the last 18 months   because russiagate serves as a convenient overlay for israelgate.mehdi hassan from the intercept writes:  why aren t more members of congress or the media discussing the trump transition team s pretty brazen collusion with israeli prime minister benjamin netanyahu to undermine both u.s. government policy and international law? shouldn t that be treated as a major scandal? thanks to mueller s ongoing investigation, we now know that prior to president donald trump s inauguration, members of his inner circle went to bat on behalf of israel, and specifically on behalf of illegal israeli settlements in the occupied palestinian territories, behind the scenes and in opposition to official u.s. foreign policy. that s the kind of collusion with a foreign state that has gotten a lot of attention with respect to the kremlin   but colluding with israel seems to be of far less interest, strangely. yes, you heard that right. this was at minimum collusion with israel. but it goes much deeper than that. if this story is accurate, and we have every reason to believe it is (especially by the large silence in the american media, usually a positive indication of media avoidance), this would indicate that the then president-elect s close advisor and son-in-law, jared kushner, was clearly acting as a foreign agent   on behalf of the state of israel. the fact the us media are not taking this story more seriously should serve as a reminder as to how much power the israeli lobby wields in the us, not just over politicians, but over mainstream media as well. granted, this is a very serious charge   which comes with some serious consequences if kushner would ever be indicted, but the facts clearly demonstrate beyond any reasonable doubt, that then president-elect s son-in-law was using his proximity to the incoming commander and chief to execute a series of highly sensitive foreign policy maneuvers at the request of a foreign country.the history of israeli spying and outright meddling in us affairs is no secret to anyone willing to research it (unofficially a forbidden topic in us mainstream media), but this latest episode with trump and kushner is even more disturbing considering this week s controversial east jerusalem announcement (21wire warned about an east jerusalem provocation 12 months ago).beyond this, many will argue that the radical fundamentalist zionist agenda which kushner is aggressively pursuing on behalf of tel aviv is not in the interest of the wider middle east, nor is it good for america s european partners, and may even contribute to a further destablization of the region   as evidenced by recent violence which has erupted following trump s provocative move. the result is not necessarily in america s interests, even if it is certainly in israel s interests.author mehdi hassan continues:here s what we learned last week when mueller s team unveiled its plea deal with trump s former national security adviser, retired gen. michael flynn. in december 2016, the united nations security council was debating a draft resolution that condemned israeli settlement expansion in the occupied territories as a  flagrant violation under international law  that was  dangerously imperiling the viability  of an independent palestinian state.the obama administration had made it clear that the u.s. was planning to abstain on the resolution, while noting that  the settlements have no legal validity  and observing how  the settlement problem has gotten so much worse that it is now putting at risk the   two-state solution.  (rhetorically, at least, u.s. opposition to israeli settlements has been a long-standing and bipartisan position for decades: ronald reagan called for  a real settlement freeze  in 1982 while george h.w. bush tried to curb israeli settlement-building plans by briefly cutting off u.s. loan guarantees to the jewish state in 1991.)everyone expected that the upcoming un vote on illegal israeli settlements was going to be a divisive issue, but with only weeks before trump s fast approaching inauguration, israel had its trojan horse in position. hassan goes on to explain tel aviv s covert mechanism for manipulating the un vote: on or about december 22, 2016, a very senior member of the presidential transition team directed flynn to contact officials from foreign governments, including russia, to learn where each government stood on the resolution and to influence those governments to delay the vote or defeat the resolution,  reads the statement of offense against flynn, who pleaded guilty to lying to the fbi about his conversations with the russian ambassador to the u.s.  on or about december 22, 2016, flynn contacted the russian ambassador about the pending vote. flynn informed the russian ambassador about the incoming administration s opposition to the resolution, and requested that russia vote against or delay the resolution. bffs: donald trump talks to his chief foreign policy advisor, israeli president benjamin netanyahu.so who was this very senior member of trump s team who sought to execute orders from the office of israeli president benjamin netanyahu? hassan explains:who was the  very senior member  of the transition team who  directed  flynn to do all this? multiple news outlets have confirmed that it was jared kushner, trump s son-in-law and main point man on the middle east peace process.  jared called flynn and told him you need to get on the phone to every member of the security council and tell them to delay the vote,  a trump transition official revealed to buzzfeed news on friday, adding that kushner told flynn  this was a top priority for the president. according to buzzfeed:  after hanging up, flynn told the entire room [at the trump transition team hq] that they d have to start pushing to lobby against the u.n. vote, saying  the president wants this done asap.  flynn s guilty plea, buzzfeed continued, revealed  for the first time how trump transition officials solicited russia s help to head off the un vote and undermine the obama administration s policy on middle east peace before ever setting foot in the white house. even during the height of the neocon era, with multiple israeli loyalists in the cabinet (including some dual passport holders) shaping white house middle east policy   ultimately into a ditch with iraq, the level of manipulation wasn t this overt. trump s decision to reverse successive us administrations  new policy on east jerusalem is inconceivable, if not for some other x-factor which the pnac-dominated george w. bush could not even manage.the facts of the case against kushner have not been contested, and in fact kushner has even been gloating out on the speaking circuit, with his doting wife ivanka proudly advertizing her husband s  accomplishment  on behalf israel.my husband, jared kushner, had a great conversation on the middle east with haim saban today at the saban forum. #saban17https://t.co/bubgfd1ynr  ivanka trump (@ivankatrump) december 4, 2017 none of this has been contested. in fact, on sunday, kushner made a rare public appearance at the saban forum in washington, d.c., to discuss the trump administration s plans for the middle east and was welcomed by the forum s sponsor, the israeli-american billionaire haim saban, who said he  personally wanted to thank  kushner for  taking steps to try and get the united nations security council to not go along with what ended up being an abstention by the u.s.  kushner s response? the first son-in-law smiled, nodded, and mouthed  thank you  to saban.meanwhile, the israelis have been pretty forthcoming about their own role in all of this, too. on monday, ron dermer, israel s ambassador to the u.s. and a close friend and ally of netanyahu, told politico s susan glasser that, in december 2016,  obviously we reached out to [the trump transition team] in the hope that they would help us,  and  we were hopeful that they would speak  to other governments  in order to prevent this vote from happening. got that? the trump transition team   in the form of key trump advisers kushner and flynn   reached out to the russian government in order to undermine the u.s. government because the israeli government asked them to. according to these reports, kushner was using his position in the transition team to act on israel s behalf   outside of any governmental framework of accountability. if flynn inadvertently found himself in a russian trap, it was because israel and its in-house operative demanded it.if flynn is guilty of anything, it would be going along with kushner s israel first scheme ahead of the united nations vote. what is odd though, is why the entire us mainstream media is not interested in this part of the story. even the never trump  resistance  seem to be afraid of taking this narrative on. i guess even the resistance has its limits. rather than go for a case where the evidence is sitting right there on a silver salver, instead they will go for the russian conspiracy theory. alas, old habits die hard.see also: the genealogy of trump s u-turn on palestinethis series of events is all the more pertinent when considering this week s announcement by president trump that the us is to recognize jerusalem as the capital of israel, and will be moving its embassy from tel aviv to east jerusalem. many are already calling this  the kiss of death  to the israel-palestine peace process. in a predictable succession of events, the jerusalem provocation was a fait accompli after trump had announced in october that the us would be withdrawing from support for unesco, the un body which is meant to help maintain the neutrality of jerusalem as an internationally protected area. the trump administration justified its resignation from the key un agency on the grounds that it is  biased against israel.  but the neutrality of jerusalem is an essential policy for maintaining peace in a less than ideal situation with palestine still under a brutal military occupation by an illegitimate and illegal (by international law and successive un resolutions) israeli jackboot.in addition to all this, this past summer the united states announced the establishment of a permanent military installation inside of israel. what s scary is how many people do not know this has happened.so trump s  minence grise, the wunderkind, who some people have called the president in-law, is really israel s man inside the white house.landed on his feet:  president in-law  jared kushner.so what exactly are jared kushner s credentials in international relations and diplomacy that he has been charged with negotiating middle east affairs for the united states of america? without sounding too cruel here, it s difficult to find anything to say in his defense. in the end, his only visible qualification is that he s married to the president s daughter, and that s he s  a good friend  of netanyahu. that s really it.credit where credit s due though. aside from marrying into the dynasty, kushner is also the former owner of a mediocre website, the new york observer, and has also managed to parlay his family status to help finance a number of high-profile new york city property deals with foreign buyers (no doubt with the help of his father-in-law).isn t that what kushner is doing right now   using his inherited clout to help  close friend  benjamin netanyahu broker property deals (highly illegal by international law) in the middle east, only this time with his uncle sam acting as the guarantor? it certainly looks that way. the question is, will anyone in the us do anything about it?when this latest episode of hubris by the white house and israel eventually unravels, the public and the media might then turn on kushner and trump, but by then the damage will have already been done.meanwhile, men like jake tapper and wolf blitzer will still be chasing those illusive russian hackers clear into the 2020 election cycle, which is probably a stupid move for the resistance, but if the last 18 months have taught us anything it s that there isn t much clear thinking going on in that corner of the galaxy.until then, netanyahu can feel safe in the knowledge that israel, not washington, is currently in control of us foreign policy.one final note to the brave never-trump resistance: if a foreign state actor is blackmailing this president or the white house, it s probably not russia.*** author patrick henningsen is an american writer and global affairs analyst and founder of independent news and analysis site 21st century wire, and is host of the sunday wire weekly radio show broadcast globally over the alternate current radio network (acr). he has written for a number of international publications and has done extensive on-the-ground reporting of the conflict syria, iraq and the middle east.read more israel news at: 21st century wire israel filessupport 21wire  subscribe now & become a member @21wire.tv\n",
            "1\n",
            "[101, 4754, 21863, 5582, 5054, 7398, 2301, 7318, 12274, 2818, 2001, 2081, 2023, 2733, 1999, 1996, 2149, 2865, 2055, 2745, 13259, 1055, 3522, 5905, 14865, 2000, 2437, 6270, 8635, 2000, 1996, 8495, 1010, 2004, 2112, 1997, 2569, 9517, 2728, 26774, 1055, 2196, 1011, 4566, 3607, 15113, 1012, 3458, 1996, 2576, 3332, 11225, 2174, 1010, 2045, 1055, 1037, 2172, 7046, 1998, 2062, 13769, 2466, 15304, 1999, 1996, 4281, 1012, 2348, 2457, 5491, 2265, 13259, 2038, 4914, 2000, 3228, 6270, 8635, 1999, 4431, 2000, 2010, 4285, 2041, 2000, 3607, 1055, 6059, 2000, 1996, 2149, 1010, 22703, 11382, 14540, 3148, 2243, 1996, 8210, 2552, 1997, 26616, 3967, 2007, 2151, 3097, 2880, 2003, 4445, 6206, 4496, 2003, 2009, 1037, 11371, 1997, 9615, 1012, 5128, 1996, 2783, 2417, 12665, 4998, 1010, 2023, 2052, 5373, 2022, 7021, 2004, 3115, 2110, 10419, 2005, 2372, 1997, 2151, 14932, 2149, 3447, 1012, 2130, 2065, 13259, 2018, 5763, 1996, 2845, 6059, 1010, 2004, 3555, 2023, 2733, 2011, 5012, 3003, 16360, 1012, 14063, 1041, 1012, 20750, 1997, 5374, 1010, 2008, 1037, 8398, 2231, 2052, 10973, 1011, 2039, 17147, 1010, 2107, 1037, 4872, 2011, 13259, 2052, 2025, 2022, 22300, 1012, 3087, 2064, 2191, 1037, 4872, 1010, 2057, 2323, 2391, 2041, 2182, 2008, 4445, 13259, 1010, 4496, 6221, 8398, 2052, 2022, 1999, 2151, 2597, 2000, 2191, 2204, 2006, 2107, 1037, 4872, 2302, 1996, 13301, 1997, 1996, 2149, 3519, 1998, 4001, 1012, 2074, 2298, 2012, 2054, 3047, 2043, 8398, 2165, 2436, 1012, 2020, 2151, 17147, 4196, 1029, 2008, 2056, 1010, 2044, 2324, 2706, 1997, 8313, 5844, 8275, 2739, 2055, 2845, 23707, 1010, 2845, 19960, 14423, 1998, 2845, 8902, 24117, 1010, 2009, 1055, 2025, 11341, 2008, 1996, 2047, 2259, 2335, 2052, 2131, 1996, 13259, 2466, 3308, 2205, 1010, 1998, 2006, 2019, 2130, 7046, 4094, 2084, 2116, 1997, 2037, 2627, 2081, 1011, 2039, 3441, 2055, 8398, 29609, 1012, 2182, 2057, 2031, 2664, 2178, 2192, 1011, 23277, 23180, 5012, 3213, 1010, 4302, 5507, 2386, 1010, 6815, 2008, 13259, 1055, 10896, 2097, 2175, 2091, 1999, 2381, 2279, 2000, 2300, 5867, 1998, 4238, 1011, 24528, 1024, 1996, 16360, 2121, 7874, 27466, 1997, 1996, 14865, 2097, 2022, 2706, 1999, 1996, 2437, 1010, 2021, 2009, 1055, 2025, 2019, 4654, 27609, 3370, 2000, 2360, 2008, 1996, 2824, 2000, 2029, 2720, 1012, 13259, 2038, 3530, 2000, 19919, 2097, 2202, 2037, 2173, 1999, 1996, 2381, 2808, 4077, 1996, 2300, 5867, 1998, 4238, 1011, 24528, 29609, 1012, 2002, 2453, 2022, 2157, 1010, 2065, 2069, 1996, 2865, 6325, 1998, 1996, 2976, 4994, 2052, 3579, 2006, 1996, 6149, 2406, 2007, 3183, 1996, 8398, 2136, 2001, 8902, 7630, 4667, 1010, 2029, 6854, 2001, 2025, 3607, 1012, 6057, 2129, 14254, 3213, 5507, 2386, 2106, 2025, 2130, 5254, 1996, 2773, 3956, 2320, 1999, 2010, 3189, 1012, 3383, 2023, 2003, 2339, 3056, 5381, 1999, 2899, 2066, 4205, 8040, 25798, 1010, 8057, 8040, 28600, 2121, 1010, 2198, 19186, 1998, 2500, 1010, 2247, 2007, 2037, 13593, 2865, 14562, 2066, 13229, 1010, 1996, 2899, 2695, 1998, 1996, 2047, 2259, 2335, 2031, 2042, 4297, 7971, 15706, 6183, 2037, 7214, 3607, 2106, 2009, 7984, 2005, 1996, 2197, 2324, 2706, 2138, 3607, 5867, 4240, 2004, 1037, 14057, 2058, 102]\n",
            "[1, 1, 1, 1, 1, 1, 1, 1, 1, 1, 1, 1, 1, 1, 1, 1, 1, 1, 1, 1, 1, 1, 1, 1, 1, 1, 1, 1, 1, 1, 1, 1, 1, 1, 1, 1, 1, 1, 1, 1, 1, 1, 1, 1, 1, 1, 1, 1, 1, 1, 1, 1, 1, 1, 1, 1, 1, 1, 1, 1, 1, 1, 1, 1, 1, 1, 1, 1, 1, 1, 1, 1, 1, 1, 1, 1, 1, 1, 1, 1, 1, 1, 1, 1, 1, 1, 1, 1, 1, 1, 1, 1, 1, 1, 1, 1, 1, 1, 1, 1, 1, 1, 1, 1, 1, 1, 1, 1, 1, 1, 1, 1, 1, 1, 1, 1, 1, 1, 1, 1, 1, 1, 1, 1, 1, 1, 1, 1, 1, 1, 1, 1, 1, 1, 1, 1, 1, 1, 1, 1, 1, 1, 1, 1, 1, 1, 1, 1, 1, 1, 1, 1, 1, 1, 1, 1, 1, 1, 1, 1, 1, 1, 1, 1, 1, 1, 1, 1, 1, 1, 1, 1, 1, 1, 1, 1, 1, 1, 1, 1, 1, 1, 1, 1, 1, 1, 1, 1, 1, 1, 1, 1, 1, 1, 1, 1, 1, 1, 1, 1, 1, 1, 1, 1, 1, 1, 1, 1, 1, 1, 1, 1, 1, 1, 1, 1, 1, 1, 1, 1, 1, 1, 1, 1, 1, 1, 1, 1, 1, 1, 1, 1, 1, 1, 1, 1, 1, 1, 1, 1, 1, 1, 1, 1, 1, 1, 1, 1, 1, 1, 1, 1, 1, 1, 1, 1, 1, 1, 1, 1, 1, 1, 1, 1, 1, 1, 1, 1, 1, 1, 1, 1, 1, 1, 1, 1, 1, 1, 1, 1, 1, 1, 1, 1, 1, 1, 1, 1, 1, 1, 1, 1, 1, 1, 1, 1, 1, 1, 1, 1, 1, 1, 1, 1, 1, 1, 1, 1, 1, 1, 1, 1, 1, 1, 1, 1, 1, 1, 1, 1, 1, 1, 1, 1, 1, 1, 1, 1, 1, 1, 1, 1, 1, 1, 1, 1, 1, 1, 1, 1, 1, 1, 1, 1, 1, 1, 1, 1, 1, 1, 1, 1, 1, 1, 1, 1, 1, 1, 1, 1, 1, 1, 1, 1, 1, 1, 1, 1, 1, 1, 1, 1, 1, 1, 1, 1, 1, 1, 1, 1, 1, 1, 1, 1, 1, 1, 1, 1, 1, 1, 1, 1, 1, 1, 1, 1, 1, 1, 1, 1, 1, 1, 1, 1, 1, 1, 1, 1, 1, 1, 1, 1, 1, 1, 1, 1, 1, 1, 1, 1, 1, 1, 1, 1, 1, 1, 1, 1, 1, 1, 1, 1, 1, 1, 1, 1, 1, 1, 1, 1, 1, 1, 1, 1, 1, 1, 1, 1, 1, 1, 1, 1, 1, 1, 1, 1, 1, 1, 1, 1, 1, 1, 1, 1, 1, 1, 1, 1, 1, 1, 1, 1, 1, 1, 1, 1, 1, 1, 1, 1, 1, 1, 1, 1, 1, 1, 1, 1, 1, 1, 1, 1, 1, 1, 1, 1, 1, 1, 1, 1, 1, 1, 1, 1, 1, 1, 1, 1, 1, 1, 1, 1]\n"
          ]
        },
        {
          "name": "stderr",
          "output_type": "stream",
          "text": [
            "\n",
            "\u001b[A\n",
            "Saving the dataset (1/1 shards): 100%|██████████| 7598/7598 [00:00<00:00, 117705.61 examples/s]\n",
            "\n",
            "\u001b[A\n",
            "Saving the dataset (1/1 shards): 100%|██████████| 1900/1900 [00:00<00:00, 63869.92 examples/s]\n"
          ]
        },
        {
          "name": "stdout",
          "output_type": "stream",
          "text": [
            "Fine tuning...\n"
          ]
        },
        {
          "name": "stderr",
          "output_type": "stream",
          "text": [
            "  0%|          | 0/7110 [06:25<?, ?it/s]\n",
            "  3%|▎         | 238/7140 [01:17<51:11,  2.25it/s]\n",
            "\u001b[A\n",
            "\u001b[A\n",
            "\u001b[A\n",
            "\u001b[A\n",
            "\u001b[A\n",
            "\u001b[A\n",
            "\u001b[A\n",
            "\u001b[A\n",
            "\u001b[A\n",
            "\u001b[A\n",
            "\u001b[A\n",
            "\u001b[A\n",
            "\u001b[A\n",
            "\u001b[A\n",
            "\u001b[A\n",
            "\u001b[A\n",
            "\u001b[A\n",
            "\u001b[A\n",
            "\u001b[A\n",
            "\u001b[A\n",
            "\u001b[A\n",
            "\u001b[A\n",
            "\u001b[A\n",
            "\u001b[A\n",
            "\u001b[A\n",
            "\u001b[A\n",
            "\u001b[A\n",
            "\u001b[A\n",
            "\u001b[A\n",
            "\u001b[A\n",
            "\u001b[A\n",
            "                                                  \n",
            "\n",
            "  3%|▎         | 238/7140 [01:24<51:11,  2.25it/s]\n",
            "\u001b[A\n",
            "\u001b[A"
          ]
        },
        {
          "name": "stdout",
          "output_type": "stream",
          "text": [
            "{'eval_loss': 0.0913473516702652, 'eval_accuracy': 0.9778947368421053, 'eval_f1': 0.9766146993318485, 'eval_runtime': 6.6931, 'eval_samples_per_second': 283.872, 'eval_steps_per_second': 8.964, 'epoch': 1.0}\n"
          ]
        },
        {
          "name": "stderr",
          "output_type": "stream",
          "text": [
            "  7%|▋         | 476/7140 [02:38<29:02,  3.82it/s]  \n",
            "\u001b[A\n",
            "\u001b[A\n",
            "\u001b[A\n",
            "\u001b[A\n",
            "\u001b[A\n",
            "\u001b[A\n",
            "\u001b[A\n",
            "\u001b[A\n",
            "\u001b[A\n",
            "\u001b[A\n",
            "\u001b[A\n",
            "\u001b[A\n",
            "\u001b[A\n",
            "\u001b[A\n",
            "\u001b[A\n",
            "\u001b[A\n",
            "\u001b[A\n",
            "\u001b[A\n",
            "\u001b[A\n",
            "\u001b[A\n",
            "\u001b[A\n",
            "\u001b[A\n",
            "\u001b[A\n",
            "\u001b[A\n",
            "\u001b[A\n",
            "\u001b[A\n",
            "\u001b[A\n",
            "\u001b[A\n",
            "\u001b[A\n",
            "\u001b[A\n",
            "                                                  \n",
            "\n",
            "  7%|▋         | 476/7140 [02:44<29:02,  3.82it/s]\n",
            "\u001b[A\n",
            "\u001b[A"
          ]
        },
        {
          "name": "stdout",
          "output_type": "stream",
          "text": [
            "{'eval_loss': 0.03496677428483963, 'eval_accuracy': 0.9910526315789474, 'eval_f1': 0.9906951286261632, 'eval_runtime': 6.6734, 'eval_samples_per_second': 284.714, 'eval_steps_per_second': 8.991, 'epoch': 2.0}\n"
          ]
        },
        {
          "name": "stderr",
          "output_type": "stream",
          "text": [
            "  7%|▋         | 500/7140 [02:52<35:18,  3.13it/s]  \n",
            "  7%|▋         | 500/7140 [02:52<35:18,  3.13it/s]"
          ]
        },
        {
          "name": "stdout",
          "output_type": "stream",
          "text": [
            "{'loss': 0.1892, 'grad_norm': 1.2416232824325562, 'learning_rate': 4.6498599439775914e-05, 'epoch': 2.1}\n"
          ]
        },
        {
          "name": "stderr",
          "output_type": "stream",
          "text": [
            " 10%|█         | 714/7140 [03:58<27:16,  3.93it/s]\n",
            "\u001b[A\n",
            "\u001b[A\n",
            "\u001b[A\n",
            "\u001b[A\n",
            "\u001b[A\n",
            "\u001b[A\n",
            "\u001b[A\n",
            "\u001b[A\n",
            "\u001b[A\n",
            "\u001b[A\n",
            "\u001b[A\n",
            "\u001b[A\n",
            "\u001b[A\n",
            "\u001b[A\n",
            "\u001b[A\n",
            "\u001b[A\n",
            "\u001b[A\n",
            "\u001b[A\n",
            "\u001b[A\n",
            "\u001b[A\n",
            "\u001b[A\n",
            "\u001b[A\n",
            "\u001b[A\n",
            "\u001b[A\n",
            "\u001b[A\n",
            "\u001b[A\n",
            "\u001b[A\n",
            "\u001b[A\n",
            "\u001b[A\n",
            "\u001b[A\n",
            "                                                  \n",
            "\n",
            " 10%|█         | 714/7140 [04:05<27:16,  3.93it/s]\n",
            "\u001b[A\n",
            "\u001b[A"
          ]
        },
        {
          "name": "stdout",
          "output_type": "stream",
          "text": [
            "{'eval_loss': 0.028745576739311218, 'eval_accuracy': 0.9931578947368421, 'eval_f1': 0.9929000546149646, 'eval_runtime': 6.6747, 'eval_samples_per_second': 284.657, 'eval_steps_per_second': 8.989, 'epoch': 3.0}\n"
          ]
        },
        {
          "name": "stderr",
          "output_type": "stream",
          "text": [
            " 13%|█▎        | 952/7140 [05:18<26:56,  3.83it/s]  \n",
            "\u001b[A\n",
            "\u001b[A\n",
            "\u001b[A\n",
            "\u001b[A\n",
            "\u001b[A\n",
            "\u001b[A\n",
            "\u001b[A\n",
            "\u001b[A\n",
            "\u001b[A\n",
            "\u001b[A\n",
            "\u001b[A\n",
            "\u001b[A\n",
            "\u001b[A\n",
            "\u001b[A\n",
            "\u001b[A\n",
            "\u001b[A\n",
            "\u001b[A\n",
            "\u001b[A\n",
            "\u001b[A\n",
            "\u001b[A\n",
            "\u001b[A\n",
            "\u001b[A\n",
            "\u001b[A\n",
            "\u001b[A\n",
            "\u001b[A\n",
            "\u001b[A\n",
            "\u001b[A\n",
            "\u001b[A\n",
            "\u001b[A\n",
            "\u001b[A\n",
            "                                                  \n",
            "\n",
            " 13%|█▎        | 952/7140 [05:25<26:56,  3.83it/s]\n",
            "\u001b[A\n",
            "\u001b[A"
          ]
        },
        {
          "name": "stdout",
          "output_type": "stream",
          "text": [
            "{'eval_loss': 0.025752326473593712, 'eval_accuracy': 0.9926315789473684, 'eval_f1': 0.9923497267759562, 'eval_runtime': 6.6738, 'eval_samples_per_second': 284.696, 'eval_steps_per_second': 8.99, 'epoch': 4.0}\n"
          ]
        },
        {
          "name": "stderr",
          "output_type": "stream",
          "text": [
            " 14%|█▍        | 1000/7140 [05:40<31:29,  3.25it/s] \n",
            " 14%|█▍        | 1000/7140 [05:40<31:29,  3.25it/s]"
          ]
        },
        {
          "name": "stdout",
          "output_type": "stream",
          "text": [
            "{'loss': 0.0204, 'grad_norm': 0.04477132111787796, 'learning_rate': 4.2997198879551826e-05, 'epoch': 4.2}\n"
          ]
        },
        {
          "name": "stderr",
          "output_type": "stream",
          "text": [
            " 17%|█▋        | 1190/7140 [06:38<25:24,  3.90it/s]\n",
            "\u001b[A\n",
            "\u001b[A\n",
            "\u001b[A\n",
            "\u001b[A\n",
            "\u001b[A\n",
            "\u001b[A\n",
            "\u001b[A\n",
            "\u001b[A\n",
            "\u001b[A\n",
            "\u001b[A\n",
            "\u001b[A\n",
            "\u001b[A\n",
            "\u001b[A\n",
            "\u001b[A\n",
            "\u001b[A\n",
            "\u001b[A\n",
            "\u001b[A\n",
            "\u001b[A\n",
            "\u001b[A\n",
            "\u001b[A\n",
            "\u001b[A\n",
            "\u001b[A\n",
            "\u001b[A\n",
            "\u001b[A\n",
            "\u001b[A\n",
            "\u001b[A\n",
            "\u001b[A\n",
            "\u001b[A\n",
            "\u001b[A\n",
            "\u001b[A\n",
            "                                                   \n",
            "\n",
            " 17%|█▋        | 1190/7140 [06:45<25:24,  3.90it/s]\n",
            "\u001b[A\n",
            "\u001b[A"
          ]
        },
        {
          "name": "stdout",
          "output_type": "stream",
          "text": [
            "{'eval_loss': 0.020923331379890442, 'eval_accuracy': 0.9947368421052631, 'eval_f1': 0.9945474372955289, 'eval_runtime': 6.6621, 'eval_samples_per_second': 285.196, 'eval_steps_per_second': 9.006, 'epoch': 5.0}\n"
          ]
        },
        {
          "name": "stderr",
          "output_type": "stream",
          "text": [
            " 20%|██        | 1428/7140 [07:58<24:52,  3.83it/s]  \n",
            "\u001b[A\n",
            "\u001b[A\n",
            "\u001b[A\n",
            "\u001b[A\n",
            "\u001b[A\n",
            "\u001b[A\n",
            "\u001b[A\n",
            "\u001b[A\n",
            "\u001b[A\n",
            "\u001b[A\n",
            "\u001b[A\n",
            "\u001b[A\n",
            "\u001b[A\n",
            "\u001b[A\n",
            "\u001b[A\n",
            "\u001b[A\n",
            "\u001b[A\n",
            "\u001b[A\n",
            "\u001b[A\n",
            "\u001b[A\n",
            "\u001b[A\n",
            "\u001b[A\n",
            "\u001b[A\n",
            "\u001b[A\n",
            "\u001b[A\n",
            "\u001b[A\n",
            "\u001b[A\n",
            "\u001b[A\n",
            "\u001b[A\n",
            "\u001b[A\n",
            "\u001b[A\n",
            "\u001b[A\n",
            "\u001b[A\n",
            "\u001b[A\n",
            "\u001b[A\n",
            "\u001b[A\n",
            "\u001b[A\n",
            "                                                   \n",
            "\n",
            " 20%|██        | 1428/7140 [08:05<24:52,  3.83it/s]\n",
            "\u001b[A\n",
            "\u001b[A"
          ]
        },
        {
          "name": "stdout",
          "output_type": "stream",
          "text": [
            "{'eval_loss': 0.028240203857421875, 'eval_accuracy': 0.991578947368421, 'eval_f1': 0.991218441273326, 'eval_runtime': 6.8904, 'eval_samples_per_second': 275.746, 'eval_steps_per_second': 8.708, 'epoch': 6.0}\n"
          ]
        },
        {
          "name": "stderr",
          "output_type": "stream",
          "text": [
            " 21%|██        | 1500/7140 [08:27<28:56,  3.25it/s]  \n",
            " 21%|██        | 1500/7140 [08:27<28:56,  3.25it/s]"
          ]
        },
        {
          "name": "stdout",
          "output_type": "stream",
          "text": [
            "{'loss': 0.0106, 'grad_norm': 0.0437537245452404, 'learning_rate': 3.949579831932773e-05, 'epoch': 6.3}\n"
          ]
        },
        {
          "name": "stderr",
          "output_type": "stream",
          "text": [
            " 23%|██▎       | 1666/7140 [09:19<24:07,  3.78it/s]\n",
            "\u001b[A\n",
            "\u001b[A\n",
            "\u001b[A\n",
            "\u001b[A\n",
            "\u001b[A\n",
            "\u001b[A\n",
            "\u001b[A\n",
            "\u001b[A\n",
            "\u001b[A\n",
            "\u001b[A\n",
            "\u001b[A\n",
            "\u001b[A\n",
            "\u001b[A\n",
            "\u001b[A\n",
            "\u001b[A\n",
            "\u001b[A\n",
            "\u001b[A\n",
            "\u001b[A\n",
            "\u001b[A\n",
            "\u001b[A\n",
            "\u001b[A\n",
            "\u001b[A\n",
            "\u001b[A\n",
            "\u001b[A\n",
            "\u001b[A\n",
            "\u001b[A\n",
            "\u001b[A\n",
            "\u001b[A\n",
            "\u001b[A\n",
            "\u001b[A\n",
            "\u001b[A\n",
            "                                                   \n",
            "\n",
            " 23%|██▎       | 1666/7140 [09:26<24:07,  3.78it/s]\n",
            "\u001b[A\n",
            "\u001b[A"
          ]
        },
        {
          "name": "stdout",
          "output_type": "stream",
          "text": [
            "{'eval_loss': 0.027564477175474167, 'eval_accuracy': 0.9947368421052631, 'eval_f1': 0.9945414847161572, 'eval_runtime': 6.8125, 'eval_samples_per_second': 278.9, 'eval_steps_per_second': 8.807, 'epoch': 7.0}\n"
          ]
        },
        {
          "name": "stderr",
          "output_type": "stream",
          "text": [
            " 27%|██▋       | 1904/7140 [10:40<22:59,  3.80it/s]  \n",
            "\u001b[A\n",
            "\u001b[A\n",
            "\u001b[A\n",
            "\u001b[A\n",
            "\u001b[A\n",
            "\u001b[A\n",
            "\u001b[A\n",
            "\u001b[A\n",
            "\u001b[A\n",
            "\u001b[A\n",
            "\u001b[A\n",
            "\u001b[A\n",
            "\u001b[A\n",
            "\u001b[A\n",
            "\u001b[A\n",
            "\u001b[A\n",
            "\u001b[A\n",
            "\u001b[A\n",
            "\u001b[A\n",
            "\u001b[A\n",
            "\u001b[A\n",
            "\u001b[A\n",
            "\u001b[A\n",
            "\u001b[A\n",
            "\u001b[A\n",
            "\u001b[A\n",
            "\u001b[A\n",
            "\u001b[A\n",
            "\u001b[A\n",
            "\u001b[A\n",
            "\u001b[A\n",
            "\u001b[A\n",
            "\u001b[A\n",
            "\u001b[A\n",
            "\u001b[A\n",
            "\u001b[A\n",
            "\u001b[A\n",
            "                                                   \n",
            "\n",
            " 27%|██▋       | 1904/7140 [10:46<22:59,  3.80it/s]\n",
            "\u001b[A\n",
            "\u001b[A"
          ]
        },
        {
          "name": "stdout",
          "output_type": "stream",
          "text": [
            "{'eval_loss': 0.043944213539361954, 'eval_accuracy': 0.9894736842105263, 'eval_f1': 0.989010989010989, 'eval_runtime': 6.8129, 'eval_samples_per_second': 278.882, 'eval_steps_per_second': 8.807, 'epoch': 8.0}\n"
          ]
        },
        {
          "name": "stderr",
          "output_type": "stream",
          "text": [
            "\n",
            " 27%|██▋       | 1904/7140 [10:47<29:39,  2.94it/s]"
          ]
        },
        {
          "name": "stdout",
          "output_type": "stream",
          "text": [
            "{'train_runtime': 647.1767, 'train_samples_per_second': 352.207, 'train_steps_per_second': 11.033, 'train_loss': 0.05921230834572255, 'epoch': 8.0}\n"
          ]
        },
        {
          "name": "stderr",
          "output_type": "stream",
          "text": [
            "\n"
          ]
        }
      ],
      "source": [
        "# tokenising the texts ================================================================\n",
        "\n",
        "TRANSFORMER_TOKENIZED_TEXT_DIR = \"./data/input_text_transformer_tokenized\"\n",
        "\n",
        "if os.path.exists(TRANSFORMER_TOKENIZED_TEXT_DIR):\n",
        "    tokenized_datasets = DatasetDict.load_from_disk(TRANSFORMER_TOKENIZED_TEXT_DIR)\n",
        "    print(\"Loaded existing tokenized text\")\n",
        "    \n",
        "else:    \n",
        "    os.makedirs(TRANSFORMER_TOKENIZED_TEXT_DIR, exist_ok=True)\n",
        "    print(\"Tokenizing...\")                                      \n",
        "    \n",
        "    def tokenize_function(dataset):\n",
        "        return transformer_tokenizer(\n",
        "            dataset[\"text\"], \n",
        "            truncation=True, \n",
        "            padding=\"max_length\", \n",
        "            max_length=512) \n",
        "\n",
        "    tokenized_datasets = dataset_dict.map(\n",
        "        tokenize_function, \n",
        "        batched=True, \n",
        "        batch_size=100 \n",
        "    )\n",
        "\n",
        "    print(tokenized_datasets['train'][0]['text'])\n",
        "    print(tokenized_datasets['train'][0]['label'])\n",
        "    print(tokenized_datasets['train'][0]['input_ids'])\n",
        "    print(tokenized_datasets['train'][0]['attention_mask'])\n",
        "    \n",
        "    tokenized_datasets.save_to_disk(TRANSFORMER_TOKENIZED_TEXT_DIR)\n",
        "\n",
        "# fine-tuning the model ================================================================\n",
        "\n",
        "TRANSFORMER_MODEL_DIR = \"./models/transformer_results\"\n",
        "TRANSFORMER_MODEL_FILE = os.path.join(TRANSFORMER_MODEL_DIR, \"model.safetensors\")\n",
        "TRANSFORMER_TOKENIZER_DIR = \"./models/transformer_results\"\n",
        "\n",
        "\n",
        "if os.path.exists(TRANSFORMER_MODEL_FILE):\n",
        "    transformer_tokenizer = AutoTokenizer.from_pretrained(TRANSFORMER_TOKENIZER_DIR)\n",
        "    transformer_model = AutoModelForSequenceClassification.from_pretrained(TRANSFORMER_MODEL_DIR)\n",
        "    print(\"Model loaded from disk.\")\n",
        "else:\n",
        "    os.makedirs(TRANSFORMER_MODEL_DIR, exist_ok=True)\n",
        "    print(\"Fine tuning...\")\n",
        "\n",
        "    training_args = TrainingArguments(output_dir=TRANSFORMER_MODEL_DIR,\n",
        "                                    eval_strategy=\"epoch\",\n",
        "                                    save_strategy=\"epoch\",\n",
        "                                    per_device_train_batch_size=32,\n",
        "                                    per_device_eval_batch_size=32,\n",
        "                                    num_train_epochs=30,\n",
        "                                    load_best_model_at_end=True,\n",
        "                                    metric_for_best_model='f1',\n",
        "                                    disable_tqdm=False,\n",
        "                                    use_cpu=False)\n",
        "\n",
        "    def compute_metrics(eval_preds):\n",
        "        metric = evaluate.load(\"glue\", \"mrpc\")\n",
        "        logits, labels = eval_preds\n",
        "        predictions = np.argmax(logits, axis=-1)\n",
        "        return metric.compute(predictions=predictions, references=labels)\n",
        "\n",
        "    trainer = Trainer(\n",
        "        transformer_model,\n",
        "        training_args,\n",
        "        train_dataset=tokenized_datasets[\"train\"],\n",
        "        eval_dataset=tokenized_datasets[\"test\"],\n",
        "        compute_metrics=compute_metrics,\n",
        "        callbacks=[EarlyStoppingCallback(early_stopping_patience=3)]\n",
        "    )\n",
        "\n",
        "    trainer.train()\n",
        "\n",
        "    trainer.save_model(TRANSFORMER_MODEL_DIR)  \n",
        "    transformer_tokenizer.save_pretrained(TRANSFORMER_TOKENIZER_DIR)  "
      ]
    },
    {
      "cell_type": "code",
      "execution_count": 14,
      "metadata": {},
      "outputs": [
        {
          "name": "stdout",
          "output_type": "stream",
          "text": [
            "Using device: mps\n",
            "F1 Score: 0.9945474372955289\n",
            "Accuracy: 0.9947368421052631\n"
          ]
        }
      ],
      "source": [
        "# test transformer\n",
        "\n",
        "def batch_predict(model, tokenizer, texts, batch_size=16, device='mps', max_length=512):\n",
        "    \"\"\"\n",
        "    Predict labels for a batch of texts using the specified model and tokenizer.\n",
        "\n",
        "    Parameters:\n",
        "        model: The pre-trained model \n",
        "        tokenizer: The tokenizer associated with the pre-trained model.\n",
        "        texts: List of input texts to predict.\n",
        "        batch_size: Number of samples per batch.\n",
        "        device: Device to use ('mps', 'cuda', or 'cpu').\n",
        "        max_length: Maximum sequence length for tokenization.\n",
        "\n",
        "    Returns:\n",
        "        List of predicted labels.\n",
        "    \"\"\"\n",
        "    model.to(device)\n",
        "    model.eval()\n",
        "\n",
        "    predictions = []\n",
        "\n",
        "    with torch.no_grad():  # no gradients needed for prediction\n",
        "        for i in range(0, len(texts), batch_size):\n",
        "            batch_texts = texts[i:i + batch_size]\n",
        "\n",
        "            # tokenize batch with truncation and padding\n",
        "            tokenized_batch = tokenizer(\n",
        "                batch_texts,\n",
        "                padding=True,\n",
        "                truncation=True,\n",
        "                max_length=max_length,\n",
        "                return_tensors=\"pt\"\n",
        "            )\n",
        "            tokenized_batch = {key: value.to(device) for key, value in tokenized_batch.items()}\n",
        "\n",
        "            outputs = model(**tokenized_batch)\n",
        "\n",
        "            preds = torch.nn.functional.softmax(outputs.logits, dim=-1)\n",
        "            predicted_labels = torch.argmax(preds, dim=1)\n",
        "\n",
        "            predictions.extend(predicted_labels.cpu().numpy())  # Move predictions to CPU before storing\n",
        "\n",
        "    return predictions\n",
        "\n",
        "# USAGE\n",
        "device = torch.device(\"mps\") if torch.backends.mps.is_available() else torch.device(\"cpu\")\n",
        "print(f\"Using device: {device}\")\n",
        "\n",
        "test_texts = dataset_test[\"text\"]\n",
        "true_labels = dataset_test[\"label\"]\n",
        "\n",
        "# predictions in batches\n",
        "predicted_labels = batch_predict(transformer_model, transformer_tokenizer, test_texts, batch_size=16, device=device)\n",
        "\n",
        "f1 = f1_score(true_labels, predicted_labels)\n",
        "acc = accuracy_score(true_labels, predicted_labels)\n",
        "print(f\"F1 Score: {f1}\")\n",
        "print(f\"Accuracy: {acc}\")"
      ]
    }
  ],
  "metadata": {
    "accelerator": "GPU",
    "colab": {
      "gpuType": "T4",
      "provenance": []
    },
    "kernelspec": {
      "display_name": "nlp_1",
      "language": "python",
      "name": "python3"
    },
    "language_info": {
      "codemirror_mode": {
        "name": "ipython",
        "version": 3
      },
      "file_extension": ".py",
      "mimetype": "text/x-python",
      "name": "python",
      "nbconvert_exporter": "python",
      "pygments_lexer": "ipython3",
      "version": "3.9.21"
    }
  },
  "nbformat": 4,
  "nbformat_minor": 0
}
