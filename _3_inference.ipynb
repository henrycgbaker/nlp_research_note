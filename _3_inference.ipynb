{
 "cells": [
  {
   "cell_type": "code",
   "execution_count": 2,
   "metadata": {},
   "outputs": [
    {
     "name": "stderr",
     "output_type": "stream",
     "text": [
      "/Users/henrybaker/miniconda3/envs/nlp_1/lib/python3.9/site-packages/tqdm/auto.py:21: TqdmWarning: IProgress not found. Please update jupyter and ipywidgets. See https://ipywidgets.readthedocs.io/en/stable/user_install.html\n",
      "  from .autonotebook import tqdm as notebook_tqdm\n"
     ]
    }
   ],
   "source": [
    "# !pip install datasets fasttext evaluate\n",
    "import os\n",
    "import subprocess\n",
    "import kagglehub\n",
    "import pandas as pd\n",
    "import numpy as np\n",
    "from datasets import Dataset, DatasetDict, Features, Value, ClassLabel\n",
    "from sklearn.model_selection import train_test_split\n",
    "from sklearn.metrics import f1_score, accuracy_score\n",
    "from sklearn.feature_extraction.text import CountVectorizer\n",
    "from imblearn.under_sampling import RandomUnderSampler\n",
    "import spacy\n",
    "import spacy.cli\n",
    "import fasttext.util as fasttext_util\n",
    "import fasttext\n",
    "from collections import Counter\n",
    "from torch.utils.data import DataLoader\n",
    "import torch.nn as nn\n",
    "import torch\n",
    "import tqdm\n",
    "import pickle\n",
    "from transformers import AutoTokenizer, AutoModelForSequenceClassification, TrainingArguments, Trainer, EarlyStoppingCallback\n",
    "import evaluate\n",
    "import warnings\n",
    "import sys\n",
    "from tqdm import tqdm\n",
    "import matplotlib.pyplot as plt\n",
    "from importnb import Notebook\n",
    "\n",
    "device = torch.device(\"mps\") if torch.backends.mps.is_available() else torch.device(\"cuda\" if torch.cuda.is_available() else \"cpu\")\n",
    "warnings.filterwarnings(\"ignore\")"
   ]
  },
  {
   "cell_type": "markdown",
   "metadata": {},
   "source": [
    "# Data"
   ]
  },
  {
   "cell_type": "code",
   "execution_count": 2,
   "metadata": {},
   "outputs": [
    {
     "name": "stdout",
     "output_type": "stream",
     "text": [
      "Loading data\n"
     ]
    }
   ],
   "source": [
    "# DATA\n",
    "\n",
    "DATA_DIR = \"./data\"\n",
    "INFERENCE_DATA = \"./data/inference_data.csv\"\n",
    "\n",
    "if os.path.exists(INFERENCE_DATA):\n",
    "    print(\"Loading data\")\n",
    "    inference_df = pd.read_csv(\"./data/inference_data.csv\")\n",
    "else:\n",
    "    os.makedirs(DATA_DIR, exist_ok=True)\n",
    "    print(\"calling data proicessing script\")\n",
    "    \n",
    "    # Calling the Jupyter notebook script\n",
    "    subprocess.run(['jupyter', 'nbconvert', '--execute', '--to', 'notebook', '--inplace', '1_data_processing.ipynb'])"
   ]
  },
  {
   "cell_type": "markdown",
   "metadata": {},
   "source": [
    "# Transformer Inference"
   ]
  },
  {
   "cell_type": "code",
   "execution_count": null,
   "metadata": {},
   "outputs": [
    {
     "name": "stdout",
     "output_type": "stream",
     "text": [
      "Tokenized climate tweets pkl file found. Loading data...\n",
      "Using device: mps\n"
     ]
    }
   ],
   "source": [
    "# TRANSFORMER INFERENCE ================================================================\n",
    "model_path = \"./models/transformer_results\"\n",
    "bert_tokenizer = AutoTokenizer.from_pretrained(model_path)\n",
    "bert_uncased = AutoModelForSequenceClassification.from_pretrained(model_path)\n",
    "\n",
    "# Tokenize climate tweets\n",
    "CLIMATE_TOKENISED_BERT_DIR = './cache/climate_tokenised_bert.pkl'\n",
    "\n",
    "if os.path.exists(CLIMATE_TOKENISED_BERT_DIR):\n",
    "    print(\"Tokenized climate tweets pkl file found. Loading data...\")\n",
    "    with open(CLIMATE_TOKENISED_BERT_DIR, 'rb') as f:\n",
    "        climate_tokenised_bert = pickle.load(f)\n",
    "else:\n",
    "    print(\"Pickle file not found. Tokenizing climate tweets...\")\n",
    "    climate_tokenised_bert = bert_tokenizer(\n",
    "        list(inference_df[\"text\"]),  \n",
    "        truncation=True,\n",
    "        padding=\"max_length\",\n",
    "        max_length=512,\n",
    "        return_tensors=\"pt\"\n",
    "    )\n",
    "    with open(CLIMATE_TOKENISED_BERT_DIR, 'wb') as f:\n",
    "        pickle.dump(climate_tokenised_bert, f)\n",
    "    print(\"Tokenized climate tweets and saved to file.\")\n",
    "\n",
    "# Predict using fine-tuned Transformer model\n",
    "device = torch.device(\"mps\") if torch.backends.mps.is_available() else torch.device(\"cpu\")\n",
    "print(f\"Using device: {device}\")\n",
    "\n",
    "def predict_climate_tweets(model, tokenized_texts, batch_size=32, device='mps'):\n",
    "    model.to(device)\n",
    "    model.eval()\n",
    "\n",
    "    predictions = []\n",
    "    with torch.no_grad():\n",
    "        for i in range(0, len(tokenized_texts['input_ids']), batch_size):\n",
    "            batch_input_ids = tokenized_texts['input_ids'][i:i + batch_size].to(device)\n",
    "            batch_attention_mask = tokenized_texts['attention_mask'][i:i + batch_size].to(device)\n",
    "\n",
    "            outputs = model(input_ids=batch_input_ids, attention_mask=batch_attention_mask)\n",
    "            preds = torch.nn.functional.softmax(outputs.logits, dim=-1)\n",
    "            predicted_labels = torch.argmax(preds, dim=1)\n",
    "            predictions.extend(predicted_labels.cpu().numpy())\n",
    "\n",
    "    return predictions\n",
    "\n",
    "predicted_labels_transformer = predict_climate_tweets(bert_uncased, climate_tokenised_bert, batch_size=32, device=device)\n",
    "\n",
    "# predicted labels\n",
    "inference_df['predicted_label_transformer'] = predicted_labels_transformer\n",
    "inference_df['predicted_label_transformer'] = inference_df['predicted_label_transformer'].replace({0: 'factual', 1: 'misinformation'})"
   ]
  },
  {
   "cell_type": "code",
   "execution_count": 9,
   "metadata": {},
   "outputs": [
    {
     "name": "stdout",
     "output_type": "stream",
     "text": [
      "Transformer Inference: \n",
      "Distribution of 'factual' vs 'misinformation' predictions:\n",
      "predicted_label_transformer\n",
      "factual           13864\n",
      "misinformation     5186\n",
      "Name: count, dtype: int64\n"
     ]
    },
    {
     "data": {
      "image/png": "[encoded data removed]",
      "text/plain": [
       "<Figure size 640x480 with 1 Axes>"
      ]
     },
     "metadata": {},
     "output_type": "display_data"
    }
   ],
   "source": [
    "# Count occurrences of each label\n",
    "label_counts = inference_df['predicted_label_transformer'].value_counts()\n",
    "\n",
    "print(\"Transformer Inference: \\nDistribution of 'factual' vs 'misinformation' predictions:\")\n",
    "print(label_counts)\n",
    "\n",
    "label_counts.plot(kind='bar')\n",
    "plt.title('Distribution of Factual vs Misinformation')\n",
    "\n",
    "plt.ylabel('Count')\n",
    "plt.show()"
   ]
  },
  {
   "cell_type": "markdown",
   "metadata": {},
   "source": [
    "# Non-Transfomer Inference\n",
    "\n",
    "Choose top performer"
   ]
  },
  {
   "cell_type": "code",
   "execution_count": null,
   "metadata": {},
   "outputs": [
    {
     "ename": "FileNotFoundError",
     "evalue": "[Errno 2] No such file or directory: './models/bidirectional_gru_model.pth'",
     "output_type": "error",
     "traceback": [
      "\u001b[0;31m---------------------------------------------------------------------------\u001b[0m",
      "\u001b[0;31mFileNotFoundError\u001b[0m                         Traceback (most recent call last)",
      "Cell \u001b[0;32mIn[3], line 5\u001b[0m\n\u001b[1;32m      1\u001b[0m \u001b[38;5;66;03m# loading model & tokeniser\u001b[39;00m\n\u001b[1;32m      3\u001b[0m \u001b[38;5;28;01mfrom\u001b[39;00m \u001b[38;5;21;01mmodel_architectures\u001b[39;00m \u001b[38;5;28;01mimport\u001b[39;00m BidirectionalGRUTextClassifier\n\u001b[0;32m----> 5\u001b[0m TOP_RNN_MODEL \u001b[38;5;241m=\u001b[39m \u001b[43mtorch\u001b[49m\u001b[38;5;241;43m.\u001b[39;49m\u001b[43mload\u001b[49m\u001b[43m(\u001b[49m\u001b[38;5;124;43m\"\u001b[39;49m\u001b[38;5;124;43m./models/bidirectional_gru_model.pth\u001b[39;49m\u001b[38;5;124;43m\"\u001b[39;49m\u001b[43m)\u001b[49m\n\u001b[1;32m      7\u001b[0m \u001b[38;5;28;01mwith\u001b[39;00m \u001b[38;5;28mopen\u001b[39m(\u001b[38;5;124m\"\u001b[39m\u001b[38;5;124m./cache/rnn_tokenizer_file.pkl\u001b[39m\u001b[38;5;124m\"\u001b[39m, \u001b[38;5;124m\"\u001b[39m\u001b[38;5;124mrb\u001b[39m\u001b[38;5;124m\"\u001b[39m) \u001b[38;5;28;01mas\u001b[39;00m f:\n\u001b[1;32m      8\u001b[0m     RNN_TOKENISER \u001b[38;5;241m=\u001b[39m pickle\u001b[38;5;241m.\u001b[39mload(f)\n",
      "File \u001b[0;32m~/miniconda3/envs/nlp_1/lib/python3.9/site-packages/torch/serialization.py:1319\u001b[0m, in \u001b[0;36mload\u001b[0;34m(f, map_location, pickle_module, weights_only, mmap, **pickle_load_args)\u001b[0m\n\u001b[1;32m   1316\u001b[0m \u001b[38;5;28;01mif\u001b[39;00m \u001b[38;5;124m\"\u001b[39m\u001b[38;5;124mencoding\u001b[39m\u001b[38;5;124m\"\u001b[39m \u001b[38;5;129;01mnot\u001b[39;00m \u001b[38;5;129;01min\u001b[39;00m pickle_load_args\u001b[38;5;241m.\u001b[39mkeys():\n\u001b[1;32m   1317\u001b[0m     pickle_load_args[\u001b[38;5;124m\"\u001b[39m\u001b[38;5;124mencoding\u001b[39m\u001b[38;5;124m\"\u001b[39m] \u001b[38;5;241m=\u001b[39m \u001b[38;5;124m\"\u001b[39m\u001b[38;5;124mutf-8\u001b[39m\u001b[38;5;124m\"\u001b[39m\n\u001b[0;32m-> 1319\u001b[0m \u001b[38;5;28;01mwith\u001b[39;00m \u001b[43m_open_file_like\u001b[49m\u001b[43m(\u001b[49m\u001b[43mf\u001b[49m\u001b[43m,\u001b[49m\u001b[43m \u001b[49m\u001b[38;5;124;43m\"\u001b[39;49m\u001b[38;5;124;43mrb\u001b[39;49m\u001b[38;5;124;43m\"\u001b[39;49m\u001b[43m)\u001b[49m \u001b[38;5;28;01mas\u001b[39;00m opened_file:\n\u001b[1;32m   1320\u001b[0m     \u001b[38;5;28;01mif\u001b[39;00m _is_zipfile(opened_file):\n\u001b[1;32m   1321\u001b[0m         \u001b[38;5;66;03m# The zipfile reader is going to advance the current file position.\u001b[39;00m\n\u001b[1;32m   1322\u001b[0m         \u001b[38;5;66;03m# If we want to actually tail call to torch.jit.load, we need to\u001b[39;00m\n\u001b[1;32m   1323\u001b[0m         \u001b[38;5;66;03m# reset back to the original position.\u001b[39;00m\n\u001b[1;32m   1324\u001b[0m         orig_position \u001b[38;5;241m=\u001b[39m opened_file\u001b[38;5;241m.\u001b[39mtell()\n",
      "File \u001b[0;32m~/miniconda3/envs/nlp_1/lib/python3.9/site-packages/torch/serialization.py:659\u001b[0m, in \u001b[0;36m_open_file_like\u001b[0;34m(name_or_buffer, mode)\u001b[0m\n\u001b[1;32m    657\u001b[0m \u001b[38;5;28;01mdef\u001b[39;00m \u001b[38;5;21m_open_file_like\u001b[39m(name_or_buffer, mode):\n\u001b[1;32m    658\u001b[0m     \u001b[38;5;28;01mif\u001b[39;00m _is_path(name_or_buffer):\n\u001b[0;32m--> 659\u001b[0m         \u001b[38;5;28;01mreturn\u001b[39;00m \u001b[43m_open_file\u001b[49m\u001b[43m(\u001b[49m\u001b[43mname_or_buffer\u001b[49m\u001b[43m,\u001b[49m\u001b[43m \u001b[49m\u001b[43mmode\u001b[49m\u001b[43m)\u001b[49m\n\u001b[1;32m    660\u001b[0m     \u001b[38;5;28;01melse\u001b[39;00m:\n\u001b[1;32m    661\u001b[0m         \u001b[38;5;28;01mif\u001b[39;00m \u001b[38;5;124m\"\u001b[39m\u001b[38;5;124mw\u001b[39m\u001b[38;5;124m\"\u001b[39m \u001b[38;5;129;01min\u001b[39;00m mode:\n",
      "File \u001b[0;32m~/miniconda3/envs/nlp_1/lib/python3.9/site-packages/torch/serialization.py:640\u001b[0m, in \u001b[0;36m_open_file.__init__\u001b[0;34m(self, name, mode)\u001b[0m\n\u001b[1;32m    639\u001b[0m \u001b[38;5;28;01mdef\u001b[39;00m \u001b[38;5;21m__init__\u001b[39m(\u001b[38;5;28mself\u001b[39m, name, mode):\n\u001b[0;32m--> 640\u001b[0m     \u001b[38;5;28msuper\u001b[39m()\u001b[38;5;241m.\u001b[39m\u001b[38;5;21m__init__\u001b[39m(\u001b[38;5;28;43mopen\u001b[39;49m\u001b[43m(\u001b[49m\u001b[43mname\u001b[49m\u001b[43m,\u001b[49m\u001b[43m \u001b[49m\u001b[43mmode\u001b[49m\u001b[43m)\u001b[49m)\n",
      "\u001b[0;31mFileNotFoundError\u001b[0m: [Errno 2] No such file or directory: './models/bidirectional_gru_model.pth'"
     ]
    }
   ],
   "source": [
    "# loading model & tokeniser -------\n",
    "\n",
    "from model_architectures import BidirectionalGRUTextClassifier\n",
    "\n",
    "TOP_MODEL_PATH = \"./models/bidirectional_gru_model.pth\"\n",
    "RNN_BASED_MODEL = torch.load(TOP_MODEL_PATH)\n",
    "\n",
    "with open(\"./cache/rnn_tokenizer_file.pkl\", \"rb\") as f:\n",
    "    RNN_TOKENISER = pickle.load(f)"
   ]
  },
  {
   "cell_type": "code",
   "execution_count": 1,
   "metadata": {},
   "outputs": [
    {
     "ename": "NameError",
     "evalue": "name 'TOP_RNN_MODEL' is not defined",
     "output_type": "error",
     "traceback": [
      "\u001b[0;31m---------------------------------------------------------------------------\u001b[0m",
      "\u001b[0;31mNameError\u001b[0m                                 Traceback (most recent call last)",
      "Cell \u001b[0;32mIn[1], line 8\u001b[0m\n\u001b[1;32m      4\u001b[0m \u001b[38;5;28;01mfrom\u001b[39;00m \u001b[38;5;21;01mdata_loader_helper_fns\u001b[39;00m \u001b[38;5;28;01mimport\u001b[39;00m collate_fn\n\u001b[1;32m      6\u001b[0m \u001b[38;5;66;03m# # pipeline for GRU/RNNs etc \u001b[39;00m\n\u001b[0;32m----> 8\u001b[0m \u001b[43mTOP_RNN_MODEL\u001b[49m\u001b[38;5;241m.\u001b[39meval()\n\u001b[1;32m     10\u001b[0m TOKENIZER_FILEPATH \u001b[38;5;241m=\u001b[39m \u001b[38;5;124m'\u001b[39m\u001b[38;5;124m./cache/rnn_tokenizer_file.pkl\u001b[39m\u001b[38;5;124m'\u001b[39m\n\u001b[1;32m     11\u001b[0m INFERENCE_TOKENISED_FILEPATH \u001b[38;5;241m=\u001b[39m \u001b[38;5;124m'\u001b[39m\u001b[38;5;124m./cache/climate_tokenised_rnn.pkl\u001b[39m\u001b[38;5;124m'\u001b[39m\n",
      "\u001b[0;31mNameError\u001b[0m: name 'TOP_RNN_MODEL' is not defined"
     ]
    }
   ],
   "source": [
    "# load helper functions \n",
    "\n",
    "from tokenizer_helper_fns import batch_tokenize, custom_analyzer, vocab_mapping\n",
    "from data_loader_helper_fns import collate_fn\n",
    "\n",
    "# pipeline for GRU/RNNs etc ==========\n",
    "\n",
    "TOKENIZER_FILEPATH = './cache/rnn_tokenizer_file.pkl'\n",
    "INFERENCE_TOKENISED_FILEPATH = './cache/climate_tokenised_rnn.pkl'\n",
    "\n",
    "if os.path.exists(INFERENCE_TOKENISED_FILEPATH):\n",
    "    with open(INFERENCE_TOKENISED_FILEPATH, 'rb') as f:\n",
    "        climate_tokenised_rnn = pickle.load(f)\n",
    "    print(f\"Tokenized climate tweets pkl file found. Loading data...\")\n",
    "else:    \n",
    "    with open(TOKENIZER_FILEPATH, 'rb') as f:\n",
    "        rnn_tokenizer = pickle.load(f)\n",
    "        \n",
    "    climate_tokenised_rnn = batch_tokenize(\n",
    "        inference_df[\"text\"],\n",
    "        32,\n",
    "        lambda text: custom_analyzer(text, trained_tokenizer=rnn_tokenizer)\n",
    "    )\n",
    "    # Convert to dictionaries with keys: \"input_ids\", \"attention_mask\"\n",
    "    climate_tokenised = [\n",
    "        {\n",
    "            \"input_ids\": encoding.ids,\n",
    "            \"attention_mask\": encoding.attention_mask,\n",
    "        }\n",
    "        for encoding in climate_tokenised_rnn\n",
    "    ]\n",
    "    # save tokenised text\n",
    "    with open(INFERENCE_TOKENISED_FILEPATH, 'wb') as f:\n",
    "        pickle.dump(climate_tokenised_rnn, f)\n",
    "\n",
    "# VOCAB MAPPING ---------------------------------------------------------------------------------------------------\n",
    "vocab_idx = vocab_mapping(tokenized_text=climate_tokenised) \n",
    "\n",
    "# CREATE DATALOADER ---------------------------------------------------------------------------------------------------\n",
    "climate_dl = DataLoader(\n",
    "    dataset=list(climate_tokenised_rnn),\n",
    "    batch_size=32, \n",
    "    shuffle=False, \n",
    "    collate_fn=lambda x: collate_fn(x, include_lengths=True)\n",
    ")\n",
    "\n",
    "# ADD EMBEDDINGS ---------------------------------------------------------------------------------------------------\n",
    "# reuse same embedding tensor and mapping"
   ]
  },
  {
   "cell_type": "code",
   "execution_count": null,
   "metadata": {},
   "outputs": [],
   "source": [
    "def gru_inference(model, dataloader, use_lengths=True):\n",
    "    model = model.to(device)\n",
    "    model.eval()\n",
    "    predictions = []\n",
    "\n",
    "    # Inference loop\n",
    "    with torch.no_grad():\n",
    "        for batch in tqdm(dataloader, desc=\"Evaluating\", leave=False):\n",
    "            if use_lengths:\n",
    "                x_batch, lengths = batch\n",
    "                x_batch, lengths = x_batch.to(device), lengths.to(device)\n",
    "                logits = model(x_batch, lengths)\n",
    "            else:\n",
    "                x_batch = batch\n",
    "                x_batch = x_batch.to(device)\n",
    "                logits = model(x_batch)\n",
    "\n",
    "            preds = torch.argmax(logits, dim=-1)  # Get class predictions\n",
    "            predictions.extend(preds.cpu().numpy())  # Move to CPU and convert to NumPy\n",
    "\n",
    "    return predictions\n",
    "\n",
    "# inference\n",
    "device = torch.device(\"mps\") if torch.backends.mps.is_available() else torch.device(\"cpu\")\n",
    "\n",
    "predicted_labels_gru = gru_inference(RNN_BASED_MODEL, inference_df, use_lengths=True)\n",
    "\n",
    "inference_df['predicted_label_gru'] = predicted_labels_gru\n",
    "inference_df['predicted_label_gru'] = inference_df['predicted_label_transformer'].replace({0: 'factual', 1: 'misinformation'})"
   ]
  },
  {
   "cell_type": "code",
   "execution_count": null,
   "metadata": {},
   "outputs": [],
   "source": [
    "# print predictions from both models\n",
    "\n",
    "output_path_inference = \"/Users/henrybaker/Documents/repositories/nlp/nlp_research_note/data/climate_predictions.csv\"\n",
    "print(f\"Predictions saved to {output_path_inference}.\")"
   ]
  }
 ],
 "metadata": {
  "kernelspec": {
   "display_name": "nlp_1",
   "language": "python",
   "name": "python3"
  },
  "language_info": {
   "codemirror_mode": {
    "name": "ipython",
    "version": 3
   },
   "file_extension": ".py",
   "mimetype": "text/x-python",
   "name": "python",
   "nbconvert_exporter": "python",
   "pygments_lexer": "ipython3",
   "version": "3.9.21"
  }
 },
 "nbformat": 4,
 "nbformat_minor": 2
}
